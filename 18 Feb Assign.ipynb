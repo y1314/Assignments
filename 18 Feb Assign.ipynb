{
 "cells": [
  {
   "cell_type": "markdown",
   "id": "f166146b-8963-446b-aab3-a77572543fc3",
   "metadata": {},
   "source": [
    "#### Q1. What is an API? Give an example, where an API is used in real life.\n"
   ]
  },
  {
   "cell_type": "markdown",
   "id": "7dc0a388-fbe7-43c4-83bf-4402e6c1e21a",
   "metadata": {},
   "source": [
    "Ans -  APIs are mechanisms that enable two software components to communicate with each other using a set of definitions and protocols. \n",
    "For example, the weather software system contains daily weather data. \n",
    "The weather app on your phone “talks” to this system via APIs and shows you daily weather updates on your phone."
   ]
  },
  {
   "cell_type": "markdown",
   "id": "80275880-1a3f-427a-acf9-199afb46bdda",
   "metadata": {},
   "source": [
    "#### Q2. Give advantages and disadvantages of using API.\n"
   ]
  },
  {
   "cell_type": "markdown",
   "id": "34286297-aba8-4f73-aa29-15f6cfcd74f2",
   "metadata": {},
   "source": [
    "Advantages of using API - \n",
    "* Applications: Access to APIs ensures more flexibility in information-transfer processes.\n",
    "* Reach: APIs let you create layers in apps in order to distribute information to different audiences.\n",
    "* Customization: Furthermore, it can serve as a solution to create different experiences for users, letting protocols, functions, and commands be adapted according to specific demands.\n",
    "* Efficiency: When you have content that is automatically published and made available on different channels simultaneously, APIs allow for more efficient data distribution.\n",
    "* Adaptability: One of the greatest benefits of APIs is the ability it has to adapt to changes through data migration and flexibility of services.\n",
    "\n",
    "Disadvatages of Using API - \n",
    "* Creating API is a very time-consuming process.\n",
    "* A fixed scale is necessary.\n",
    "* Imprecise boundary delineation.\n",
    "* To create API, programming knowledge is necessary.\n",
    "* Maintenance cost is very high.\n",
    "* It can crash when testing API."
   ]
  },
  {
   "cell_type": "markdown",
   "id": "e7f37926-ff28-42f9-9516-b91920e35444",
   "metadata": {},
   "source": [
    "#### Q3. What is a Web API? Differentiate between API and Web API.\n"
   ]
  },
  {
   "cell_type": "markdown",
   "id": "4e024286-7267-46b5-8817-c8162bf77c06",
   "metadata": {},
   "source": [
    "Ans - Web API is an API can be accessed over the web using the HTTP protocol. It is a framework that helps you to create and develop HTTP based RESTFUL services.\n",
    "Web API is used in either a web server or a web browser. \n",
    "\n",
    "API help use to communicate between different different systems. And Web API is subset of API which uses HTTP protocol. If we want to communicate between same system we can use API and if we want to communicate between different applications through web than we use Web API."
   ]
  },
  {
   "cell_type": "markdown",
   "id": "c85e4160-9837-4aa7-a1c4-0575344b2d97",
   "metadata": {},
   "source": [
    "#### Q4. Explain REST and SOAP Architecture. Mention shortcomings of SOAP.\n"
   ]
  },
  {
   "cell_type": "markdown",
   "id": "d7ddc26b-03cf-4095-9c9a-a0b3791d9339",
   "metadata": {},
   "source": [
    "**REST** - REST is a software architectural style that defines the set of rules to be used for creating web services. Interaction in REST based systems happen through Internet’s Hypertext Transfer Protocol (HTTP). \n",
    "\n",
    "When HTTP is used in a transition, as it most commonly is, the GET, HEAD, POST, PUT, PATCH, DELETE, CONNECT, OPTIONS and TRACE operations are available.\n",
    "\n",
    "Web services which follow the REST architectural style are known as RESTful web services.\n",
    "\n",
    "**SOAP** - Simple Object Access Protocol(SOAP) is a network protocol for exchanging structured data between nodes. It uses XML format to transfer messages. It works on top of application layer protocols like HTML and SMTP for notations and transmission. SOAP allows processes to communicate throughout platforms, languages and operating systems, since protocols like HTTP are already installed on all platforms.\n",
    "\n",
    "*Shortcomings of SOAP are -* \n",
    "* Highly Complex\n",
    "* Not variety of data formats\n",
    "* API calls are not catched.\n",
    "* Uses more bandwidth."
   ]
  },
  {
   "cell_type": "markdown",
   "id": "08a2d361-b6d9-4041-bdfe-f1c566a7550b",
   "metadata": {},
   "source": [
    "#### Q5. Differentiate between REST and SOAP."
   ]
  },
  {
   "cell_type": "markdown",
   "id": "b741f153-c4bd-4100-8d75-9aa1cd6b236e",
   "metadata": {},
   "source": [
    "| REST              |             SOAP |\n",
    "| ------------------------|------ |\n",
    "|It works with GET, POST, PUT, DELETE | It is XML based and relies on SOAP, it works with WSDL. |\n",
    "| Less structured -> less bulky data | Highly structured/typed |\n",
    "| Designed with mobile devices in mind | Designed with large enterprise applications in mind |\n",
    "| Calls can be cached | Calls cannot be catched. |\n",
    "| Less Secure | More Secure |"
   ]
  }
 ],
 "metadata": {
  "kernelspec": {
   "display_name": "Python 3 (ipykernel)",
   "language": "python",
   "name": "python3"
  },
  "language_info": {
   "codemirror_mode": {
    "name": "ipython",
    "version": 3
   },
   "file_extension": ".py",
   "mimetype": "text/x-python",
   "name": "python",
   "nbconvert_exporter": "python",
   "pygments_lexer": "ipython3",
   "version": "3.10.8"
  }
 },
 "nbformat": 4,
 "nbformat_minor": 5
}
