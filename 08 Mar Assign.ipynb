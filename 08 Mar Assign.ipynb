{
 "cells": [
  {
   "cell_type": "markdown",
   "id": "0572dff9-791b-4050-be8c-72be565abb28",
   "metadata": {},
   "source": [
    "### Q1. What is the Probability density function?\n"
   ]
  },
  {
   "cell_type": "markdown",
   "id": "c2dbb8f5-4ad5-47dd-bc46-53670cbb3502",
   "metadata": {},
   "source": [
    "A probability density function (PDF) is used to define the random variable’s probability coming within a distinct range of values, as opposed to taking on any one value. The function explains the probability density function of normal distribution and how mean and deviation exists."
   ]
  },
  {
   "cell_type": "markdown",
   "id": "68c7cbb1-ecf3-4b41-8908-1468c7f0cf19",
   "metadata": {},
   "source": [
    "### Q2. What are the types of Probability distribution?\n"
   ]
  },
  {
   "cell_type": "markdown",
   "id": "99306c5d-4634-45e2-a568-991c4e8df572",
   "metadata": {},
   "source": [
    "Type of probability distributions are - \n",
    "* Normal / Gaussian Distribution\n",
    "* Bernaulli distribution\n",
    "* Uniform distribution\n",
    "* Poisson distribution\n",
    "* Log normal distribution\n",
    "* Binomail distribution"
   ]
  },
  {
   "cell_type": "markdown",
   "id": "55ab997c-36cb-4f50-95dd-d1d33af7fd78",
   "metadata": {},
   "source": [
    "### Q3. Write a Python function to calculate the probability density function of a normal distribution with given mean and standard deviation at a given point.\n"
   ]
  },
  {
   "cell_type": "code",
   "execution_count": 10,
   "id": "02ab48bd-0f43-4194-b3bc-9f2ecde4e1b2",
   "metadata": {},
   "outputs": [],
   "source": [
    "from scipy.stats import norm\n",
    "import numpy as np"
   ]
  },
  {
   "cell_type": "code",
   "execution_count": 13,
   "id": "479faab2-bb32-4855-aaab-0939afe83166",
   "metadata": {},
   "outputs": [],
   "source": [
    "def find_pdf(data, point):\n",
    "    \n",
    "    mean = np.mean(data)\n",
    "    std = np.std(data)\n",
    "    \n",
    "    pdf_probability = norm.pdf(point, loc=mean, scale=std)\n",
    "    return pdf_probability"
   ]
  },
  {
   "cell_type": "code",
   "execution_count": 14,
   "id": "b28224cd-0de3-48d8-b626-1204a0af06b6",
   "metadata": {},
   "outputs": [
    {
     "data": {
      "text/plain": [
       "0.0804410163156249"
      ]
     },
     "execution_count": 14,
     "metadata": {},
     "output_type": "execute_result"
    }
   ],
   "source": [
    "data1 = [-5, -4, -3, -2, -1, 0, 1, 2, 3, 4, 5]\n",
    "find_pdf(data = data1, point = 3)"
   ]
  },
  {
   "cell_type": "markdown",
   "id": "84b56c49-afb9-4bd7-918a-aa201987bc1b",
   "metadata": {},
   "source": [
    "### Q4. What are the properties of Binomial distribution? Give two examples of events where binomial distribution can be applied.\n"
   ]
  },
  {
   "cell_type": "markdown",
   "id": "fbbc5d3f-cf2d-4020-81e2-451b843e938b",
   "metadata": {},
   "source": [
    "The properties of the binomial distribution are:\n",
    "\n",
    "1. There are two possible outcomes: true or false, success or failure, yes or no.\n",
    "2. There is ‘n’ number of independent trials or a fixed number of n times repeated trials.\n",
    "3. The probability of success or failure remains the same for each trial.\n",
    "\n",
    "Example - \n",
    "1. Yes/No survey.\n",
    "2. To find number of male and female student in the university."
   ]
  },
  {
   "cell_type": "markdown",
   "id": "43820000-d32f-4767-b944-c7bbe1b9ebbe",
   "metadata": {},
   "source": [
    "### Q5. Generate a random sample of size 1000 from a binomial distribution with probability of success 0.4 and plot a histogram of the results using matplotlib.\n"
   ]
  },
  {
   "cell_type": "code",
   "execution_count": 5,
   "id": "97aaf29f-f164-41a8-a279-e16aaa6328ca",
   "metadata": {},
   "outputs": [],
   "source": [
    "from scipy.stats import binom\n",
    "import matplotlib.pyplot as plt\n"
   ]
  },
  {
   "cell_type": "code",
   "execution_count": 8,
   "id": "7bfe54f4-13ea-4cbd-a6e8-54712114ba96",
   "metadata": {},
   "outputs": [
    {
     "data": {
      "text/plain": [
       "(array([  5.,   0.,   0.,   0.,   0.,  38.,   0.,   0.,   0.,   0.,   0.,\n",
       "        114.,   0.,   0.,   0.,   0., 242.,   0.,   0.,   0.,   0.,   0.,\n",
       "        252.,   0.,   0.,   0.,   0., 202.,   0.,   0.,   0.,   0.,   0.,\n",
       "        107.,   0.,   0.,   0.,   0.,  31.,   0.,   0.,   0.,   0.,   0.,\n",
       "          8.,   0.,   0.,   0.,   0.,   1.]),\n",
       " array([0.  , 0.18, 0.36, 0.54, 0.72, 0.9 , 1.08, 1.26, 1.44, 1.62, 1.8 ,\n",
       "        1.98, 2.16, 2.34, 2.52, 2.7 , 2.88, 3.06, 3.24, 3.42, 3.6 , 3.78,\n",
       "        3.96, 4.14, 4.32, 4.5 , 4.68, 4.86, 5.04, 5.22, 5.4 , 5.58, 5.76,\n",
       "        5.94, 6.12, 6.3 , 6.48, 6.66, 6.84, 7.02, 7.2 , 7.38, 7.56, 7.74,\n",
       "        7.92, 8.1 , 8.28, 8.46, 8.64, 8.82, 9.  ]),\n",
       " <BarContainer object of 50 artists>)"
      ]
     },
     "execution_count": 8,
     "metadata": {},
     "output_type": "execute_result"
    },
    {
     "data": {
      "image/png": "[encoded data removed]",
      "text/plain": [
       "<Figure size 640x480 with 1 Axes>"
      ]
     },
     "metadata": {},
     "output_type": "display_data"
    }
   ],
   "source": [
    "binom_rnd_sample = binom.rvs(n = 10, p = 0.4, size = 1000)\n",
    "plt.hist(binom_rnd_sample, bins = 50)"
   ]
  },
  {
   "cell_type": "markdown",
   "id": "ec73bd33-9c72-433e-bbeb-35364d755c6b",
   "metadata": {},
   "source": [
    "### Q6. Write a Python function to calculate the cumulative distribution function of a Poisson distribution with given mean at a given point.\n"
   ]
  },
  {
   "cell_type": "code",
   "execution_count": 1,
   "id": "77009958-ba8d-4059-a38d-182b58e368f1",
   "metadata": {},
   "outputs": [],
   "source": [
    "import numpy as np\n",
    "from scipy.stats import poisson\n",
    "\n",
    "def find_cdf(point, mean):\n",
    "    \n",
    "    cdf_poisson = poisson.cdf(k=point, mu = mean)\n",
    "    return cdf_poisson\n"
   ]
  },
  {
   "cell_type": "code",
   "execution_count": 2,
   "id": "3aaa7113-f28b-4c7d-8ebd-6338659e9135",
   "metadata": {},
   "outputs": [
    {
     "data": {
      "text/plain": [
       "0.978790348169284"
      ]
     },
     "execution_count": 2,
     "metadata": {},
     "output_type": "execute_result"
    }
   ],
   "source": [
    "data3 = np.random.poisson(lam = 1.0, size = 200)\n",
    "mean = np.mean(data3)\n",
    "\n",
    "find_cdf(mean = mean, point = 3)\n"
   ]
  },
  {
   "cell_type": "markdown",
   "id": "bb88e330-986b-4351-9bc6-63efbeb19667",
   "metadata": {},
   "source": [
    "### Q7. How Binomial distribution different from Poisson distribution?\n"
   ]
  },
  {
   "cell_type": "markdown",
   "id": "4e92024a-4516-4076-80c3-7f08aa59bdc8",
   "metadata": {},
   "source": [
    "* Binomial distribution describes the distribution of binary data from a finite sample. Thus it gives the probability of getting r events out of n trials. \n",
    "\n",
    "* Poisson distribution describes the distribution of binary data from an infinite sample. Thus it gives the probability of getting r events in a population."
   ]
  },
  {
   "cell_type": "markdown",
   "id": "0b36b386-112d-4bb0-8552-ccba68546b94",
   "metadata": {},
   "source": [
    "### Q8. Generate a random sample of size 1000 from a Poisson distribution with mean 5 and calculate the sample mean and variance.\n"
   ]
  },
  {
   "cell_type": "code",
   "execution_count": 1,
   "id": "6a638728-9e88-4340-9708-3a8155dffe41",
   "metadata": {},
   "outputs": [],
   "source": [
    "from scipy.stats import poisson\n",
    "import matplotlib.pyplot as plt"
   ]
  },
  {
   "cell_type": "code",
   "execution_count": 3,
   "id": "302d33be-a0e0-43f3-b643-7f759c3b51a9",
   "metadata": {},
   "outputs": [
    {
     "data": {
      "text/plain": [
       "(array([  6.,   0.,   0.,  34.,   0.,   0.,   0.,  71.,   0.,   0.,   0.,\n",
       "        161.,   0.,   0.,   0., 163.,   0.,   0.,   0., 182.,   0.,   0.,\n",
       "          0., 135.,   0.,   0., 117.,   0.,   0.,   0.,  61.,   0.,   0.,\n",
       "          0.,  34.,   0.,   0.,   0.,  19.,   0.,   0.,   0.,  12.,   0.,\n",
       "          0.,   0.,   3.,   0.,   0.,   2.]),\n",
       " array([ 0.  ,  0.26,  0.52,  0.78,  1.04,  1.3 ,  1.56,  1.82,  2.08,\n",
       "         2.34,  2.6 ,  2.86,  3.12,  3.38,  3.64,  3.9 ,  4.16,  4.42,\n",
       "         4.68,  4.94,  5.2 ,  5.46,  5.72,  5.98,  6.24,  6.5 ,  6.76,\n",
       "         7.02,  7.28,  7.54,  7.8 ,  8.06,  8.32,  8.58,  8.84,  9.1 ,\n",
       "         9.36,  9.62,  9.88, 10.14, 10.4 , 10.66, 10.92, 11.18, 11.44,\n",
       "        11.7 , 11.96, 12.22, 12.48, 12.74, 13.  ]),\n",
       " <BarContainer object of 50 artists>)"
      ]
     },
     "execution_count": 3,
     "metadata": {},
     "output_type": "execute_result"
    },
    {
     "data": {
      "image/png": "[encoded data removed]",
      "text/plain": [
       "<Figure size 640x480 with 1 Axes>"
      ]
     },
     "metadata": {},
     "output_type": "display_data"
    }
   ],
   "source": [
    "pois_rnd_sample = poisson.rvs(mu = 5, size = 1000)\n",
    "plt.hist(pois_rnd_sample, bins = 50)"
   ]
  },
  {
   "cell_type": "markdown",
   "id": "61901e9a-6565-480c-892b-e214ebe3530a",
   "metadata": {},
   "source": [
    "### Q9. How mean and variance are related in Binomial distribution and Poisson distribution?\n"
   ]
  },
  {
   "cell_type": "markdown",
   "id": "b90e429c-121a-40b6-8544-e2b6b45536f1",
   "metadata": {},
   "source": [
    "* Binomial distribution - Mean and variance are different\n",
    "* Mean - n*p\n",
    "* Variance - npq\n",
    "\n",
    "* Poisson distribtuion - Mean and variance is same\n",
    "* Mean = Variance = lambda * t\n"
   ]
  },
  {
   "cell_type": "markdown",
   "id": "d3293985-c1d4-4bd3-ae57-5287ab909415",
   "metadata": {},
   "source": [
    "### Q10. In normal distribution with respect to mean position, where does the least frequent data appear?"
   ]
  },
  {
   "cell_type": "markdown",
   "id": "598ba2f5-b68e-4189-9727-912b92c4a68b",
   "metadata": {},
   "source": [
    "Ans - In normal distribution most of the observed data is clustered near the mean, while the data become less frequent when farther away from the mean."
   ]
  },
  {
   "cell_type": "code",
   "execution_count": null,
   "id": "12183bc8-b3ff-4390-9c42-5650164a49d1",
   "metadata": {},
   "outputs": [],
   "source": []
  }
 ],
 "metadata": {
  "kernelspec": {
   "display_name": "Python 3 (ipykernel)",
   "language": "python",
   "name": "python3"
  },
  "language_info": {
   "codemirror_mode": {
    "name": "ipython",
    "version": 3
   },
   "file_extension": ".py",
   "mimetype": "text/x-python",
   "name": "python",
   "nbconvert_exporter": "python",
   "pygments_lexer": "ipython3",
   "version": "3.10.8"
  }
 },
 "nbformat": 4,
 "nbformat_minor": 5
}
