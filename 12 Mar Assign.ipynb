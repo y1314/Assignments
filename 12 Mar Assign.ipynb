{
 "cells": [
  {
   "cell_type": "markdown",
   "id": "66e8879c-abe2-45a0-92b7-dadfd1c34789",
   "metadata": {
    "tags": []
   },
   "source": [
    "### Q1. Calculate the 95% confidence interval for a sample of data with a mean of 50 and a standard deviation of 5 using Python. Interpret the results."
   ]
  },
  {
   "cell_type": "code",
   "execution_count": 1,
   "id": "067bad85-adb3-469b-aa1b-4095c5839e70",
   "metadata": {},
   "outputs": [
    {
     "name": "stdout",
     "output_type": "stream",
     "text": [
      "Confidence Interval: [49.02001800772997, 50.97998199227003]\n"
     ]
    }
   ],
   "source": [
    "import scipy.stats as stats\n",
    "\n",
    "mean = 50\n",
    "std_dev = 5\n",
    "sample_size = 100  # Number of data points in the sample\n",
    "confidence_level = 0.95\n",
    "\n",
    "# Calculate the standard error\n",
    "std_error = std_dev / (sample_size ** 0.5)\n",
    "\n",
    "# Calculate the margin of error\n",
    "margin_of_error = stats.norm.ppf((1 + confidence_level) / 2) * std_error\n",
    "\n",
    "# Calculate the lower and upper bounds of the confidence interval\n",
    "lower_bound = mean - margin_of_error\n",
    "upper_bound = mean + margin_of_error\n",
    "\n",
    "# Print the confidence interval\n",
    "print(f\"Confidence Interval: [{lower_bound}, {upper_bound}]\")\n"
   ]
  },
  {
   "cell_type": "markdown",
   "id": "e2659c4e-3ebd-4ffb-8991-245ce49b2476",
   "metadata": {},
   "source": [
    "### Q2. Conduct a chi-square goodness of fit test to determine if the distribution of colors of M&Ms in a bag matches the expected distribution of 20% blue, 20% orange, 20% green, 10% yellow, 10% red, and 20% brown. Use Python to perform the test with a significance level of 0.05.\n"
   ]
  },
  {
   "cell_type": "code",
   "execution_count": 21,
   "id": "c73df902-7e0e-4a29-a7aa-d57b2c4b73b3",
   "metadata": {},
   "outputs": [
    {
     "data": {
      "text/plain": [
       "[60.0, 60.0, 60.0, 30.0, 30.0, 60.0]"
      ]
     },
     "execution_count": 21,
     "metadata": {},
     "output_type": "execute_result"
    }
   ],
   "source": [
    "import scipy.stats as stat\n",
    "import numpy as np\n",
    "import pandas as pd\n",
    "# let the sample size = 500\n",
    "\n",
    "n1 = 300\n",
    "alpha_value = 0.05\n",
    "exp_lst = [0.2, 0.2, 0.2, 0.1, 0.1, 0.2]\n",
    "\n",
    "expected_sample = [n1 * i for i in exp_lst]\n",
    "expected_sample"
   ]
  },
  {
   "cell_type": "code",
   "execution_count": 8,
   "id": "ec22ffcc-4d86-4415-9e1b-25341b8f521d",
   "metadata": {},
   "outputs": [
    {
     "name": "stdout",
     "output_type": "stream",
     "text": [
      "NUll: There is no relative difference in observed and expected values.\n",
      "Alternative: There is difference in observed and expected value.\n",
      "\n"
     ]
    }
   ],
   "source": [
    "# Formulating hypothesis\n",
    "\n",
    "print(\"\"\"NUll: There is no relative difference in observed and expected values.\n",
    "Alternative: There is difference in observed and expected value.\\n\"\"\")"
   ]
  },
  {
   "cell_type": "code",
   "execution_count": 15,
   "id": "b8430ca8-4fb2-49ff-9f0b-609d5490c146",
   "metadata": {},
   "outputs": [
    {
     "name": "stdout",
     "output_type": "stream",
     "text": [
      "chi_score: 24.0 p_value: 0.0002171129434527233\n"
     ]
    }
   ],
   "source": [
    "chi_score, p_value = stat.chisquare(f_obs = expected_sample)\n",
    "print(\"chi_score:\", chi_score, \"p_value:\", p_value)"
   ]
  },
  {
   "cell_type": "code",
   "execution_count": 18,
   "id": "ce951e61-68e9-4ba5-a7c1-b2eb7b8f520f",
   "metadata": {},
   "outputs": [
    {
     "data": {
      "text/plain": [
       "11.070497693516351"
      ]
     },
     "execution_count": 18,
     "metadata": {},
     "output_type": "execute_result"
    }
   ],
   "source": [
    "#find the critical value\n",
    "dof = len(expected_sample) -1 \n",
    "critical_value = stat.chi2.ppf(1-alpha_value, dof)\n",
    "critical_value"
   ]
  },
  {
   "cell_type": "code",
   "execution_count": 20,
   "id": "a51463fd-f35a-489b-849c-053a488b5d47",
   "metadata": {},
   "outputs": [
    {
     "name": "stdout",
     "output_type": "stream",
     "text": [
      "Reject the null hypothesis\n"
     ]
    }
   ],
   "source": [
    "if chi_score > critical_value :\n",
    "    print(\"Reject the null hypothesis\")\n",
    "    \n",
    "else :\n",
    "    print(\"Accept the null hypothesis\")\n"
   ]
  },
  {
   "cell_type": "markdown",
   "id": "c464666f-9f22-458d-8cc3-9741a3087c1c",
   "metadata": {},
   "source": [
    "### Q3. Use Python to calculate the chi-square statistic and p-value for a contingency table with the following data:\n",
    "### Interpret the results of the test.\n",
    "\n",
    "|   | Group A | Group B | \n",
    "|------|-----|-------|\n",
    "|Outcome 1 | 20 | 15 |\n",
    "| Outcome 2 |10 |25 |\n",
    "| Outcome 3 |15 |20 |"
   ]
  },
  {
   "cell_type": "code",
   "execution_count": 22,
   "id": "7b0b96b1-ed84-4b8d-ac3b-6b2f5cd1c7d1",
   "metadata": {},
   "outputs": [
    {
     "data": {
      "text/html": [
       "<div>\n",
       "<style scoped>\n",
       "    .dataframe tbody tr th:only-of-type {\n",
       "        vertical-align: middle;\n",
       "    }\n",
       "\n",
       "    .dataframe tbody tr th {\n",
       "        vertical-align: top;\n",
       "    }\n",
       "\n",
       "    .dataframe thead th {\n",
       "        text-align: right;\n",
       "    }\n",
       "</style>\n",
       "<table border=\"1\" class=\"dataframe\">\n",
       "  <thead>\n",
       "    <tr style=\"text-align: right;\">\n",
       "      <th></th>\n",
       "      <th>A</th>\n",
       "      <th>B</th>\n",
       "    </tr>\n",
       "  </thead>\n",
       "  <tbody>\n",
       "    <tr>\n",
       "      <th>outcome_1</th>\n",
       "      <td>20</td>\n",
       "      <td>15</td>\n",
       "    </tr>\n",
       "    <tr>\n",
       "      <th>outcome_2</th>\n",
       "      <td>10</td>\n",
       "      <td>25</td>\n",
       "    </tr>\n",
       "    <tr>\n",
       "      <th>outcome_3</th>\n",
       "      <td>15</td>\n",
       "      <td>20</td>\n",
       "    </tr>\n",
       "  </tbody>\n",
       "</table>\n",
       "</div>"
      ],
      "text/plain": [
       "            A   B\n",
       "outcome_1  20  15\n",
       "outcome_2  10  25\n",
       "outcome_3  15  20"
      ]
     },
     "execution_count": 22,
     "metadata": {},
     "output_type": "execute_result"
    }
   ],
   "source": [
    "table = pd.DataFrame(data = {'A':[20, 10, 15], 'B':[15, 25, 20]}, index = ['outcome_1', 'outcome_2', 'outcome_3'])\n",
    "table"
   ]
  },
  {
   "cell_type": "code",
   "execution_count": 41,
   "id": "ccacfb0d-2851-4ddf-93a1-159b44f46be9",
   "metadata": {},
   "outputs": [
    {
     "name": "stdout",
     "output_type": "stream",
     "text": [
      "chi_stats_score: 5.833333333333334, chi_stat_p_value: 0.05411376622282158, chi_stat dof: 2\n"
     ]
    }
   ],
   "source": [
    "from scipy.stats import chi2_contingency\n",
    "chi_stats = stat.chi2_contingency(observed = table)\n",
    "print(f\"chi_stats_score: {chi_stats[0]}, chi_stat_p_value: {chi_stats[1]}, chi_stat dof: {chi_stats[2]}\")\n"
   ]
  },
  {
   "cell_type": "markdown",
   "id": "88e31839-120a-450b-9e99-7b9647915503",
   "metadata": {},
   "source": [
    "### Q4. A study of the prevalence of smoking in a population of 500 individuals found that 60 individuals smoked. Use Python to calculate the 95% confidence interval for the true proportion of individuals in the population who smoke.\n"
   ]
  },
  {
   "cell_type": "code",
   "execution_count": 3,
   "id": "87f5d6c5-41fc-4b0d-90e4-dfdf449ebbb1",
   "metadata": {},
   "outputs": [
    {
     "name": "stdout",
     "output_type": "stream",
     "text": [
      "Confidence Interval: [0.09151638887130707, 0.1484836111286929]\n"
     ]
    }
   ],
   "source": [
    "import scipy.stats as stats\n",
    "import math\n",
    "\n",
    "sample_proportion = 60 / 500\n",
    "sample_size = 500\n",
    "confidence_level = 0.95\n",
    "\n",
    "# Calculate the standard error\n",
    "std_error = math.sqrt((sample_proportion * (1 - sample_proportion)) / sample_size)\n",
    "\n",
    "# Calculate the margin of error\n",
    "margin_of_error = stats.norm.ppf((1 + confidence_level) / 2) * std_error\n",
    "\n",
    "# Calculate the lower and upper bounds of the confidence interval\n",
    "lower_bound = sample_proportion - margin_of_error\n",
    "upper_bound = sample_proportion + margin_of_error\n",
    "\n",
    "# Print the confidence interval\n",
    "print(f\"Confidence Interval: [{lower_bound}, {upper_bound}]\")\n"
   ]
  },
  {
   "cell_type": "markdown",
   "id": "111055e8-d1de-4167-9bed-867ef76c8335",
   "metadata": {},
   "source": [
    "### Q5. Calculate the 90% confidence interval for a sample of data with a mean of 75 and a standard deviation of 12 using Python. Interpret the results.\n"
   ]
  },
  {
   "cell_type": "code",
   "execution_count": 2,
   "id": "2102d2c0-0465-44ff-bc7b-c8373096a1e3",
   "metadata": {},
   "outputs": [
    {
     "name": "stdout",
     "output_type": "stream",
     "text": [
      "Confidence Interval: [73.02617564765823, 76.97382435234177]\n"
     ]
    }
   ],
   "source": [
    "import scipy.stats as stats\n",
    "\n",
    "mean = 75\n",
    "std_dev = 12\n",
    "sample_size = 100  # Number of data points in the sample\n",
    "confidence_level = 0.90\n",
    "\n",
    "# Calculate the standard error\n",
    "std_error = std_dev / (sample_size ** 0.5)\n",
    "\n",
    "# Calculate the margin of error\n",
    "margin_of_error = stats.norm.ppf((1 + confidence_level) / 2) * std_error\n",
    "\n",
    "# Calculate the lower and upper bounds of the confidence interval\n",
    "lower_bound = mean - margin_of_error\n",
    "upper_bound = mean + margin_of_error\n",
    "\n",
    "# Print the confidence interval\n",
    "print(f\"Confidence Interval: [{lower_bound}, {upper_bound}]\")"
   ]
  },
  {
   "cell_type": "markdown",
   "id": "7f0b4c92-5f19-42e6-a151-9cb6f505842f",
   "metadata": {},
   "source": [
    "### Q6. Use Python to plot the chi-square distribution with 10 degrees of freedom. Label the axes and shade the area corresponding to a chi-square statistic of 15.\n"
   ]
  },
  {
   "cell_type": "code",
   "execution_count": 5,
   "id": "dc406133-a9d0-4739-9a6e-ed25c6fe1558",
   "metadata": {},
   "outputs": [
    {
     "data": {
      "image/png": "[encoded data removed]",
      "text/plain": [
       "<Figure size 640x480 with 1 Axes>"
      ]
     },
     "metadata": {},
     "output_type": "display_data"
    }
   ],
   "source": [
    "import numpy as np\n",
    "import matplotlib.pyplot as plt\n",
    "from scipy import stats\n",
    "\n",
    "# Degrees of freedom\n",
    "df = 10\n",
    "\n",
    "# Define the range of x values\n",
    "x = np.linspace(0, 30, 500)\n",
    "\n",
    "# Calculate the chi-square distribution\n",
    "chi2_dist = stats.chi2(df)\n",
    "\n",
    "# Plot the chi-square distribution\n",
    "plt.plot(x, chi2_dist.pdf(x))\n",
    "\n",
    "# Shade the area corresponding to chi-square statistic of 15\n",
    "x_fill = np.linspace(15, 30, 100)\n",
    "plt.fill_between(x_fill, chi2_dist.pdf(x_fill), color='blue', alpha=0.3)\n",
    "\n",
    "# Set the x and y axis labels\n",
    "plt.xlabel('Chi-square Value')\n",
    "plt.ylabel('Probability Density Function')\n",
    "\n",
    "# Set the plot title\n",
    "plt.title('Chi-square Distribution with 10 Degrees of Freedom')\n",
    "\n",
    "# Show the plot\n",
    "plt.show()\n"
   ]
  },
  {
   "cell_type": "markdown",
   "id": "131ee080-bccc-4632-ad4e-c0ea72e3dea0",
   "metadata": {},
   "source": [
    "### Q7. A random sample of 1000 people was asked if they preferred Coke or Pepsi. Of the sample, 520 preferred Coke. Calculate a 99% confidence interval for the true proportion of people in the population who prefer Coke.\n"
   ]
  },
  {
   "cell_type": "code",
   "execution_count": 4,
   "id": "f6368106-fff1-4ff3-a631-2f9c322bb539",
   "metadata": {},
   "outputs": [
    {
     "name": "stdout",
     "output_type": "stream",
     "text": [
      "Confidence Interval: [0.4793051576779699, 0.5606948423220302]\n"
     ]
    }
   ],
   "source": [
    "import scipy.stats as stats\n",
    "import math\n",
    "\n",
    "sample_proportion = 520 / 1000\n",
    "sample_size = 1000\n",
    "confidence_level = 0.99\n",
    "\n",
    "# Calculate the standard error\n",
    "std_error = math.sqrt((sample_proportion * (1 - sample_proportion)) / sample_size)\n",
    "\n",
    "# Calculate the margin of error\n",
    "margin_of_error = stats.norm.ppf((1 + confidence_level) / 2) * std_error\n",
    "\n",
    "# Calculate the lower and upper bounds of the confidence interval\n",
    "lower_bound = sample_proportion - margin_of_error\n",
    "upper_bound = sample_proportion + margin_of_error\n",
    "\n",
    "# Print the confidence interval\n",
    "print(f\"Confidence Interval: [{lower_bound}, {upper_bound}]\")\n"
   ]
  },
  {
   "cell_type": "markdown",
   "id": "a7d35504-d431-4d60-b0e1-0f7ad5aa327b",
   "metadata": {},
   "source": [
    "### Q8. A researcher hypothesizes that a coin is biased towards tails. They flip the coin 100 times and observe 45 tails. Conduct a chi-square goodness of fit test to determine if the observed frequencies match the expected frequencies of a fair coin. Use a significance level of 0.05.\n"
   ]
  },
  {
   "cell_type": "code",
   "execution_count": 6,
   "id": "2ca29632-2dbf-4570-91e5-bd9cec00b1c2",
   "metadata": {},
   "outputs": [
    {
     "name": "stdout",
     "output_type": "stream",
     "text": [
      "Chi-square statistic: 1.0\n",
      "p-value: 0.31731050786291115\n",
      "Fail to reject the null hypothesis. The coin is not significantly biased towards tails.\n"
     ]
    }
   ],
   "source": [
    "import numpy as np\n",
    "from scipy import stats\n",
    "\n",
    "# Observed frequencies\n",
    "observed_frequencies = np.array([45, 55])  # 45 tails, 55 heads\n",
    "\n",
    "# Expected frequencies (for a fair coin)\n",
    "expected_frequencies = np.array([50, 50])  # 50 expected tails, 50 expected heads\n",
    "\n",
    "# Degrees of freedom (number of categories - 1)\n",
    "df = len(observed_frequencies) - 1\n",
    "\n",
    "# Calculate the chi-square statistic and p-value\n",
    "chi2_stat, p_value = stats.chisquare(observed_frequencies, f_exp=expected_frequencies)\n",
    "\n",
    "# Significance level\n",
    "alpha = 0.05\n",
    "\n",
    "# Make a decision\n",
    "if p_value < alpha:\n",
    "    decision = \"Reject the null hypothesis. The coin is biased towards tails.\"\n",
    "else:\n",
    "    decision = \"Fail to reject the null hypothesis. The coin is not significantly biased towards tails.\"\n",
    "\n",
    "# Print the results\n",
    "print(\"Chi-square statistic:\", chi2_stat)\n",
    "print(\"p-value:\", p_value)\n",
    "print(decision)\n"
   ]
  },
  {
   "cell_type": "markdown",
   "id": "5330645e-6c14-4cb0-8a62-a90dea3d3d67",
   "metadata": {},
   "source": [
    "### Q9. A study was conducted to determine if there is an association between smoking status (smoker or non-smoker) and lung cancer diagnosis (yes or no). The results are shown in the contingency table below. Conduct a chi-square test for independence to determine if there is a significant association between smoking status and lung cancer diagnosis. Use a significance level of 0.05.\n",
    "\n",
    "|   | Lung Cancer: Yes | Lung Cancer: No | \n",
    "|------|-----|-------|\n",
    "|Smoker | 60 | 140 |\n",
    "| Non-smoker |30 |170 |\n"
   ]
  },
  {
   "cell_type": "code",
   "execution_count": 7,
   "id": "1d403de2-9032-4fab-b3d6-9c0025df7c01",
   "metadata": {},
   "outputs": [
    {
     "name": "stdout",
     "output_type": "stream",
     "text": [
      "Chi-square statistic: 12.057347670250895\n",
      "p-value: 0.0005158863863703744\n",
      "Degrees of freedom: 1\n",
      "Expected frequencies:\n",
      "[[ 45. 155.]\n",
      " [ 45. 155.]]\n",
      "Reject the null hypothesis. There is a significant association between smoking status and lung cancer diagnosis.\n"
     ]
    }
   ],
   "source": [
    "import numpy as np\n",
    "from scipy import stats\n",
    "\n",
    "# Observed frequencies\n",
    "observed = np.array([[60, 140], [30, 170]])\n",
    "\n",
    "# Calculate the chi-square statistic, p-value, degrees of freedom, and expected frequencies\n",
    "chi2_stat, p_value, dof, expected = stats.chi2_contingency(observed)\n",
    "\n",
    "# Significance level\n",
    "alpha = 0.05\n",
    "\n",
    "# Make a decision\n",
    "if p_value < alpha:\n",
    "    decision = \"Reject the null hypothesis. There is a significant association between smoking status and lung cancer diagnosis.\"\n",
    "else:\n",
    "    decision = \"Fail to reject the null hypothesis. There is no significant association between smoking status and lung cancer diagnosis.\"\n",
    "\n",
    "# Print the results\n",
    "print(\"Chi-square statistic:\", chi2_stat)\n",
    "print(\"p-value:\", p_value)\n",
    "print(\"Degrees of freedom:\", dof)\n",
    "print(\"Expected frequencies:\")\n",
    "print(expected)\n",
    "print(decision)\n"
   ]
  },
  {
   "cell_type": "markdown",
   "id": "2ce36837-b0bb-4481-8fd2-9618b2bb9c93",
   "metadata": {},
   "source": [
    "### Q10. A study was conducted to determine if the proportion of people who prefer milk chocolate, dark chocolate, or white chocolate is different in the U.S. versus the U.K. A random sample of 500 people from the U.S. and a random sample of 500 people from the U.K. were surveyed. The results are shown in the contingency table below. Conduct a chi-square test for independence to determine if there is a significant association between chocolate preference and country of origin. Use a significance level of 0.01.\n",
    "\n",
    "|   | Milk Chocolate | Dark Chocolate | White Chocolate |\n",
    "|------|-----|-------|--------------|\n",
    "|U.S.(n = 500) | 200 | 150 | 150|\n",
    "| U.S.(n =500) |225 |175 |100 |"
   ]
  },
  {
   "cell_type": "code",
   "execution_count": 8,
   "id": "7da9168f-176d-47c2-9e8f-c2addbadd9ae",
   "metadata": {},
   "outputs": [
    {
     "name": "stdout",
     "output_type": "stream",
     "text": [
      "Chi-square statistic: 13.393665158371041\n",
      "p-value: 0.0012348168997745918\n",
      "Degrees of freedom: 2\n",
      "Expected frequencies:\n",
      "[[212.5 162.5 125. ]\n",
      " [212.5 162.5 125. ]]\n",
      "Reject the null hypothesis. There is a significant association between chocolate preference and country of origin.\n"
     ]
    }
   ],
   "source": [
    "import numpy as np\n",
    "from scipy import stats\n",
    "\n",
    "# Observed frequencies\n",
    "observed = np.array([[200, 150, 150], [225, 175, 100]])\n",
    "\n",
    "# Calculate the chi-square statistic, p-value, degrees of freedom, and expected frequencies\n",
    "chi2_stat, p_value, dof, expected = stats.chi2_contingency(observed)\n",
    "\n",
    "# Significance level\n",
    "alpha = 0.01\n",
    "\n",
    "# Make a decision\n",
    "if p_value < alpha:\n",
    "    decision = \"Reject the null hypothesis. There is a significant association between chocolate preference and country of origin.\"\n",
    "else:\n",
    "    decision = \"Fail to reject the null hypothesis. There is no significant association between chocolate preference and country of origin.\"\n",
    "\n",
    "# Print the results\n",
    "print(\"Chi-square statistic:\", chi2_stat)\n",
    "print(\"p-value:\", p_value)\n",
    "print(\"Degrees of freedom:\", dof)\n",
    "print(\"Expected frequencies:\")\n",
    "print(expected)\n",
    "print(decision)\n"
   ]
  },
  {
   "cell_type": "markdown",
   "id": "6eec7a2f-5d5c-4add-ab4f-20b20b62afa5",
   "metadata": {},
   "source": [
    "### Q11. A random sample of 30 people was selected from a population with an unknown mean and standard deviation. The sample mean was found to be 72 and the sample standard deviation was found to be 10. Conduct a hypothesis test to determine if the population mean is significantly different from 70. Use a significance level of 0.05."
   ]
  },
  {
   "cell_type": "code",
   "execution_count": 11,
   "id": "fe8bcf9a-80c3-45fd-8ca8-b3389cee56c3",
   "metadata": {},
   "outputs": [
    {
     "name": "stdout",
     "output_type": "stream",
     "text": [
      "Null: The means are significanlty same i.e μ = μo.\n",
      "Alternative: The means are significanlty different μ != μo.\n",
      "\n",
      "z-test: score is: 1.0954451150103321\n",
      "The corresponding p-value from z-test and z-table is 0.864.\n",
      "\n",
      "We fail to reject the null hypothesis.\n"
     ]
    }
   ],
   "source": [
    "import math\n",
    "sample_size = 30 \n",
    "sample_mean = 72\n",
    "sample_std = 10\n",
    "population_mean = 70\n",
    "alpha_level = 0.05\n",
    "alpha_value = 0.05\n",
    "# Formulating the hypothesis.\n",
    "\n",
    "print(\"\"\"Null: The means are significanlty same i.e μ = μo.\n",
    "Alternative: The means are significanlty different μ != μo.\\n\"\"\")\n",
    "\n",
    "# Calculating the test-statistics. Since we want to test for difference in mean we will use two tailed one sample z-test. \n",
    "\n",
    "z_test = (sample_mean - population_mean) / (sample_std/math.sqrt(sample_size))\n",
    "print(f'z-test: score is: {z_test}')\n",
    "\n",
    "print('The corresponding p-value from z-test and z-table is 0.864.\\n')\n",
    "p_value = 0.864\n",
    "\n",
    "# comparing the results\n",
    "\n",
    "if p_value < alpha_value:\n",
    "    print('We rejet the null hypothesis.')\n",
    "    \n",
    "else:\n",
    "    print('We fail to reject the null hypothesis.')"
   ]
  },
  {
   "cell_type": "code",
   "execution_count": null,
   "id": "d9ff20a4-f9dd-43d5-93f2-3d82b61103f2",
   "metadata": {},
   "outputs": [],
   "source": []
  },
  {
   "cell_type": "code",
   "execution_count": null,
   "id": "5fb0cf00-c105-45f9-96f2-460a8516fc2a",
   "metadata": {},
   "outputs": [],
   "source": []
  }
 ],
 "metadata": {
  "kernelspec": {
   "display_name": "Python 3 (ipykernel)",
   "language": "python",
   "name": "python3"
  },
  "language_info": {
   "codemirror_mode": {
    "name": "ipython",
    "version": 3
   },
   "file_extension": ".py",
   "mimetype": "text/x-python",
   "name": "python",
   "nbconvert_exporter": "python",
   "pygments_lexer": "ipython3",
   "version": "3.10.8"
  }
 },
 "nbformat": 4,
 "nbformat_minor": 5
}
