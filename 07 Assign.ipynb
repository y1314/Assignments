{
 "cells": [
  {
   "cell_type": "markdown",
   "id": "c8071f94-7dba-49a0-9f4d-dda3cb59b1e3",
   "metadata": {},
   "source": [
    "Q1. You are writing code for a company. The requirement of the company is that you create a python\n",
    "function that will check whether the password entered by the user is correct or not. The function should\n",
    "take the password as input and return the string “Valid Password” if the entered password follows the\n",
    "below-given password guidelines else it should return “Invalid Password”.\n",
    "\n",
    "Note: 1. The Password should contain at least two uppercase letters and at least two lowercase letters.\n",
    "\n",
    "2. The Password should contain at least a number and three special characters.\n",
    "\n",
    "3. The length of the password should be 10 characters long.\n"
   ]
  },
  {
   "cell_type": "code",
   "execution_count": 4,
   "id": "54512b6f-323d-4446-9b8e-714e6739bc80",
   "metadata": {},
   "outputs": [],
   "source": [
    "def check_password(password): \n",
    "    upper_count = 0\n",
    "    lower_count = 0\n",
    "    number_count = 0\n",
    "    special_count = 0\n",
    "    \n",
    "    for chr in password:\n",
    "        if chr.isdigit():\n",
    "            number_count += 1\n",
    "        elif chr.isupper():\n",
    "            upper_count += 1\n",
    "        elif chr.islower():\n",
    "            lower_count += 1\n",
    "        elif chr in \"@#$%^&*+\":\n",
    "            special_count += 1\n",
    "            \n",
    "    if upper_count >= 2 and lower_count >=2 and special_count >= 3 and number_count >= 1 and len(password) >= 0:\n",
    "        return \"Valid Password\"\n",
    "    \n",
    "    else :\n",
    "        return \"Invalid Password\"\n",
    "    \n",
    "    password = input(\"Enter Passowrd\")\n",
    "    print(check_password(password))"
   ]
  },
  {
   "cell_type": "code",
   "execution_count": 9,
   "id": "a46472b9-3b39-43a9-8398-e96e0107a8c7",
   "metadata": {},
   "outputs": [
    {
     "data": {
      "text/plain": [
       "'Valid Password'"
      ]
     },
     "execution_count": 9,
     "metadata": {},
     "output_type": "execute_result"
    }
   ],
   "source": [
    "check_password(\"YAsh@%$14588\")\n"
   ]
  },
  {
   "cell_type": "markdown",
   "id": "96d8fe1f-691d-4914-8766-9aeeea33f483",
   "metadata": {},
   "source": [
    "Q2. Solve the below-given questions using at least one of the following:\n",
    "    \n",
    "1. Lambda function\n",
    "2. Filter function\n",
    "3. Map function\n",
    "4. List Comprehension\n",
    "\n",
    "* Check if the string starts with a particular letter.\n",
    "* Check if the string is numeric.\n",
    "* Sort a list of tuples having fruit names and their quantity. [(\"mango\",99),(\"orange\",80), (\"grapes\", 1000)]\n",
    "* Find the squares of numbers from 1 to 10.\n",
    "* Find the cube root of numbers from 1 to 10.\n",
    "* Check if a given number is even.\n",
    "* Filter odd numbers from the given list.\n",
    "[1,2,3,4,5,6,7,8,9,10]\n",
    "* Sort a list of integers into positive and negative integers lists.\n",
    "[1,2,3,4,5,6,-1,-2,-3,-4,-5,0]"
   ]
  },
  {
   "cell_type": "code",
   "execution_count": 2,
   "id": "8dc4cc1b-0964-4dcc-95ed-f620999f768d",
   "metadata": {},
   "outputs": [
    {
     "name": "stdin",
     "output_type": "stream",
     "text": [
      "enter a string:  Jnd asdfs\n"
     ]
    },
    {
     "name": "stdout",
     "output_type": "stream",
     "text": [
      "No, this string does not starts from letter D\n"
     ]
    }
   ],
   "source": [
    "# Check if the string starts with a particular letter.\n",
    "\n",
    "input1 = input(\"enter a string: \")\n",
    "\n",
    "result = lambda x : x[0] == 'D'\n",
    "result(input1)\n",
    "\n",
    "if result(input1) :\n",
    "    print(\"Yes, This string starts from letter D\")\n",
    "    \n",
    "else :\n",
    "    print(\"No, this string does not starts from letter D\")"
   ]
  },
  {
   "cell_type": "code",
   "execution_count": 5,
   "id": "36f9f8ad-1a36-445d-82fc-a7e5581af419",
   "metadata": {},
   "outputs": [
    {
     "name": "stdin",
     "output_type": "stream",
     "text": [
      "Enter a string:  52\n"
     ]
    },
    {
     "name": "stdout",
     "output_type": "stream",
     "text": [
      "Yes it is numeric\n"
     ]
    }
   ],
   "source": [
    "# Check if the string is numeric.\n",
    "\n",
    "input2 = input(\"Enter a string: \")\n",
    "\n",
    "result1 = lambda x : i.isdigit()\n",
    "flag = True\n",
    "for i in input2 :\n",
    "    flag = result1(i)\n",
    "\n",
    "if flag :\n",
    "    print(\"Yes it is numeric\")\n",
    "    \n",
    "else : \n",
    "    print(\"No it is not a numeric\")"
   ]
  },
  {
   "cell_type": "code",
   "execution_count": 11,
   "id": "a9ca3aef-af4b-4af0-8dd9-c5728690ffd1",
   "metadata": {},
   "outputs": [
    {
     "name": "stdout",
     "output_type": "stream",
     "text": [
      "[('grapes', 1000), ('mango', 99), ('orange', 80)]\n"
     ]
    }
   ],
   "source": [
    "# Sort a list of tuples having fruit names and their quantity. [(\"mango\",99),(\"orange\",80), (\"grapes\", 1000)]\n",
    "\n",
    "data = [(\"mango\",99),(\"orange\",80), (\"grapes\", 1000)]\n",
    "data.sort(key = lambda x: x[0])\n",
    "print(data)"
   ]
  },
  {
   "cell_type": "code",
   "execution_count": 1,
   "id": "e8becc47-e929-49aa-a1fc-1893ea14394c",
   "metadata": {},
   "outputs": [
    {
     "name": "stdout",
     "output_type": "stream",
     "text": [
      "[1, 4, 9, 16, 25, 36, 49, 64, 81, 100]\n"
     ]
    }
   ],
   "source": [
    "# Find the squares of numbers from 1 to 10.\n",
    "\n",
    "data = [1,2,3,4,5,6,7,8,9,10]\n",
    "result = [i*i for i in data]\n",
    "print(result)"
   ]
  },
  {
   "cell_type": "code",
   "execution_count": 2,
   "id": "1d2c9bd2-0b16-4daf-b7f1-de4ce0e1c921",
   "metadata": {},
   "outputs": [
    {
     "name": "stdout",
     "output_type": "stream",
     "text": [
      "[1, 8, 27, 64, 125, 216, 343, 512, 729, 1000]\n"
     ]
    }
   ],
   "source": [
    "# Find the cube root of numbers from 1 to 10.\n",
    "data = [1,2,3,4,5,6,7,8,9,10]\n",
    "result = [i*i*i for i in data]\n",
    "print(result)"
   ]
  },
  {
   "cell_type": "code",
   "execution_count": 5,
   "id": "09938145-c405-45db-935e-77568cda2881",
   "metadata": {},
   "outputs": [
    {
     "name": "stdout",
     "output_type": "stream",
     "text": [
      "Even numbers in the list:  [10, 4, 66]\n"
     ]
    }
   ],
   "source": [
    "# Check if a given number is even.\n",
    "\n",
    "list1 = [10, 21, 4, 45, 66, 93, 11]\n",
    "\n",
    "even_nos = list(filter(lambda x: (x % 2 == 0), list1))\n",
    " \n",
    "print(\"Even numbers in the list: \", even_nos)\n"
   ]
  },
  {
   "cell_type": "code",
   "execution_count": 6,
   "id": "84511c9c-d06f-43ae-8fd6-b7a38d90f371",
   "metadata": {},
   "outputs": [
    {
     "name": "stdout",
     "output_type": "stream",
     "text": [
      "The odd numbers in the list are:  [1, 3, 5, 7, 9]\n"
     ]
    }
   ],
   "source": [
    "# Filter odd numbers from the given list.\n",
    "\n",
    "list1 = [1,2,3,4,5,6,7,8,9,10]\n",
    "\n",
    "odd_no = list(filter(lambda x: (x % 2 != 0), list1))\n",
    "\n",
    "print(\"The odd numbers in the list are: \", odd_no)"
   ]
  },
  {
   "cell_type": "code",
   "execution_count": 7,
   "id": "1f2131a7-34f3-492c-b344-f804e1e5530d",
   "metadata": {},
   "outputs": [
    {
     "name": "stdout",
     "output_type": "stream",
     "text": [
      "The original list is : [1, 2, 3, 4, 5, 6, -1, -2, -3, -4, -5, 0]\n",
      "Result after performing sort operation : [1, 2, 3, 4, 5, 6, 0, -5, -4, -3, -2, -1]\n"
     ]
    }
   ],
   "source": [
    "# Sort a list of integers into positive and negative integers lists.\n",
    "\n",
    "\n",
    "test_list = [1,2,3,4,5,6,-1,-2,-3,-4,-5,0]\n",
    " \n",
    "print(\"The original list is : \" + str(test_list))\n",
    " \n",
    "# Sort while keeping Positive elements before negatives\n",
    "# using sorted() + lambda\n",
    "res = sorted(test_list, key = lambda i: 0 if i == 0 else -1 / i)\n",
    " \n",
    "print(\"Result after performing sort operation : \" + str(res))"
   ]
  }
 ],
 "metadata": {
  "kernelspec": {
   "display_name": "Python 3 (ipykernel)",
   "language": "python",
   "name": "python3"
  },
  "language_info": {
   "codemirror_mode": {
    "name": "ipython",
    "version": 3
   },
   "file_extension": ".py",
   "mimetype": "text/x-python",
   "name": "python",
   "nbconvert_exporter": "python",
   "pygments_lexer": "ipython3",
   "version": "3.10.8"
  }
 },
 "nbformat": 4,
 "nbformat_minor": 5
}
