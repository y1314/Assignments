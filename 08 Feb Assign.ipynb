{
 "cells": [
  {
   "cell_type": "markdown",
   "id": "bb9312da-2424-4898-832b-2fabb3e585d6",
   "metadata": {},
   "source": [
    "Q1. What is Abstraction in OOps? Explain with an example."
   ]
  },
  {
   "cell_type": "markdown",
   "id": "4ef4c838-0daa-42c5-a6c6-c35e8bf8fa34",
   "metadata": {},
   "source": [
    "Ans - Abstraction in python is defined as a process of handling complexity by hiding unnecessary information from the user. This is one of the core concepts of object-oriented programming (OOP) languages."
   ]
  },
  {
   "cell_type": "markdown",
   "id": "3539594a-99a7-448f-b327-343776925d5f",
   "metadata": {},
   "source": [
    "Q2. Differentiate between Abstraction and Encapsulation. Explain with an example."
   ]
  },
  {
   "cell_type": "markdown",
   "id": "ec1054c4-cd9d-4990-8446-784e4c8a5ed1",
   "metadata": {},
   "source": [
    "Abstraction - \n",
    "* Abstraction is the implementaion to hide the unecessary data and withdrawing relevant data.\n",
    "* It highlights what is the work of object instead of how the object works.\n",
    "* It focuses on outside viewing. For example - shifting of car.\n",
    "\n",
    "Encapsulation - \n",
    "* It is the mechanism of hiding the code and the data together from outside world or misuse.\n",
    "* It focuses on inter details of how the object works. \n",
    "* It focuses on internal working. For example - production of the car.\n",
    "\n",
    "\n"
   ]
  },
  {
   "cell_type": "markdown",
   "id": "d2351df8-3a91-4173-85b5-6670ddce0f1c",
   "metadata": {},
   "source": [
    "Q3. What is abc module in python? Why is it used?"
   ]
  },
  {
   "cell_type": "markdown",
   "id": "d406a828-6f4a-4d2a-a05f-d7e551decb22",
   "metadata": {},
   "source": [
    "Abc (Abstract Base Class) - Abstract classes are classes that contain one or more abstract methods. \n",
    "An abstract method is a method that is declared, but contains no implementation. \n",
    "Abstract classes cannot be instantiated, and require subclasses to provide implementations for the abstract methods.\n",
    "\n",
    "**Use of Abc**\n",
    "For larger projects, it is impossible to remember the class details, and also the reusability of code can increase the bug. Therefore, it plays a crucial role in our projects.\n",
    "\n",
    "By default, Python does not provide abstract classes. The ‘abc’ module in the Python library provides the infrastructure for defining custom abstract base classes.\n",
    "\n",
    "Abstract class cannot be instantiated in python. An Abstract method can be call by its subclasses."
   ]
  },
  {
   "cell_type": "markdown",
   "id": "bc0ae8ff-9a41-48a7-8eb1-3b5bb7f57fe8",
   "metadata": {},
   "source": [
    "Q4. How can we achieve data abstraction?"
   ]
  },
  {
   "cell_type": "markdown",
   "id": "57156fe0-ca66-41aa-8bfd-387dcd767edd",
   "metadata": {},
   "source": [
    "Ans - abstraction can be achieved by having/using abstract classes and methods in our programs. Understanding Abstract Methods and Classes:\n",
    "An abstract method is a method that is declared, but does not contain implementation."
   ]
  },
  {
   "cell_type": "markdown",
   "id": "308a67f9-c221-47fb-8f95-b6bdb69fb4ad",
   "metadata": {},
   "source": [
    "Q5. Can we create an instance of an abstract class? Explain your answer."
   ]
  },
  {
   "cell_type": "markdown",
   "id": "f83ac1a5-1f79-4ffa-a99e-a1b843c985f7",
   "metadata": {},
   "source": [
    "Ans - **Abstract classes cannot be instantiated,** but they can be subclassed. When an abstract class is subclassed, the subclass usually provides implementations for all of the abstract methods in its parent class. However, if it does not, then the subclass must also be declared abstract."
   ]
  }
 ],
 "metadata": {
  "kernelspec": {
   "display_name": "Python 3 (ipykernel)",
   "language": "python",
   "name": "python3"
  },
  "language_info": {
   "codemirror_mode": {
    "name": "ipython",
    "version": 3
   },
   "file_extension": ".py",
   "mimetype": "text/x-python",
   "name": "python",
   "nbconvert_exporter": "python",
   "pygments_lexer": "ipython3",
   "version": "3.10.8"
  }
 },
 "nbformat": 4,
 "nbformat_minor": 5
}
