{
 "cells": [
  {
   "cell_type": "markdown",
   "id": "5f9a3231-7b97-4a07-adb4-8896bc0a685d",
   "metadata": {},
   "source": [
    "#### Q1. What is a database? Differentiate between SQL and NoSQL databases.\n"
   ]
  },
  {
   "cell_type": "markdown",
   "id": "035d56dd-ad6e-4af8-9eb5-c98ad927d654",
   "metadata": {},
   "source": [
    "Ans - A database is an organized collection of structured information, or data, typically stored electronically in a computer system. A database is usually controlled by a database management system (DBMS).\n",
    "\n",
    "|SQL  | NoSQL |\n",
    "|------|------|\n",
    "| SQL databases are primarily called as Relational Databases (RDBMS)  | NoSQL database are primarily called as non-relational or distributed database. |\n",
    "| SQL databases are vertically scalable. This means that you can increase the load on a single server by increasing things like RAM, CPU or SSD. | NoSQL databases are horizontally scalable. This means that you handle more traffic by sharding, or adding more servers in your NoSQL database. |\n",
    "| Tables with fixed rows and columns | Document: JSON documents, Key-value: key-value pairs, Wide-column: tables with rows and dynamic columns, Graph: nodes and edges |\n",
    "| Oracle, MySQL, Microsoft SQL Server, and PostgreSQL | Document: MongoDB and CouchDB, Key-value: Redis and DynamoDB, Wide-column: Cassandra and HBase, Graph: Neo4j and Amazon Neptune|"
   ]
  },
  {
   "cell_type": "markdown",
   "id": "ed719d23-893b-40a6-bf03-28b2e5e72e29",
   "metadata": {},
   "source": [
    "#### Q2. What is DDL? Explain why CREATE, DROP, ALTER, and TRUNCATE are used with an example.\n"
   ]
  },
  {
   "cell_type": "markdown",
   "id": "b7c028b2-e602-4c46-a714-28ed8fa4a6ab",
   "metadata": {},
   "source": [
    "**DDL -**\n",
    "DDL is Data Definition Language which is used to define data structures. For example: create table, alter table are instructions in SQL.\n",
    "\n",
    "* ##### CREATE\n",
    "This command builds a new table and has a predefined syntax. The CREATE statement syntax is:\n",
    "\n",
    "CREATE TABLE [table name] ([column definitions]) [table parameters];\n",
    "\n",
    "For example:\n",
    "\n",
    "CREATE TABLE Employee (Employee Id INTEGER PRIMARY KEY, First name CHAR (50) NULL, Last name CHAR (75) NOT NULL);\n",
    "\n",
    "* ##### DROP\n",
    "A drop command is used to delete objects such as a table, index or view. A DROP statement cannot be rolled back, so once an object is destroyed, there’s no way to recover it.\n",
    "\n",
    "Drop statement syntax is:\n",
    "\n",
    "DROP object type object name;\n",
    "\n",
    "For example:\n",
    "\n",
    "DROP TABLE Employee;\n",
    "\n",
    "* ##### ALTER\n",
    "An alter command modifies an existing database table. This command can add up additional column, drop existing columns and even change the data type of columns involved in a database table.\n",
    "\n",
    "An alter command syntax is:\n",
    "\n",
    "ALTER object type object name parameters;\n",
    "\n",
    "For example:\n",
    "\n",
    "ALTER TABLE Employee ADD PRIMARY KEY (employee_pk);\n",
    "\n",
    "* ##### TRUNCATE\n",
    "Similar to DROP, the TRUNCATE statement is used to quickly remove all records from a table. However, unlike DROP that completely destroys a table, TRUNCATE preserves its full structure to be reused later.\n",
    "\n",
    "Truncate statement syntax is:\n",
    "\n",
    "TRUNCATE TABLE table_name;\n",
    "\n",
    "For example:\n",
    "\n",
    "TRUNCATE TABLE Employee;"
   ]
  },
  {
   "cell_type": "markdown",
   "id": "baa1796a-c3d5-45b3-9a5b-7c0681e436e3",
   "metadata": {},
   "source": [
    "#### Q3. What is DML? Explain INSERT, UPDATE, and DELETE with an example.\n"
   ]
  },
  {
   "cell_type": "markdown",
   "id": "34c4acf6-6eba-4fe4-a4ce-dae64d7c8c07",
   "metadata": {},
   "source": [
    "**DML -**\n",
    "DML is Data Manipulation Language which is used to manipulate data itself. This manipulation involves inserting data into database tables, retrieving existing data, deleting data from existing tables and modifying existing data.\n",
    "\n",
    "* ##### UPDATE:\n",
    "This command modifies data of one or more records. \n",
    "\n",
    "An update command syntax is UPDATE [table name] SET [column name = value] where [condition].\n",
    "\n",
    "For Example:\n",
    "\n",
    "UPDATE Student SET Phone = 9039462901 WHERE Stu_Name = ’Phoebe’;\n",
    "\n",
    "* ##### INSERT:\n",
    "This command adds one or more records to a database table. \n",
    "\n",
    "The insert command syntax is INSERT INTO [table name] [column(s)] VALUES [value(s)].\n",
    "\n",
    "For Example :\n",
    "\n",
    "INSERT INTO Student(Stu_Name, DOB, Phone, Mail)\n",
    "\n",
    "VALUES(‘Phoebe’, ‘1998-05-26’, 7812865845, ‘user@xyz.com’);\n",
    "\n",
    "* ##### DELETE:\n",
    "This command removes one or more records from a table according to specified conditions. \n",
    "\n",
    "Delete command syntax is DELETE FROM [table name] where [condition].\n",
    "\n",
    "For Example:\n",
    "\n",
    "DELETE FROM Student WHERE Stu_Name = ’Phoebe’;"
   ]
  },
  {
   "cell_type": "markdown",
   "id": "f7ceb966-d723-41ae-b697-0cd54734d8d7",
   "metadata": {},
   "source": [
    "#### Q4. What is DQL? Explain SELECT with an example.\n"
   ]
  },
  {
   "cell_type": "markdown",
   "id": "b3362ece-5773-46a3-83ec-5f5ac288fa9a",
   "metadata": {},
   "source": [
    "**DQL -**\n",
    "DQL is a portion of a SQL statement that allows you to get and organise data from a database. You can use the SELECT command to extract data from a database in order to perform actions on it.\n",
    "\n",
    "* ##### SELECT:\n",
    "\n",
    "SELECT expression FROM table_x WHERE code_conditions;\n",
    "\n",
    "For Example:\n",
    "\n",
    "SELECT Stu_Name FROM Student WHERE Phone = 9039462908;\n"
   ]
  },
  {
   "cell_type": "markdown",
   "id": "dc4a5e82-9643-4ec5-9247-32574871046c",
   "metadata": {},
   "source": [
    "#### Q5. Explain Primary Key and Foreign Key.\n"
   ]
  },
  {
   "cell_type": "markdown",
   "id": "f6e420de-018d-4f72-bf24-13d18a4ad1a5",
   "metadata": {},
   "source": [
    "**Primary Key -**\n",
    "A primary key is the column or columns that contain values that uniquely identify each row in a table.\n",
    "\n",
    "**Foreign Key -**\n",
    "A foreign key is a column or columns of data in one table that refers to the unique data values -- often the primary key data -- in another table. Foreign keys link together two or more tables in a relational database."
   ]
  },
  {
   "cell_type": "markdown",
   "id": "dfeb5791-cf8b-4dc7-b91e-ef747e8419b5",
   "metadata": {},
   "source": [
    "#### Q6. Write a python code to connect MySQL to python. Explain the cursor() and execute() method.\n"
   ]
  },
  {
   "cell_type": "code",
   "execution_count": null,
   "id": "a40a41ee-e704-43da-b14e-bdf42e3c7e9c",
   "metadata": {},
   "outputs": [],
   "source": [
    "#Code to conncet MySql to Pyhton - \n",
    "\n",
    "import sql.connctor\n",
    "\n",
    "mydb = mysql.connector.connect (\n",
    "    host = \"localhost\",\n",
    "    user = \"abc\",\n",
    "    password = \"password\"\n",
    ")\n",
    "print(mydb)"
   ]
  },
  {
   "cell_type": "markdown",
   "id": "a4a26b27-c1e0-4146-a671-39a453dcb3f9",
   "metadata": {},
   "source": [
    "* **Cursor ( ) method -**\n",
    "A cursor keeps track of the position in the result set, and allows you to perform multiple operations row by row against a result set, with or without returning to the original table.\n",
    "\n",
    "* **Execute ( ) Method -**\n",
    "The Execute method executes a specified query, SQL statement, stored procedure, or provider-specific text. The results are stored in a new Recordset object if it is a row-returning query. "
   ]
  },
  {
   "cell_type": "markdown",
   "id": "b42d3d21-21b3-42d4-95c0-65b5fa453d9c",
   "metadata": {},
   "source": [
    "#### Q7. Give the order of execution of SQL clauses in an SQL query."
   ]
  },
  {
   "cell_type": "code",
   "execution_count": null,
   "id": "ad15de1b-6e47-414a-89f1-ec3d15cd4913",
   "metadata": {},
   "outputs": [],
   "source": [
    "SELECT Customers.customer_id, Customers.first_name, Orders.amount, Orders.order_id\n",
    "FROM Customers\n",
    "JOIN Orders\n",
    "ON Customers.customer_id = Orders.customer_id\n",
    "WHERE Orders.order_id <=4\n",
    "ORDER BY Orders.order_id ASC\n",
    "LIMIT 2"
   ]
  }
 ],
 "metadata": {
  "kernelspec": {
   "display_name": "Python 3 (ipykernel)",
   "language": "python",
   "name": "python3"
  },
  "language_info": {
   "codemirror_mode": {
    "name": "ipython",
    "version": 3
   },
   "file_extension": ".py",
   "mimetype": "text/x-python",
   "name": "python",
   "nbconvert_exporter": "python",
   "pygments_lexer": "ipython3",
   "version": "3.10.8"
  }
 },
 "nbformat": 4,
 "nbformat_minor": 5
}
