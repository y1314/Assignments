{
 "cells": [
  {
   "cell_type": "markdown",
   "id": "d209160a-d680-49ad-9464-36b7da8c1b5c",
   "metadata": {},
   "source": [
    "1. Write a program to accept percentage from the user \n",
    "and display the grade according to the following criteria:\n",
    "\n",
    "Marks   -----------  Grade\n"
   ]
  },
  {
   "cell_type": "code",
   "execution_count": 1,
   "id": "13fd06aa-3bcf-4368-840a-7a22217d171a",
   "metadata": {},
   "outputs": [
    {
     "name": "stdin",
     "output_type": "stream",
     "text": [
      "enter your marks 91\n"
     ]
    },
    {
     "name": "stdout",
     "output_type": "stream",
     "text": [
      " A Grade\n"
     ]
    }
   ],
   "source": [
    "marks = int(input(\"enter your marks\"))\n",
    "if marks > 90:\n",
    "    print(\" A Grade\")\n",
    "elif marks > 80 and marks <= 90:\n",
    "    print(\" B Grade\")\n",
    "elif marks >= 60 and marks <= 80:\n",
    "    print(\" C Grade\")\n",
    "else :\n",
    "    print(\" D Grade\")"
   ]
  },
  {
   "cell_type": "markdown",
   "id": "f6e7957b-5cf2-4ba9-9386-86ef4f683e8c",
   "metadata": {},
   "source": [
    "2. Write a program to accept the cost price of a bike and display the road tax to be paid according to the following criteria:"
   ]
  },
  {
   "cell_type": "code",
   "execution_count": 2,
   "id": "145921d8-585d-4c08-8058-c89c18474b4c",
   "metadata": {},
   "outputs": [
    {
     "name": "stdin",
     "output_type": "stream",
     "text": [
      "Enter your bike price 120000\n"
     ]
    },
    {
     "name": "stdout",
     "output_type": "stream",
     "text": [
      "You have to pay 15% road tax\n"
     ]
    }
   ],
   "source": [
    "price = int(input(\"Enter your bike price\"))\n",
    "if price > 100000:\n",
    "    print(\"You have to pay 15% road tax\")\n",
    "elif price > 50000 and price <= 100000:\n",
    "    print(\"You have to pay 10% road tax\")\n",
    "else :\n",
    "    print(\"You have to pay 5% road tax\")"
   ]
  },
  {
   "cell_type": "markdown",
   "id": "e3a78a0c-cd55-4fa6-9e56-f4c6097c6b67",
   "metadata": {},
   "source": [
    "3. Accept any from the user -------- of that city."
   ]
  },
  {
   "cell_type": "code",
   "execution_count": 3,
   "id": "2e2c37c2-a0ab-4cdc-adcb-3992377d24a2",
   "metadata": {},
   "outputs": [
    {
     "name": "stdin",
     "output_type": "stream",
     "text": [
      "enter your city name jaipur\n"
     ]
    },
    {
     "name": "stdout",
     "output_type": "stream",
     "text": [
      "Jal Mahal\n"
     ]
    }
   ],
   "source": [
    "city = input(\"enter your city name\").lower()\n",
    "if city == \"delhi\":\n",
    "    print(\"Red Fort\")\n",
    "elif city == \"agra\":\n",
    "    print(\"Taj Mahal\")\n",
    "elif city == \"jaipur\":\n",
    "    print(\"Jal Mahal\")\n",
    "else :\n",
    "    print (\"Your city is not updated here\")"
   ]
  },
  {
   "cell_type": "markdown",
   "id": "cf9a2cc9-4730-43d8-888f-56eff993d328",
   "metadata": {},
   "source": [
    "4. Check how many times a given number can be divided by 3 before it is less than\n",
    "or equal to 10."
   ]
  },
  {
   "cell_type": "code",
   "execution_count": 4,
   "id": "ecbbe2a1-266d-4c0a-bd93-8efce97d370a",
   "metadata": {},
   "outputs": [
    {
     "name": "stdin",
     "output_type": "stream",
     "text": [
      "enter you number 45\n"
     ]
    },
    {
     "name": "stdout",
     "output_type": "stream",
     "text": [
      "2\n"
     ]
    }
   ],
   "source": [
    "num = int(input(\"enter you number\"))\n",
    "count = 0\n",
    "while num >= 10:\n",
    "    num = num/3\n",
    "    count = count + 1\n",
    "print(count)"
   ]
  },
  {
   "cell_type": "markdown",
   "id": "04b21bbf-ff70-41eb-b479-85ba7c53e701",
   "metadata": {},
   "source": [
    "5. Why and when to use while loop in python give a detailed description with example"
   ]
  },
  {
   "cell_type": "code",
   "execution_count": 5,
   "id": "0185da64-94b8-4a30-bc00-3c9c479459ba",
   "metadata": {},
   "outputs": [
    {
     "name": "stdout",
     "output_type": "stream",
     "text": [
      "1\n",
      "2\n",
      "3\n",
      "4\n",
      "5\n"
     ]
    }
   ],
   "source": [
    "\"\"\"With the while loop we can execute a set of statements as long as a condition is true. \n",
    "The while loop is usually used when the number of iterations is unknown.\"\"\"\n",
    "\n",
    "# Example - print i as long as i is less than 6\n",
    "\n",
    "i = 1\n",
    "while i < 6:\n",
    "  print(i)\n",
    "  i += 1"
   ]
  },
  {
   "cell_type": "markdown",
   "id": "1dda8abc-c8d3-4e86-9635-674f22cc4594",
   "metadata": {},
   "source": [
    "6. Use nested while loop to print 3 different pattern.\n",
    "**Pattern 1**"
   ]
  },
  {
   "cell_type": "code",
   "execution_count": 21,
   "id": "c96dbb04-080d-46a9-aca9-ca0f25412aa2",
   "metadata": {},
   "outputs": [
    {
     "name": "stdin",
     "output_type": "stream",
     "text": [
      "enter no. of rows 5\n"
     ]
    },
    {
     "name": "stdout",
     "output_type": "stream",
     "text": [
      "* \n",
      "* * \n",
      "* * * \n",
      "* * * * \n",
      "* * * * * \n"
     ]
    }
   ],
   "source": [
    "num = int(input(\"enter no. of rows\"))\n",
    "row = 0    \n",
    "while row < num :\n",
    "    star = row + 1\n",
    "    while star > 0:\n",
    "        print(\"*\", end=\" \")\n",
    "        star = star - 1\n",
    "    row = row + 1\n",
    "    print()"
   ]
  },
  {
   "cell_type": "markdown",
   "id": "485d79a8-0166-4ae3-8b7b-3ea907ef9d8b",
   "metadata": {},
   "source": [
    "**Pattern 2**"
   ]
  },
  {
   "cell_type": "code",
   "execution_count": 18,
   "id": "90131974-a3a6-4640-9f2c-6d2bdfbe9291",
   "metadata": {},
   "outputs": [
    {
     "name": "stdin",
     "output_type": "stream",
     "text": [
      "enter no. of rows 5\n"
     ]
    },
    {
     "name": "stdout",
     "output_type": "stream",
     "text": [
      "    * \n",
      "   * * \n",
      "  * * * \n",
      " * * * * \n",
      "* * * * * \n"
     ]
    }
   ],
   "source": [
    "num = int(input(\"enter no. of rows\"))\n",
    "row = 0\n",
    "while row < num :\n",
    "    space = num-row-1\n",
    "    while space > 0:\n",
    "        print(end=\" \")\n",
    "        space = space-1\n",
    "    star = row + 1\n",
    "    while star > 0:\n",
    "        print(\"*\", end=\" \")\n",
    "        star = star - 1\n",
    "    row = row + 1\n",
    "    print()"
   ]
  },
  {
   "cell_type": "markdown",
   "id": "dce008b7-50fd-4754-b2c0-12d246841be8",
   "metadata": {},
   "source": [
    "**Pattern 3**"
   ]
  },
  {
   "cell_type": "code",
   "execution_count": 23,
   "id": "c9bffb3f-33c9-4fb9-924c-9882ef6abd88",
   "metadata": {},
   "outputs": [
    {
     "name": "stdin",
     "output_type": "stream",
     "text": [
      "enter no. of rows 5\n"
     ]
    },
    {
     "name": "stdout",
     "output_type": "stream",
     "text": [
      "1 \n",
      "1 2 \n",
      "1 2 3 \n",
      "1 2 3 4 \n",
      "1 2 3 4 5 \n"
     ]
    }
   ],
   "source": [
    "num = int(input(\"enter no. of rows\"))\n",
    "i = 1\n",
    "\n",
    "while(i<=num):\n",
    "    j = 1\n",
    "    while(j<=i):\n",
    "        print(j, end=\" \")\n",
    "        j+=1\n",
    "    print()\n",
    "    i+=1"
   ]
  },
  {
   "cell_type": "markdown",
   "id": "b84a003a-6b89-4250-81a0-9da1473d9e9d",
   "metadata": {},
   "source": [
    "##### 7. Reverse a while loop to display numbers from 10 to 1"
   ]
  },
  {
   "cell_type": "code",
   "execution_count": 7,
   "id": "27f923f8-ab21-431c-88e0-763499b5383e",
   "metadata": {},
   "outputs": [
    {
     "name": "stdout",
     "output_type": "stream",
     "text": [
      "10\n",
      "9\n",
      "8\n",
      "7\n",
      "6\n",
      "5\n",
      "4\n",
      "3\n",
      "2\n",
      "1\n"
     ]
    }
   ],
   "source": [
    "i = 10\n",
    "while i > 0:\n",
    "    print(i)\n",
    "    i = i-1"
   ]
  },
  {
   "cell_type": "markdown",
   "id": "169f21b3-b1fd-4b99-ae78-9c48d3af2925",
   "metadata": {},
   "source": [
    "8. Reverse a while loop to display numbers from 10 to 1"
   ]
  },
  {
   "cell_type": "code",
   "execution_count": 8,
   "id": "2755da45-d41f-4d09-a92c-29ac28e0c821",
   "metadata": {},
   "outputs": [
    {
     "name": "stdout",
     "output_type": "stream",
     "text": [
      "10\n",
      "9\n",
      "8\n",
      "7\n",
      "6\n",
      "5\n",
      "4\n",
      "3\n",
      "2\n",
      "1\n"
     ]
    }
   ],
   "source": [
    "i = 10\n",
    "while i > 0:\n",
    "    print(i)\n",
    "    i = i-1"
   ]
  },
  {
   "cell_type": "code",
   "execution_count": null,
   "id": "3e945086-d16c-4c40-810c-88c200634afc",
   "metadata": {},
   "outputs": [],
   "source": []
  }
 ],
 "metadata": {
  "kernelspec": {
   "display_name": "Python 3 (ipykernel)",
   "language": "python",
   "name": "python3"
  },
  "language_info": {
   "codemirror_mode": {
    "name": "ipython",
    "version": 3
   },
   "file_extension": ".py",
   "mimetype": "text/x-python",
   "name": "python",
   "nbconvert_exporter": "python",
   "pygments_lexer": "ipython3",
   "version": "3.10.8"
  }
 },
 "nbformat": 4,
 "nbformat_minor": 5
}
