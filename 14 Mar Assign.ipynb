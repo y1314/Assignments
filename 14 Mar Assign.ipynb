{
 "cells": [
  {
   "cell_type": "markdown",
   "id": "62621858-2622-441c-bf99-434985903f0a",
   "metadata": {},
   "source": [
    "### Q1. Write a Python function that takes in two arrays of data and calculates the F-value for a variance ratio test. The function should return the F-value and the corresponding p-value for the test."
   ]
  },
  {
   "cell_type": "code",
   "execution_count": 11,
   "id": "09eada3c-852b-47f7-b517-0ec1963ee4ed",
   "metadata": {},
   "outputs": [
    {
     "data": {
      "text/plain": [
       "(21.921052631578952, 0.005544127322687831)"
      ]
     },
     "execution_count": 11,
     "metadata": {},
     "output_type": "execute_result"
    }
   ],
   "source": [
    "import numpy as np\n",
    "import scipy.stats as stat\n",
    "\n",
    "# Create data\n",
    "group1 = [23, 20, 26, 28, 5]\n",
    "group2 = [25, 23, 26, 21, 23]\n",
    "\n",
    "# Converting the list to an array\n",
    "x = np.array(group1)\n",
    "y = np.array(group2)\n",
    "\n",
    "\n",
    "def f_test(group1, group2):\n",
    "    \n",
    "    f = np.var(group1)/np.var(group2)\n",
    "    nun = x.size-1\n",
    "    dun = y.size-1\n",
    "    p_value = 1-stat.f.cdf(f, nun, dun)\n",
    "    return f, p_value\n",
    "\n",
    "# perform F-test\n",
    "f_test(x, y)"
   ]
  },
  {
   "cell_type": "markdown",
   "id": "6d7cba8c-3038-46dc-b53f-30d632564ba3",
   "metadata": {},
   "source": [
    "### Q2. Given a significance level of 0.05 and the degrees of freedom for the numerator and denominator of an F-distribution, write a Python function that returns the critical F-value for a two-tailed test."
   ]
  },
  {
   "cell_type": "code",
   "execution_count": 25,
   "id": "b6f00b67-65df-4d80-9e08-35bb7ca8ca66",
   "metadata": {},
   "outputs": [],
   "source": [
    "from scipy.stats import f\n",
    "\n",
    "def critical_f_value(alpha, df1, df2):\n",
    "    \"\"\"\n",
    "    Calculates the critical F-value for a two-tailed test.\n",
    "    \n",
    "    Parameters:\n",
    "        alpha : Significance level\n",
    "        df1 : Degrees of freedom for the numerator.\n",
    "        df2 : Degrees of freedom for the denominator.\n",
    "    \n",
    "\n",
    "    \"\"\"\n",
    "    # Calculate the critical value for each tail\n",
    "    tail_probability = (1 - alpha) / 2\n",
    "    critical_value = f.ppf(1 - tail_probability, df1, df2)\n",
    "    return critical_value\n"
   ]
  },
  {
   "cell_type": "code",
   "execution_count": 10,
   "id": "7ccce17e-c2cc-41b4-9e6d-dd91ce7e0cbb",
   "metadata": {},
   "outputs": [
    {
     "name": "stdout",
     "output_type": "stream",
     "text": [
      "Critical F-value: 0.9170920557329801\n"
     ]
    }
   ],
   "source": [
    "alpha = 0.05\n",
    "df1 = 3\n",
    "df2 = 8\n",
    "\n",
    "critical_f = critical_f_value(alpha, df1, df2)\n",
    "print(f\"Critical F-value: {critical_f}\")"
   ]
  },
  {
   "cell_type": "markdown",
   "id": "957afc2f-a341-4f9a-86c9-20cf2c809e38",
   "metadata": {},
   "source": [
    "### Q3. Write a Python program that generates random samples from two normal distributions with known variances and uses an F-test to determine if the variances are equal. The program should output the F- value, degrees of freedom, and p-value for the test."
   ]
  },
  {
   "cell_type": "code",
   "execution_count": 29,
   "id": "f00d3024-ebf4-42f9-92d8-787b00653438",
   "metadata": {},
   "outputs": [
    {
     "name": "stdout",
     "output_type": "stream",
     "text": [
      "Null: The two groups have equal variance i.e σ1 = σ2.\n",
      "Alternative: The two groups have unequal variance i.e σ1 != σ2.\n",
      "\n",
      "The value of f-test is: 0.9162609470264066, the value of degree of freedom for both the dataset is: 9 and 9 and at last the value of p is: 0.5507572632143998\n",
      "\n",
      "We fail to reject the null hypothesis i.e variance of both the groups are equal.\n"
     ]
    }
   ],
   "source": [
    "np.random.seed(42)\n",
    "\n",
    "# creation of normally distributed dataset.\n",
    "sample1 = np.random.normal(loc = 10, scale = 5, size = 10)\n",
    "sample2 = np.random.normal(loc = 10, scale = 5, size =10)\n",
    "\n",
    "# calculating variance\n",
    "var1 = np.var(sample1)\n",
    "var2 = np.var(sample2)\n",
    "alpha_value = 0.05\n",
    "\n",
    "#Steps 1: Formulating the hypothesis.\n",
    "\n",
    "print(\"\"\"Null: The two groups have equal variance i.e σ1 = σ2.\n",
    "Alternative: The two groups have unequal variance i.e σ1 != σ2.\\n\"\"\")\n",
    "\n",
    "#Step 2: Calculating test Statistics.\n",
    "\n",
    "dof1 = len(sample1) - 1\n",
    "dof2 = len(sample2) - 1\n",
    "f = var1/var2\n",
    "p_value =1 - stat.f.cdf(f, dof1, dof2)\n",
    "print(f\"The value of f-test is: {f}, the value of degree of freedom for both the dataset is: {dof1} and {dof2} and at last the value of p is: {p_value}\")\n",
    "\n",
    "#Step 3: evaluation the results.\n",
    "\n",
    "if p_value > alpha_value:\n",
    "    print('\\nWe fail to reject the null hypothesis i.e variance of both the groups are equal.')\n",
    "else:\n",
    "    print('We reject the null hypothesis i.e variance of both the groups are not equal.')"
   ]
  },
  {
   "cell_type": "markdown",
   "id": "2d629ec1-ebfe-4233-b6a1-ac2141c8f2cb",
   "metadata": {},
   "source": [
    "### Q4.The variances of two populations are known to be 10 and 15. A sample of 12 observations is taken from each population. Conduct an F-test at the 5% significance level to determine if the variances are significantly different."
   ]
  },
  {
   "cell_type": "code",
   "execution_count": 15,
   "id": "2314be1b-d9ef-4e0a-9b18-ecc21d0c7e33",
   "metadata": {},
   "outputs": [
    {
     "name": "stdout",
     "output_type": "stream",
     "text": [
      "critical_value:  2.8179304699530863 f_test:  0.6666666666666666\n"
     ]
    }
   ],
   "source": [
    "var1 = 10\n",
    "var2 = 15\n",
    "\n",
    "# creating hypothesis -\n",
    "''' Null hypothesis - Variance of both samples is same\n",
    "Alternate hypothesis - Variance are different\n",
    "'''\n",
    "\n",
    "f_test = var1 / var2\n",
    "\n",
    "# degree of freedom (12 samples from each population)\n",
    "\n",
    "df1 = 12 - 1\n",
    "df2 = 12 -1\n",
    "significance_value = 0.05\n",
    "\n",
    "critical_value = stat.f.ppf(q=1-significance_value, dfn = df1, dfd = df2)\n",
    "\n",
    "print(f\"critical_value: \", critical_value, \"f_test: \", f_test)\n",
    "\n",
    "\n"
   ]
  },
  {
   "cell_type": "code",
   "execution_count": 17,
   "id": "a4ad9e66-5ad7-40ff-a263-3a6855803ce5",
   "metadata": {},
   "outputs": [
    {
     "name": "stdout",
     "output_type": "stream",
     "text": [
      "We fail to reject the null hypothesis\n"
     ]
    }
   ],
   "source": [
    "if f_test > critical_value :\n",
    "    print(\"We reject the Null hypothesis\")\n",
    "    \n",
    "else:\n",
    "    print(\"We fail to reject the null hypothesis\")"
   ]
  },
  {
   "cell_type": "markdown",
   "id": "0948174a-e671-4a05-9185-9ec0be8624e1",
   "metadata": {},
   "source": [
    "**Result - Therefore, we cannot conclude that the variances of the two populations are significantly different based on the given data.**"
   ]
  },
  {
   "cell_type": "markdown",
   "id": "c71a773f-969d-4e8b-8f9c-00e064ce39ee",
   "metadata": {},
   "source": [
    "### Q5. A manufacturer claims that the variance of the diameter of a certain product is 0.005. A sample of 25 products is taken, and the sample variance is found to be 0.006. Conduct an F-test at the 1% significance level to determine if the claim is justified."
   ]
  },
  {
   "cell_type": "code",
   "execution_count": 18,
   "id": "a8dafc0e-d394-453e-8b41-ec75e76c665d",
   "metadata": {},
   "outputs": [
    {
     "name": "stdout",
     "output_type": "stream",
     "text": [
      "critical_value:  2.659072104348157 f_test:  1.2\n"
     ]
    }
   ],
   "source": [
    "\n",
    "\n",
    "'''State the null and alternative hypotheses.\n",
    "\n",
    "The null hypothesis (H₀) states that the claimed variance is true,\n",
    "while the alternative hypothesis (H₁) states that the claimed variance is not justified.'''\n",
    "\n",
    "var1 = 0.006\n",
    "var2 = 0.005\n",
    "\n",
    "f_test = var1 / var2\n",
    "\n",
    "# degree of freedom (12 samples from each population)\n",
    "\n",
    "df1 = df2 = 25 - 1\n",
    "significance_value = 0.01\n",
    "\n",
    "critical_value = stat.f.ppf(q=1-significance_value, dfn = df1, dfd = df2)\n",
    "\n",
    "print(f\"critical_value: \", critical_value, \"f_test: \", f_test)"
   ]
  },
  {
   "cell_type": "code",
   "execution_count": 19,
   "id": "e3f2a17c-341e-41ac-adc5-894e91357525",
   "metadata": {},
   "outputs": [
    {
     "name": "stdout",
     "output_type": "stream",
     "text": [
      "We fail to reject the null hypothesis\n"
     ]
    }
   ],
   "source": [
    "if f_test > critical_value :\n",
    "    print(\"We reject the Null hypothesis\")\n",
    "    \n",
    "else:\n",
    "    print(\"We fail to reject the null hypothesis\")"
   ]
  },
  {
   "cell_type": "markdown",
   "id": "11f4305c-985e-456d-b17c-7f5e1fd9df82",
   "metadata": {},
   "source": [
    "**Result - The claimed variance 0.005 is true**"
   ]
  },
  {
   "cell_type": "markdown",
   "id": "4de1109c-279c-4dd9-a693-c276ba5c7b96",
   "metadata": {},
   "source": [
    "### Q6. Write a Python function that takes in the degrees of freedom for the numerator and denominator of an F-distribution and calculates the mean and variance of the distribution. The function should return the mean and variance as a tuple."
   ]
  },
  {
   "cell_type": "code",
   "execution_count": 26,
   "id": "bdb607db-8cad-4893-a9ed-ad21dfa58eba",
   "metadata": {},
   "outputs": [],
   "source": [
    "np.random.seed(42)\n",
    "\n",
    "def m_v_cal(dfn, dfd):\n",
    "    sample_size1 = dfn + 1\n",
    "    sample_size2 = dfd + 1\n",
    "    f = np.random.f(dfnum = dfn, dfden = dfd, size = 10)\n",
    "    return f\"mean is: {np.mean(f)} and variance is: {np.var(f)}\""
   ]
  },
  {
   "cell_type": "code",
   "execution_count": 27,
   "id": "353ae8f8-5f59-41fc-90d6-e97a315bb3ac",
   "metadata": {},
   "outputs": [
    {
     "data": {
      "text/plain": [
       "'mean is: 1.432483868780909 and variance is: 0.8845762300994563'"
      ]
     },
     "execution_count": 27,
     "metadata": {},
     "output_type": "execute_result"
    }
   ],
   "source": [
    "m_v_cal(dfn = 10, dfd = 8)"
   ]
  },
  {
   "cell_type": "markdown",
   "id": "88c4daa3-c349-446e-9f63-294953c5dae4",
   "metadata": {},
   "source": [
    "\n",
    "### Q7. A random sample of 10 measurements is taken from a normal population with unknown variance. The sample variance is found to be 25. Another random sample of 15 measurements is taken from anothernormal population with unknown variance, and the sample variance is found to be 20. Conduct an F-test at the 10% significance level to determine if the variances are significantly different."
   ]
  },
  {
   "cell_type": "code",
   "execution_count": 28,
   "id": "91e6aa36-23d5-4759-80f3-fb5bf83c3781",
   "metadata": {},
   "outputs": [
    {
     "name": "stdout",
     "output_type": "stream",
     "text": [
      "Fail to reject the null hypothesis.\n",
      "The variances are not significantly different.\n"
     ]
    }
   ],
   "source": [
    "from scipy.stats import f\n",
    "\n",
    "def conduct_f_test(sample_var1, sample_var2, sample_size1, sample_size2, alpha):\n",
    "    # Calculate the degrees of freedom\n",
    "    df1 = sample_size1 - 1\n",
    "    df2 = sample_size2 - 1\n",
    "\n",
    "    # Calculate the F-statistic\n",
    "    f_statistic = sample_var1 / sample_var2\n",
    "\n",
    "    # Calculate the critical value\n",
    "    critical_value = f.ppf(1 - alpha/2, df1, df2)\n",
    "\n",
    "    # Compare the F-statistic with the critical value\n",
    "    if f_statistic > critical_value or f_statistic < 1 / critical_value:\n",
    "        print(\"Reject the null hypothesis.\")\n",
    "        print(\"The variances are significantly different.\")\n",
    "    else:\n",
    "        print(\"Fail to reject the null hypothesis.\")\n",
    "        print(\"The variances are not significantly different.\")\n",
    "\n",
    "# Sample 1 information\n",
    "sample_var1 = 25\n",
    "sample_size1 = 10\n",
    "\n",
    "# Sample 2 information\n",
    "sample_var2 = 20\n",
    "sample_size2 = 15\n",
    "\n",
    "# Significance level\n",
    "alpha = 0.10\n",
    "\n",
    "# Perform the F-test\n",
    "conduct_f_test(sample_var1, sample_var2, sample_size1, sample_size2, alpha)\n"
   ]
  },
  {
   "cell_type": "markdown",
   "id": "518f7508-f9dd-4790-bda6-9074ec8d1b4c",
   "metadata": {},
   "source": [
    "### Q8. The following data represent the waiting times in minutes at two different restaurants on a Saturday night: \n",
    "\n",
    "#### Restaurant A: 24, 25, 28, 23, 22, 20, 27; \n",
    "\n",
    "#### Restaurant B: 31, 33, 35, 30, 32, 36. Conduct an F-test at the 5% significance level to determine if the variances are significantly different."
   ]
  },
  {
   "cell_type": "code",
   "execution_count": 23,
   "id": "c7c822bf-ceef-4ec6-acf0-7b52d0351c0a",
   "metadata": {},
   "outputs": [
    {
     "name": "stdout",
     "output_type": "stream",
     "text": [
      "critical_value:  4.950288068694318 f_test:  1.496767651159843\n"
     ]
    }
   ],
   "source": [
    "restA = [24, 25, 28, 23, 22, 20, 27]\n",
    "restB = [31, 33, 35, 30, 32, 36]\n",
    "\n",
    "# creating hypothesis -\n",
    "''' Null hypothesis - Variance of both samples is same\n",
    "Alternate hypothesis - Variance are different\n",
    "'''\n",
    "\n",
    "f_test = np.var(restA)/np.var(restB)\n",
    "\n",
    "# degree of freedom (12 samples from each population)\n",
    "\n",
    "df1 = len(restA) - 1\n",
    "df2 = len(restB) - 1\n",
    "significance_value = 0.05\n",
    "\n",
    "critical_value = stat.f.ppf(q=1-significance_value, dfn = df1, dfd = df2)\n",
    "\n",
    "print(f\"critical_value: \", critical_value, \"f_test: \", f_test)"
   ]
  },
  {
   "cell_type": "code",
   "execution_count": 24,
   "id": "8901c8b1-cb91-4109-b99c-b0c6b6fec438",
   "metadata": {},
   "outputs": [
    {
     "name": "stdout",
     "output_type": "stream",
     "text": [
      "We fail to reject the null hypothesis i.e variance are not significantly different\n"
     ]
    }
   ],
   "source": [
    "if f_test > critical_value :\n",
    "    print(\"We reject the Null hypothesis\")\n",
    "    \n",
    "else:\n",
    "    print(\"We fail to reject the null hypothesis i.e variance are not significantly different\")"
   ]
  },
  {
   "cell_type": "markdown",
   "id": "47eac89e-6362-459f-a5fe-f34777b4cae8",
   "metadata": {},
   "source": [
    "### Q9. The following data represent the test scores of two groups of students: \n",
    "\n",
    "##### Group A: 80, 85, 90, 92, 87, 83;\n",
    "\n",
    "##### Group B: 75, 78, 82, 79, 81, 84. Conduct an F-test at the 1% significance level to determine if the variances are significantly different."
   ]
  },
  {
   "cell_type": "code",
   "execution_count": 20,
   "id": "b9770be2-f1a7-4f0a-ad1e-d13a96c20225",
   "metadata": {},
   "outputs": [
    {
     "name": "stdout",
     "output_type": "stream",
     "text": [
      "critical_value:  10.967020650907992 f_test:  1.9442622950819677\n"
     ]
    }
   ],
   "source": [
    "groupA = [80, 85, 90, 92, 87, 83]\n",
    "groupB = [75, 78, 82, 79, 81, 84]\n",
    "\n",
    "# creating hypothesis -\n",
    "''' Null hypothesis - Variance of both samples is same\n",
    "Alternate hypothesis - Variance are different\n",
    "'''\n",
    "\n",
    "f_test = np.var(groupA)/np.var(groupB)\n",
    "\n",
    "# degree of freedom (12 samples from each population)\n",
    "\n",
    "df1 = len(groupA) - 1\n",
    "df2 = len(groupB) - 1\n",
    "significance_value = 0.01\n",
    "\n",
    "critical_value = stat.f.ppf(q=1-significance_value, dfn = df1, dfd = df2)\n",
    "\n",
    "print(f\"critical_value: \", critical_value, \"f_test: \", f_test)"
   ]
  },
  {
   "cell_type": "code",
   "execution_count": 22,
   "id": "7098bf46-8200-4436-b6fe-075ce0a13752",
   "metadata": {},
   "outputs": [
    {
     "name": "stdout",
     "output_type": "stream",
     "text": [
      "We fail to reject the null hypothesis i.e variance are not significantly different\n"
     ]
    }
   ],
   "source": [
    "if f_test > critical_value :\n",
    "    print(\"We reject the Null hypothesis\")\n",
    "    \n",
    "else:\n",
    "    print(\"We fail to reject the null hypothesis i.e variance are not significantly different\")"
   ]
  },
  {
   "cell_type": "code",
   "execution_count": null,
   "id": "04d815f1-dd9b-4abb-8d74-30fe457499c5",
   "metadata": {},
   "outputs": [],
   "source": []
  }
 ],
 "metadata": {
  "kernelspec": {
   "display_name": "Python 3 (ipykernel)",
   "language": "python",
   "name": "python3"
  },
  "language_info": {
   "codemirror_mode": {
    "name": "ipython",
    "version": 3
   },
   "file_extension": ".py",
   "mimetype": "text/x-python",
   "name": "python",
   "nbconvert_exporter": "python",
   "pygments_lexer": "ipython3",
   "version": "3.10.8"
  }
 },
 "nbformat": 4,
 "nbformat_minor": 5
}
