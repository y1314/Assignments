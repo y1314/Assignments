{
 "cells": [
  {
   "cell_type": "markdown",
   "id": "d118d7c9-bbdc-4159-9cc7-01ac4fa96aba",
   "metadata": {},
   "source": [
    "#### Q1. Which function is used to open a file? What are the different modes of opening a file? Explain each mode of file opening."
   ]
  },
  {
   "cell_type": "markdown",
   "id": "c84e7d82-c898-4be5-a5f4-e3c4d00728cd",
   "metadata": {},
   "source": [
    "Ans - *In Python, we use the open() method to open files.*\n",
    "\n",
    "Different modes to open a file in python -\n",
    "\n",
    "* 'r' -\tOpen a file for reading. (default)\n",
    "* 'w' -\tOpen a file for writing. Creates a new file if it does not exist or truncates the file if it exists.\n",
    "* 'x' -\tOpen a file for exclusive creation. If the file already exists, the operation fails.\n",
    "* 'a' -\tOpen a file for appending at the end of the file without truncating it. Creates a new file if it does not exist.\n",
    "* 't' -\tOpen in text mode. (default)\n",
    "* 'b' -\tOpen in binary mode.\n",
    "* '+' -\tOpen a file for updating (reading and writing)\n",
    "    "
   ]
  },
  {
   "cell_type": "markdown",
   "id": "71eb1f94-2387-4141-8f5a-cbfaccd854e5",
   "metadata": {},
   "source": [
    "#### Q2. Why close() function is used? Why is it important to close a file?"
   ]
  },
  {
   "cell_type": "markdown",
   "id": "c278c461-c945-43fa-8950-60493c204b60",
   "metadata": {},
   "source": [
    "Ans - Python file method close() closes the opened file. A closed file cannot be read or written any more.\n",
    "\n",
    "It is important to close the file because changes made into the file may not show until you close the file."
   ]
  },
  {
   "cell_type": "markdown",
   "id": "62115ec1-2080-4d69-8ce8-c7821553ef45",
   "metadata": {},
   "source": [
    "#### Q3. Write a python program to create a text file. Write ‘I want to become a Data Scientist’ in that file. Then close the file. Open this file and read the content of the file."
   ]
  },
  {
   "cell_type": "code",
   "execution_count": 1,
   "id": "bf9ce5f1-3fb2-4121-8e9e-f057a27b29c2",
   "metadata": {},
   "outputs": [],
   "source": [
    "f = open(\"assg.txt\", 'w')\n",
    "f.write(\"I want to become a Data Scientist\")\n",
    "f.close()"
   ]
  },
  {
   "cell_type": "markdown",
   "id": "5ddf9c98-44f4-4380-b00b-87faceee300f",
   "metadata": {},
   "source": [
    "#### Q4. Explain the following with python code: read(), readline() and readlines()."
   ]
  },
  {
   "cell_type": "markdown",
   "id": "9c4fe7fa-4706-4254-af0a-1bcff923edcd",
   "metadata": {},
   "source": [
    "**read()** : Returns the read bytes in form of a string. Reads n bytes, if no n specified, reads the entire file.\n",
    "\n",
    "**readline()** : Reads a line of the file and returns in form of a string.For specified n, reads at most n bytes. However, does not reads more than one line, even if n exceeds the length of the line.\n",
    "\n",
    "**readlines()** : Reads all the lines and return them as each line a string element in a list."
   ]
  },
  {
   "cell_type": "code",
   "execution_count": 24,
   "id": "2a058c4c-2838-4788-94c6-29c0f6973c8f",
   "metadata": {},
   "outputs": [
    {
     "name": "stdout",
     "output_type": "stream",
     "text": [
      "Output of Read function is \n",
      "Hello \n",
      "This is Delhi \n",
      "This is Paris \n",
      "This is London \n",
      "\n",
      "\n",
      "Output of Readline function is \n",
      "Hello \n",
      "\n",
      "\n",
      "Output of Read(9) function is \n",
      "Hello \n",
      "Th\n",
      "\n",
      "Output of Readline(9) function is \n",
      "Hello \n",
      "\n",
      "\n",
      "Output of Readlines function is \n",
      "['Hello \\n', 'This is Delhi \\n', 'This is Paris \\n', 'This is London \\n']\n",
      "\n"
     ]
    }
   ],
   "source": [
    "\n",
    "# Creating a file\n",
    "file1 = open(\"myfile.txt\", \"w\")\n",
    "L = [\"This is Delhi \\n\", \"This is Paris \\n\", \"This is London \\n\"]\n",
    " \n",
    "# Writing data to a file\n",
    "file1.write(\"Hello \\n\")\n",
    "file1.writelines(L)\n",
    "file1.close()  # to change file access modes\n",
    " \n",
    "file1 = open(\"myfile.txt\", \"r+\")\n",
    " \n",
    "print(\"Output of Read function is \")\n",
    "print(file1.read())\n",
    "print()\n",
    " \n",
    "# byte from the beginning.\n",
    "file1.seek(0)\n",
    " \n",
    "print(\"Output of Readline function is \")\n",
    "print(file1.readline())\n",
    "print()\n",
    " \n",
    "file1.seek(0)\n",
    " \n",
    "# To show difference between read and readline\n",
    "print(\"Output of Read(9) function is \")\n",
    "print(file1.read(9))\n",
    "print()\n",
    " \n",
    "file1.seek(0)\n",
    " \n",
    "print(\"Output of Readline(9) function is \")\n",
    "print(file1.readline(9))\n",
    "print()\n",
    " \n",
    "file1.seek(0)\n",
    " \n",
    "# readlines function\n",
    "print(\"Output of Readlines function is \")\n",
    "print(file1.readlines())\n",
    "print()\n",
    "file1.close()"
   ]
  },
  {
   "cell_type": "markdown",
   "id": "50f299dc-34db-4ba0-b731-4e1f0177452b",
   "metadata": {},
   "source": [
    "#### Q5. Explain why with statement is used with open(). What is the advantage of using with statement and open() together?"
   ]
  },
  {
   "cell_type": "code",
   "execution_count": 13,
   "id": "978525b4-693d-48bb-b02f-d75072d89b72",
   "metadata": {},
   "outputs": [
    {
     "name": "stdout",
     "output_type": "stream",
     "text": [
      "This is example of with open statement together\n"
     ]
    }
   ],
   "source": [
    "# with statement is used in exception handling to make the code cleaner and much more readable.\n",
    "\n",
    "# The advantage of using with statement and open together is with statement automatically closes the file for you.\n",
    "\n",
    "with open(\"sample.txt\",\"w\") as file:\n",
    "    file.write(\"This is example of with open statement together\")\n",
    "    \n",
    "with open(\"sample.txt\", \"r\") as f:\n",
    "        file_content = f.read()\n",
    "        print(file_content)"
   ]
  },
  {
   "cell_type": "markdown",
   "id": "7d3354de-c217-4e32-8c16-b07853e3d408",
   "metadata": {},
   "source": [
    "#### Q6. Explain the write() and writelines() functions. Give a suitable example."
   ]
  },
  {
   "cell_type": "markdown",
   "id": "3091720d-5cb0-4a87-805d-d885e469360b",
   "metadata": {},
   "source": [
    "**Write ( )**  - The write() function will write the content in the file without adding any extra characters.\n",
    "\n",
    "**WriteLine( )** - The wirteline () function writes the items of a list to the file. This method displays the output and also provides a new line character it the end of the string, This would set a new line for the next output."
   ]
  },
  {
   "cell_type": "code",
   "execution_count": 4,
   "id": "8e6de6cc-da1a-47b4-8f32-3a54a946a693",
   "metadata": {},
   "outputs": [
    {
     "name": "stdout",
     "output_type": "stream",
     "text": [
      "See you soon!\n"
     ]
    }
   ],
   "source": [
    "# Example of write() function -\n",
    "\n",
    "f = open(\"demofile2.txt\", \"w\")\n",
    "f.write(\"See you soon!\")\n",
    "f.close()\n",
    "\n",
    "#open and read the file after the appending:\n",
    "f = open(\"demofile2.txt\", \"r\")\n",
    "print(f.read())\n"
   ]
  },
  {
   "cell_type": "code",
   "execution_count": 5,
   "id": "9b2296bf-0d2a-4417-89e5-9e4e75d67924",
   "metadata": {},
   "outputs": [
    {
     "name": "stdout",
     "output_type": "stream",
     "text": [
      "\n",
      "See you soon!\n",
      "Over and out.\n"
     ]
    }
   ],
   "source": [
    "# Example of writeline() function - \n",
    "\n",
    "f = open(\"demofile3.txt\", \"w\")\n",
    "f.writelines([\"\\nSee you soon!\", \"\\nOver and out.\"])\n",
    "f.close()\n",
    "\n",
    "#open and read the file after the appending:\n",
    "f = open(\"demofile3.txt\", \"r\")\n",
    "print(f.read())"
   ]
  },
  {
   "cell_type": "code",
   "execution_count": null,
   "id": "5b74b239-69ca-4856-b97b-0d05453e7bde",
   "metadata": {},
   "outputs": [],
   "source": []
  }
 ],
 "metadata": {
  "kernelspec": {
   "display_name": "Python 3 (ipykernel)",
   "language": "python",
   "name": "python3"
  },
  "language_info": {
   "codemirror_mode": {
    "name": "ipython",
    "version": 3
   },
   "file_extension": ".py",
   "mimetype": "text/x-python",
   "name": "python",
   "nbconvert_exporter": "python",
   "pygments_lexer": "ipython3",
   "version": "3.10.8"
  }
 },
 "nbformat": 4,
 "nbformat_minor": 5
}
