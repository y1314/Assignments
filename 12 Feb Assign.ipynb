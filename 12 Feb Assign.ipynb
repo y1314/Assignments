{
 "cells": [
  {
   "cell_type": "markdown",
   "id": "07f96683-5ae2-41a7-be7e-8037c4720c6f",
   "metadata": {},
   "source": [
    "##### Q1. What is an Exception in python? Write the difference between Exceptions and Syntax errors."
   ]
  },
  {
   "cell_type": "markdown",
   "id": "dcf568b2-7134-48f1-a297-a1e1443c80ae",
   "metadata": {},
   "source": [
    "Ans - An exception is an event, which occurs during the execution of a program that disrupts the normal flow of the program's instructions. \n",
    "\n",
    "An error is an issue in a program that prevents the program from completing its task.\n",
    "\n",
    "In comparison, an exception is a condition that interrupts the normal flow of the program. Both errors and exceptions are a type of runtime error, which means they occur during the execution of a program. "
   ]
  },
  {
   "cell_type": "markdown",
   "id": "8201218d-e2bc-4050-bec8-c16f786d2243",
   "metadata": {},
   "source": [
    "##### Q2. What happens when an exception is not handled? Explain with an example\n"
   ]
  },
  {
   "cell_type": "code",
   "execution_count": 1,
   "id": "e9f717b0-969a-4b94-ad08-a2bb612eab00",
   "metadata": {},
   "outputs": [
    {
     "ename": "FileNotFoundError",
     "evalue": "[Errno 2] No such file or directory: 'tes.txt'",
     "output_type": "error",
     "traceback": [
      "\u001b[0;31m---------------------------------------------------------------------------\u001b[0m",
      "\u001b[0;31mFileNotFoundError\u001b[0m                         Traceback (most recent call last)",
      "Cell \u001b[0;32mIn[1], line 5\u001b[0m\n\u001b[1;32m      1\u001b[0m \u001b[38;5;66;03m# If execption in not handled disrupt the normal flow of the program's instructions. \u001b[39;00m\n\u001b[1;32m      2\u001b[0m \n\u001b[1;32m      3\u001b[0m \u001b[38;5;66;03m# Example - \u001b[39;00m\n\u001b[0;32m----> 5\u001b[0m f \u001b[38;5;241m=\u001b[39m \u001b[38;5;28;43mopen\u001b[39;49m\u001b[43m(\u001b[49m\u001b[38;5;124;43m\"\u001b[39;49m\u001b[38;5;124;43mtes.txt\u001b[39;49m\u001b[38;5;124;43m\"\u001b[39;49m\u001b[43m,\u001b[49m\u001b[43m \u001b[49m\u001b[38;5;124;43m'\u001b[39;49m\u001b[38;5;124;43mr\u001b[39;49m\u001b[38;5;124;43m'\u001b[39;49m\u001b[43m)\u001b[49m\n\u001b[1;32m      6\u001b[0m \u001b[38;5;28mprint\u001b[39m(\u001b[38;5;124m\"\u001b[39m\u001b[38;5;124mthis is my print\u001b[39m\u001b[38;5;124m\"\u001b[39m)\n",
      "File \u001b[0;32m/opt/conda/lib/python3.10/site-packages/IPython/core/interactiveshell.py:282\u001b[0m, in \u001b[0;36m_modified_open\u001b[0;34m(file, *args, **kwargs)\u001b[0m\n\u001b[1;32m    275\u001b[0m \u001b[38;5;28;01mif\u001b[39;00m file \u001b[38;5;129;01min\u001b[39;00m {\u001b[38;5;241m0\u001b[39m, \u001b[38;5;241m1\u001b[39m, \u001b[38;5;241m2\u001b[39m}:\n\u001b[1;32m    276\u001b[0m     \u001b[38;5;28;01mraise\u001b[39;00m \u001b[38;5;167;01mValueError\u001b[39;00m(\n\u001b[1;32m    277\u001b[0m         \u001b[38;5;124mf\u001b[39m\u001b[38;5;124m\"\u001b[39m\u001b[38;5;124mIPython won\u001b[39m\u001b[38;5;124m'\u001b[39m\u001b[38;5;124mt let you open fd=\u001b[39m\u001b[38;5;132;01m{\u001b[39;00mfile\u001b[38;5;132;01m}\u001b[39;00m\u001b[38;5;124m by default \u001b[39m\u001b[38;5;124m\"\u001b[39m\n\u001b[1;32m    278\u001b[0m         \u001b[38;5;124m\"\u001b[39m\u001b[38;5;124mas it is likely to crash IPython. If you know what you are doing, \u001b[39m\u001b[38;5;124m\"\u001b[39m\n\u001b[1;32m    279\u001b[0m         \u001b[38;5;124m\"\u001b[39m\u001b[38;5;124myou can use builtins\u001b[39m\u001b[38;5;124m'\u001b[39m\u001b[38;5;124m open.\u001b[39m\u001b[38;5;124m\"\u001b[39m\n\u001b[1;32m    280\u001b[0m     )\n\u001b[0;32m--> 282\u001b[0m \u001b[38;5;28;01mreturn\u001b[39;00m \u001b[43mio_open\u001b[49m\u001b[43m(\u001b[49m\u001b[43mfile\u001b[49m\u001b[43m,\u001b[49m\u001b[43m \u001b[49m\u001b[38;5;241;43m*\u001b[39;49m\u001b[43margs\u001b[49m\u001b[43m,\u001b[49m\u001b[43m \u001b[49m\u001b[38;5;241;43m*\u001b[39;49m\u001b[38;5;241;43m*\u001b[39;49m\u001b[43mkwargs\u001b[49m\u001b[43m)\u001b[49m\n",
      "\u001b[0;31mFileNotFoundError\u001b[0m: [Errno 2] No such file or directory: 'tes.txt'"
     ]
    }
   ],
   "source": [
    "# If execption in not handled disrupt the normal flow of the program's instructions. \n",
    "\n",
    "# Example - \n",
    "\n",
    "f = open(\"tes.txt\", 'r')\n",
    "print(\"this is my print\")"
   ]
  },
  {
   "cell_type": "markdown",
   "id": "8b279e8e-3870-4f83-9b4a-38c6cc1b9c9f",
   "metadata": {},
   "source": [
    "##### Q3. Which Python statements are used to catch and handle exceptions? Explain with an example.\n"
   ]
  },
  {
   "cell_type": "code",
   "execution_count": 2,
   "id": "259c1927-22be-4e0a-b914-5ffe327ab71f",
   "metadata": {},
   "outputs": [
    {
     "name": "stdout",
     "output_type": "stream",
     "text": [
      "Could not open file.log\n"
     ]
    }
   ],
   "source": [
    "# The try and except block in Python is used to catch and handle exceptions. \n",
    "\n",
    "# Python executes code following the try statement as a “normal” part of the program. \n",
    "\n",
    "try:\n",
    "    with open('file.log') as file:\n",
    "        read_data = file.read()\n",
    "except:\n",
    "    print('Could not open file.log')"
   ]
  },
  {
   "cell_type": "markdown",
   "id": "68603630-76fc-4fba-9bfe-b9ba944cdbba",
   "metadata": {},
   "source": [
    "##### Q4. Explain with an example:\n",
    "\n",
    "##### a. try and else \n",
    "\n",
    "##### b. finally\n",
    "\n",
    "##### c. raise"
   ]
  },
  {
   "cell_type": "code",
   "execution_count": 3,
   "id": "3c81641e-787a-417b-8bd9-eb5e9130513b",
   "metadata": {},
   "outputs": [
    {
     "name": "stdout",
     "output_type": "stream",
     "text": [
      "this is will execute once your try will execute withour error\n"
     ]
    }
   ],
   "source": [
    "# a. try and else\n",
    "\n",
    "try : \n",
    "    \n",
    "    f = open(\"tes.txt\", 'w')\n",
    "    f.write(\"this is my example for try and else exception\")\n",
    "    \n",
    "except Exception as e :\n",
    "    \n",
    "    print(\"this is my except block\", e)\n",
    "    \n",
    "else :\n",
    "    f.close()\n",
    "    print(\"this is will execute once your try will execute withour error\")"
   ]
  },
  {
   "cell_type": "code",
   "execution_count": 4,
   "id": "6633e439-b8c8-4d88-a04d-c3bdbee4dfc3",
   "metadata": {},
   "outputs": [
    {
     "name": "stdout",
     "output_type": "stream",
     "text": [
      "Finally will execute itself in any situation\n"
     ]
    },
    {
     "ename": "FileNotFoundError",
     "evalue": "[Errno 2] No such file or directory: 'test4.txt'",
     "output_type": "error",
     "traceback": [
      "\u001b[0;31m---------------------------------------------------------------------------\u001b[0m",
      "\u001b[0;31mFileNotFoundError\u001b[0m                         Traceback (most recent call last)",
      "Cell \u001b[0;32mIn[4], line 4\u001b[0m\n\u001b[1;32m      1\u001b[0m \u001b[38;5;66;03m# b. finally\u001b[39;00m\n\u001b[1;32m      3\u001b[0m \u001b[38;5;28;01mtry\u001b[39;00m :\n\u001b[0;32m----> 4\u001b[0m     f \u001b[38;5;241m=\u001b[39m \u001b[38;5;28;43mopen\u001b[39;49m\u001b[43m(\u001b[49m\u001b[38;5;124;43m\"\u001b[39;49m\u001b[38;5;124;43mtest4.txt\u001b[39;49m\u001b[38;5;124;43m\"\u001b[39;49m\u001b[43m,\u001b[49m\u001b[43m \u001b[49m\u001b[38;5;124;43m'\u001b[39;49m\u001b[38;5;124;43mr\u001b[39;49m\u001b[38;5;124;43m'\u001b[39;49m\u001b[43m)\u001b[49m\n\u001b[1;32m      5\u001b[0m     f\u001b[38;5;241m.\u001b[39mwrite(\u001b[38;5;124m\"\u001b[39m\u001b[38;5;124mwrite something\u001b[39m\u001b[38;5;124m\"\u001b[39m)\n\u001b[1;32m      7\u001b[0m \u001b[38;5;28;01mfinally\u001b[39;00m :\n",
      "File \u001b[0;32m/opt/conda/lib/python3.10/site-packages/IPython/core/interactiveshell.py:282\u001b[0m, in \u001b[0;36m_modified_open\u001b[0;34m(file, *args, **kwargs)\u001b[0m\n\u001b[1;32m    275\u001b[0m \u001b[38;5;28;01mif\u001b[39;00m file \u001b[38;5;129;01min\u001b[39;00m {\u001b[38;5;241m0\u001b[39m, \u001b[38;5;241m1\u001b[39m, \u001b[38;5;241m2\u001b[39m}:\n\u001b[1;32m    276\u001b[0m     \u001b[38;5;28;01mraise\u001b[39;00m \u001b[38;5;167;01mValueError\u001b[39;00m(\n\u001b[1;32m    277\u001b[0m         \u001b[38;5;124mf\u001b[39m\u001b[38;5;124m\"\u001b[39m\u001b[38;5;124mIPython won\u001b[39m\u001b[38;5;124m'\u001b[39m\u001b[38;5;124mt let you open fd=\u001b[39m\u001b[38;5;132;01m{\u001b[39;00mfile\u001b[38;5;132;01m}\u001b[39;00m\u001b[38;5;124m by default \u001b[39m\u001b[38;5;124m\"\u001b[39m\n\u001b[1;32m    278\u001b[0m         \u001b[38;5;124m\"\u001b[39m\u001b[38;5;124mas it is likely to crash IPython. If you know what you are doing, \u001b[39m\u001b[38;5;124m\"\u001b[39m\n\u001b[1;32m    279\u001b[0m         \u001b[38;5;124m\"\u001b[39m\u001b[38;5;124myou can use builtins\u001b[39m\u001b[38;5;124m'\u001b[39m\u001b[38;5;124m open.\u001b[39m\u001b[38;5;124m\"\u001b[39m\n\u001b[1;32m    280\u001b[0m     )\n\u001b[0;32m--> 282\u001b[0m \u001b[38;5;28;01mreturn\u001b[39;00m \u001b[43mio_open\u001b[49m\u001b[43m(\u001b[49m\u001b[43mfile\u001b[49m\u001b[43m,\u001b[49m\u001b[43m \u001b[49m\u001b[38;5;241;43m*\u001b[39;49m\u001b[43margs\u001b[49m\u001b[43m,\u001b[49m\u001b[43m \u001b[49m\u001b[38;5;241;43m*\u001b[39;49m\u001b[38;5;241;43m*\u001b[39;49m\u001b[43mkwargs\u001b[49m\u001b[43m)\u001b[49m\n",
      "\u001b[0;31mFileNotFoundError\u001b[0m: [Errno 2] No such file or directory: 'test4.txt'"
     ]
    }
   ],
   "source": [
    "# b. finally\n",
    "\n",
    "try :\n",
    "    f = open(\"test4.txt\", 'r')\n",
    "    f.write(\"write something\")\n",
    "    \n",
    "finally :\n",
    "    print(\"Finally will execute itself in any situation\")"
   ]
  },
  {
   "cell_type": "code",
   "execution_count": 5,
   "id": "97390db0-0171-4807-b99b-0b42397de3b2",
   "metadata": {},
   "outputs": [],
   "source": [
    "# raise\n",
    "\n",
    "def division(a, b):\n",
    "    try:\n",
    "        return a / b\n",
    "    except ZeroDivisionError as ex:\n",
    "        raise ValueError('b must not zero')"
   ]
  },
  {
   "cell_type": "code",
   "execution_count": 6,
   "id": "e79bbfcd-87bb-4a69-848d-dde30c8998c5",
   "metadata": {},
   "outputs": [
    {
     "ename": "ValueError",
     "evalue": "b must not zero",
     "output_type": "error",
     "traceback": [
      "\u001b[0;31m---------------------------------------------------------------------------\u001b[0m",
      "\u001b[0;31mZeroDivisionError\u001b[0m                         Traceback (most recent call last)",
      "Cell \u001b[0;32mIn[5], line 5\u001b[0m, in \u001b[0;36mdivision\u001b[0;34m(a, b)\u001b[0m\n\u001b[1;32m      4\u001b[0m \u001b[38;5;28;01mtry\u001b[39;00m:\n\u001b[0;32m----> 5\u001b[0m     \u001b[38;5;28;01mreturn\u001b[39;00m \u001b[43ma\u001b[49m\u001b[43m \u001b[49m\u001b[38;5;241;43m/\u001b[39;49m\u001b[43m \u001b[49m\u001b[43mb\u001b[49m\n\u001b[1;32m      6\u001b[0m \u001b[38;5;28;01mexcept\u001b[39;00m \u001b[38;5;167;01mZeroDivisionError\u001b[39;00m \u001b[38;5;28;01mas\u001b[39;00m ex:\n",
      "\u001b[0;31mZeroDivisionError\u001b[0m: division by zero",
      "\nDuring handling of the above exception, another exception occurred:\n",
      "\u001b[0;31mValueError\u001b[0m                                Traceback (most recent call last)",
      "Cell \u001b[0;32mIn[6], line 1\u001b[0m\n\u001b[0;32m----> 1\u001b[0m \u001b[43mdivision\u001b[49m\u001b[43m(\u001b[49m\u001b[38;5;241;43m1\u001b[39;49m\u001b[43m,\u001b[49m\u001b[43m \u001b[49m\u001b[38;5;241;43m0\u001b[39;49m\u001b[43m)\u001b[49m\n",
      "Cell \u001b[0;32mIn[5], line 7\u001b[0m, in \u001b[0;36mdivision\u001b[0;34m(a, b)\u001b[0m\n\u001b[1;32m      5\u001b[0m     \u001b[38;5;28;01mreturn\u001b[39;00m a \u001b[38;5;241m/\u001b[39m b\n\u001b[1;32m      6\u001b[0m \u001b[38;5;28;01mexcept\u001b[39;00m \u001b[38;5;167;01mZeroDivisionError\u001b[39;00m \u001b[38;5;28;01mas\u001b[39;00m ex:\n\u001b[0;32m----> 7\u001b[0m     \u001b[38;5;28;01mraise\u001b[39;00m \u001b[38;5;167;01mValueError\u001b[39;00m(\u001b[38;5;124m'\u001b[39m\u001b[38;5;124mb must not zero\u001b[39m\u001b[38;5;124m'\u001b[39m)\n",
      "\u001b[0;31mValueError\u001b[0m: b must not zero"
     ]
    }
   ],
   "source": [
    "division(1, 0)"
   ]
  },
  {
   "cell_type": "markdown",
   "id": "955ecf01-e0d6-4c20-9fdc-9744ce163b9a",
   "metadata": {},
   "source": [
    "##### Q5. What are Custom Exceptions in python? Why do we need Custom Exceptions? Explain with an example."
   ]
  },
  {
   "cell_type": "markdown",
   "id": "cee7fbc0-d995-404f-b7a7-2cbe42556d8e",
   "metadata": {},
   "source": [
    "Ans -\n",
    "* Creating our own Exception is known as custom exception or user-defined exception. \n",
    "\n",
    "* Custom exceptions are used to customize the exception according to user need."
   ]
  },
  {
   "cell_type": "code",
   "execution_count": 10,
   "id": "4bc20135-fccc-4f66-ac02-9a02c54911f3",
   "metadata": {},
   "outputs": [
    {
     "name": "stdin",
     "output_type": "stream",
     "text": [
      "Enter a number:  15\n"
     ]
    },
    {
     "name": "stdout",
     "output_type": "stream",
     "text": [
      "Exception occurred: Invalid Age\n"
     ]
    }
   ],
   "source": [
    "# define Python user-defined exceptions\n",
    "class InvalidAgeException(Exception):\n",
    "    \"Raised when the input value is less than 18\"\n",
    "    pass\n",
    "\n",
    "# you need to guess this number\n",
    "number = 18\n",
    "\n",
    "try:\n",
    "    input_num = int(input(\"Enter a number: \"))\n",
    "    if input_num < number:\n",
    "        raise InvalidAgeException\n",
    "    else:\n",
    "        print(\"Eligible to Vote\")\n",
    "        \n",
    "except InvalidAgeException:\n",
    "    print(\"Exception occurred: Invalid Age\")"
   ]
  },
  {
   "cell_type": "markdown",
   "id": "783e570e-2d18-4215-8aaf-9cc91ae5c454",
   "metadata": {},
   "source": [
    "Q6. Create custom exception class. Use this class to handle an exception."
   ]
  },
  {
   "cell_type": "code",
   "execution_count": 7,
   "id": "ab9ee55e-ab87-4fda-b7eb-90900ce5ad91",
   "metadata": {},
   "outputs": [],
   "source": [
    "class validateage(Exception):\n",
    "    \n",
    "    def __init__(self, msg) :\n",
    "        self.msg = msg"
   ]
  },
  {
   "cell_type": "code",
   "execution_count": 8,
   "id": "5f6fe2df-8cad-4a39-8ac9-35fc9648dd0a",
   "metadata": {},
   "outputs": [],
   "source": [
    "def validage(age):\n",
    "    if age < 0 :\n",
    "        raise validateage(\"entered age is negative\")\n",
    "    elif age > 200 :\n",
    "        raise validateage(\"entered age is very high\")\n",
    "    else :\n",
    "        print(\"age is valid\")"
   ]
  },
  {
   "cell_type": "code",
   "execution_count": 9,
   "id": "6b60f3db-910d-400e-ab3a-bf914854b0a2",
   "metadata": {},
   "outputs": [
    {
     "name": "stdin",
     "output_type": "stream",
     "text": [
      "enter your age -96\n"
     ]
    },
    {
     "name": "stdout",
     "output_type": "stream",
     "text": [
      "entered age is negative\n"
     ]
    }
   ],
   "source": [
    "try :\n",
    "    age = int(input(\"enter your age\"))\n",
    "    validage(age)\n",
    "    \n",
    "except validateage as e :\n",
    "    print(e)"
   ]
  }
 ],
 "metadata": {
  "kernelspec": {
   "display_name": "Python 3 (ipykernel)",
   "language": "python",
   "name": "python3"
  },
  "language_info": {
   "codemirror_mode": {
    "name": "ipython",
    "version": 3
   },
   "file_extension": ".py",
   "mimetype": "text/x-python",
   "name": "python",
   "nbconvert_exporter": "python",
   "pygments_lexer": "ipython3",
   "version": "3.10.8"
  }
 },
 "nbformat": 4,
 "nbformat_minor": 5
}
