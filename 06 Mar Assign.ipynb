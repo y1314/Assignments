{
 "cells": [
  {
   "cell_type": "markdown",
   "id": "345f5dd9-a837-40b3-a0da-2bfe044567df",
   "metadata": {},
   "source": [
    "### Q1. What is Statistics?"
   ]
  },
  {
   "cell_type": "markdown",
   "id": "89350710-95c0-40bf-9e39-678288e396af",
   "metadata": {},
   "source": [
    "Ans - Statistics is the science of collecting, organizing, and analyzing data."
   ]
  },
  {
   "cell_type": "markdown",
   "id": "90c692ff-fdee-4ac4-a983-c2357bc75a47",
   "metadata": {},
   "source": [
    "###  Q2. Define the different types of statistics and give an example of when each type might be used."
   ]
  },
  {
   "cell_type": "markdown",
   "id": "ab340f0d-4831-42c1-a441-40d905b8b9b3",
   "metadata": {},
   "source": [
    "**Types of statistics -** \n",
    "(i) Descriptive statistics\n",
    "(ii) Inferential statistics\n",
    "\n",
    "**(i) Descriptive statistics -** In the descriptive Statistics, the Data is described in a summarized way. The summarization is done from the sample of the population using different parameters like Mean or standard deviation. Descriptive Statistics are a way of using charts, graphs, and summary measures to organize, represent, and explain a set of Data.\n",
    "\n",
    "**(ii) Inferential statistics -** In the Inferential Statistics, we try to interpret the Meaning of descriptive Statistics. After the Data has been collected, analyzed, and summarised we use Inferential Statistics to describe the Meaning of the collected Data. \n",
    "\n",
    "**Example -**\n",
    "In a class, the Data is the set of marks obtained by 50 students. Now when we take out the Data average, the result is the average of 50 students’ marks. If the average marks obtained by 50 students are 88 out of 100, on the basis of the outcome, we will draw a conclusion. "
   ]
  },
  {
   "cell_type": "markdown",
   "id": "8e73ae89-2504-4339-8ac0-6a64a72374c7",
   "metadata": {},
   "source": [
    "###  Q3. What are the different types of data and how do they differ from each other? Provide an example of each type of data."
   ]
  },
  {
   "cell_type": "markdown",
   "id": "a10e0e53-a078-4040-ad1c-6395dd7adc2e",
   "metadata": {},
   "source": [
    "**Types of Data -**\n",
    "\n",
    "* Quantitative or Numerical Data \n",
    "\n",
    "i. Discrete Data\n",
    "\n",
    "ii. Continuous Data\n",
    "\n",
    "* Qualitative or Categorical Data\n",
    "\n",
    "i. Nominal Data\n",
    "\n",
    "ii. Ordinal Data\n",
    "\n",
    "\n",
    "### Quantitative of Numerical Data\n",
    "\n",
    "**i. Discrete Data -** Discrete data can take only discrete values. Discrete information contains only a finite number of possible values. Those values cannot be subdivided meaningfully. Here, things can be counted in whole numbers.\n",
    "\n",
    "**Example:** Number of students in the class\n",
    "\n",
    "**ii. Continuous Data -** Continuous data is data that can be calculated. It has an infinite number of probable values that can be selected within a given specific range.\n",
    "\n",
    "**Example:** Temperature range\n",
    "\n",
    "### Qualitative or Categorical Data\n",
    "\n",
    "**i. Nominal data -** Nominal data is one of the types of qualitative information which helps to label the variables without providing the numerical value. Nominal data is also called the nominal scale. It cannot be ordered and measured. But sometimes, the data can be qualitative and quantitative. \n",
    "\n",
    "**Examples:** Gender, Blood group, Pincode.\n",
    "\n",
    "**ii. Ordinal Data -** Ordinal data/variable is a type of data that follows a natural order. The significant feature of the nominal data is that the difference between the data values is not determined. \n",
    "\n",
    "**Example:** - Customer feedback etc."
   ]
  },
  {
   "cell_type": "markdown",
   "id": "22e2f285-8c9f-4bd7-89de-c3e276385028",
   "metadata": {},
   "source": [
    "###  Q4. Categorise the following datasets with respect to quantitative and qualitative data types:\n",
    "\n",
    "### (i) Grading in exam: A+, A, B+, B, C+, C, D, E\n",
    "\n",
    "### (ii) Colour of mangoes: yellow, green, orange, red\n",
    "\n",
    "### (iii) Height data of a class: [178.9, 179, 179.5, 176, 177.2, 178.3, 175.8,...]\n",
    "\n",
    "### (iv) Number of mangoes exported by a farm: [500, 600, 478, 672, ...]"
   ]
  },
  {
   "cell_type": "markdown",
   "id": "8e4aa3cc-7c5b-49ec-a0da-3533fb61e9be",
   "metadata": {},
   "source": [
    " (i) Grading in exam: A+, A, B+, B, C+, C, D, E - **ORDINAL DATA**\n",
    "\n",
    "(ii) Colour of mangoes: yellow, green, orange, red - **NOMINAL DATA**\n",
    "\n",
    "(iii) Height data of a class: [178.9, 179, 179.5, 176, 177.2, 178.3, 175.8,...] - **CONTINUOUS DATA**\n",
    "\n",
    "(iv) Number of mangoes exported by a farm: [500, 600, 478, 672, ...] - **DISCRETE DATA**"
   ]
  },
  {
   "cell_type": "markdown",
   "id": "597e27ed-8356-415e-9bf9-e33192efd5cf",
   "metadata": {},
   "source": [
    "### Q5. Explain the concept of levels of measurement and give an example of a variable for each level.\n"
   ]
  },
  {
   "cell_type": "markdown",
   "id": "b8f1b706-09ac-4710-9c98-927883521e24",
   "metadata": {},
   "source": [
    "### Levels of measurement - \n",
    "\n",
    "#### 1. Nominal Data - \n",
    "The nominal scale simply categorizes variables according to qualitative labels (or names). These labels and groupings don’t have any order or hierarchy to them, nor do they convey any numerical value. \n",
    "\n",
    "For example, the variable “hair color” could be measured on a nominal scale according to the following categories: blonde hair, brown hair, gray hair, and so on. \n",
    "\n",
    "#### 2. Ordinal Data - \n",
    "The ordinal scale also categorizes variables into labeled groups, and these categories have an order or hierarchy to them. \n",
    "\n",
    "For example, you could measure the variable “income” on an ordinal scale as follows: low income, medium income, high income. \n",
    "\n",
    "Another example could be level of education, classified as follows: high school, master’s degree, doctorate.\n",
    "\n",
    "#### 3. Interval Data -\n",
    "The interval scale is a numerical scale which labels and orders variables, with a known, evenly spaced interval between each of the values. \n",
    "\n",
    "An oft-cited example of interval data is temperature in Fahrenheit, where the difference between 10 and 20 degrees Fahrenheit is exactly the same as the difference between, say, 50 and 60 degrees Fahrenheit. \n",
    "\n",
    "#### 4. Ratio Data -\n",
    "\n",
    "The ratio scale is exactly the same as the interval scale, with one key difference: The ratio scale has what’s known as a “true zero.” \n",
    "\n",
    "A good example of ratio data is weight in kilograms. If something weighs zero kilograms, it truly weighs nothing—compared to temperature (interval data), where a value of zero degrees doesn’t mean there is “no temperature,” it simply means it’s extremely cold! "
   ]
  },
  {
   "cell_type": "markdown",
   "id": "70162388-d43f-40f4-9262-15b3bada5738",
   "metadata": {},
   "source": [
    "###  Q6. Why is it important to understand the level of measurement when analyzing data? Provide an example to illustrate your answer."
   ]
  },
  {
   "cell_type": "markdown",
   "id": "3edb49bb-0a2c-4ed3-9cca-957b55bdb95c",
   "metadata": {},
   "source": [
    "ans - It is important to understand the level of measurement of variables in research, because the level of measurement determines the type of statistical analysis that can be conducted, and, therefore, the type of conclusions that can be drawn from the research.c\n",
    "\n",
    "* Example of a variable at 2 levels of measurement\n",
    "\n",
    "\n",
    "You can measure the variable of income at an ordinal or ratio level.\n",
    "\n",
    "Ordinal level: You create brackets of income ranges: $0–$19,999, $20,000–$39,999, and $40,000–$59,999. You ask participants to select the bracket that represents their annual income. The brackets are coded with numbers from 1–3.\n",
    "\n",
    "Ratio level: You collect data on the exact annual incomes of your participants.\n",
    "\n",
    "* At a ratio level, you can see that the difference between A and B’s incomes is far greater than the difference between B and C’s incomes.\n",
    "\n",
    "* At an ordinal level, however, you only know the income bracket for each participant, not their exact income. Since you cannot say exactly how much each income differs from the others in your data set, you can only order the income levels and group the participants."
   ]
  },
  {
   "cell_type": "markdown",
   "id": "131c8931-d8ef-4e96-9420-e8839dcaee06",
   "metadata": {},
   "source": [
    "###  Q7. How nominal data type is different from ordinal data type."
   ]
  },
  {
   "cell_type": "markdown",
   "id": "a85914e7-9120-40bd-b227-bfaeeb5def1f",
   "metadata": {},
   "source": [
    "Ans - Nominal data is classified without a natural order or rank, whereas ordinal data has a predetermined or natural order. "
   ]
  },
  {
   "cell_type": "markdown",
   "id": "dd9bf011-3cde-4b0f-979b-0469151fd5b2",
   "metadata": {},
   "source": [
    "###  Q8. Which type of plot can be used to display data in terms of range?"
   ]
  },
  {
   "cell_type": "markdown",
   "id": "2a3dc3a1-ff3d-47ab-8426-8bc06c37f072",
   "metadata": {},
   "source": [
    "ans - **(Histogram)** Histogram is a bar representation of data that varies over a range. It plots the height of the data belonging to a range along the y-axis and the range along the x-axis. Histograms are used to plot data over a range of values."
   ]
  },
  {
   "cell_type": "markdown",
   "id": "a6a4eaaa-7008-4f7f-b662-3396c8cfd567",
   "metadata": {},
   "source": [
    "### Q9. Describe the difference between descriptive and inferential statistics. Give an example of each type of statistics and explain how they are used."
   ]
  },
  {
   "cell_type": "markdown",
   "id": "1a15a3c6-83e9-4514-863a-d3211ff2f24e",
   "metadata": {},
   "source": [
    "* Descriptive Statistics gives information about raw data regarding its description or features. Inferential statistics, on the other hand, draw inferences about the population by using data extracted from the population. \n",
    "\n",
    "* We use descriptive statistics to describe a situation, while we use inferential statistics to explain the probability of occurrence of an event. \n",
    "\n",
    "* As for descriptive statistics, it helps to organize, analyze and present data in a meaningful manner. Inferential statistics helps to compare data, make hypotheses and predictions. \n",
    "\n",
    "* Descriptive statistics explains already known data related to a particular sample or population of a small size. Inferential statistics, however, aims to draw inferences or conclusions about a whole population. \n",
    "\n",
    "* We use charts, graphs, and tables to represent descriptive statistics, while we use probability methods for inferential statistics.\n",
    "\n",
    "* It is simpler to perform a study using descriptive statistics rather than inferential statistics, where you need to establish a relationship between variables in an entire population. "
   ]
  },
  {
   "cell_type": "markdown",
   "id": "bc297f4d-eacc-4de1-ab3f-3b513db6a4ba",
   "metadata": {},
   "source": [
    "### Q10. What are some common measures of central tendency and variability used in statistics? Explain how each measure can be used to describe a dataset."
   ]
  },
  {
   "cell_type": "markdown",
   "id": "c627bf14-64fe-4270-acc8-0a75efa773a5",
   "metadata": {},
   "source": [
    "### Measure of Central Tendency - \n",
    "\n",
    "A measure of central tendency is a single value that attempts to describe a set of data by identifying the central position within that set of data. As such, measures of central tendency are sometimes called measures of central location. They are also classed as summary statistics.\n",
    "\n",
    "* #### Mean - \n",
    "The mean represents the average value of the dataset. It can be calculated as the sum of all the values in the dataset divided by the number of values. \n",
    "\n",
    "* #### Median - \n",
    "Median is the middle value of the dataset in which the dataset is arranged in the ascending order or in descending order. When the dataset contains an even number of values, then the median value of the dataset can be found by taking the mean of the middle two values.\n",
    "\n",
    "Consider the given dataset with the odd number of observations arranged in descending order – 23, 21, 18, 16, 15, 13, 12, 10, 9, 7, 6, 5, and 2\n",
    "\n",
    "Here 12 is the middle or median number that has 6 values above it and 6 values below it.\n",
    "\n",
    "* #### Mode -\n",
    "The mode represents the frequently occurring value in the dataset. Sometimes the dataset may contain multiple modes and in some cases, it does not contain any mode at all.\n",
    "\n",
    "Consider the given dataset 5, 4, 2, 3, 2, 1, 5, 4, 5\n",
    "\n",
    "Since the mode represents the most common value. Hence, the most frequently repeated value in the given dataset is 5."
   ]
  },
  {
   "cell_type": "markdown",
   "id": "45c5ac8f-148f-41fc-92bc-2166d90366a9",
   "metadata": {},
   "source": [
    "### Measure of Variability -\n",
    "\n",
    "* #### Range -\n",
    "Range is the measure of the difference between the largest and smallest value of the data variability. The range is the simplest form of Measures of Dispersion. \n",
    "\n",
    "\n",
    "Example: 1,2,3,4,5,6,7 \n",
    "\n",
    "Range = Highest value – Lowest value \n",
    "\n",
    "  = ( 7 – 1 ) = 6 \n",
    "* ####  Variance -\n",
    "In simple terms, the variance can be calculated by obtaining the sum of the squared distance of each term in the distribution from the Mean, and then dividing this by the total number of the terms in the distribution.  \n",
    "\n",
    "It basically shows how far a number, for example, a student’s mark in an exam, is from the Mean of the entire class. \n",
    "\n",
    "Formula: \n",
    "\n",
    "(σ2) = ∑ ( X − μ)2 / N \n",
    "\n",
    "* ####  Standard Deviation -\n",
    "\n",
    "Standard Deviation can be represented as the square root of Variance. To find the standard deviation of any data, you need to find the variance first. Standard Deviation is considered the best measure of dispersion.\n",
    "\n",
    "Formula: \n",
    "\n",
    "Standard Deviation = √σ "
   ]
  }
 ],
 "metadata": {
  "kernelspec": {
   "display_name": "Python 3 (ipykernel)",
   "language": "python",
   "name": "python3"
  },
  "language_info": {
   "codemirror_mode": {
    "name": "ipython",
    "version": 3
   },
   "file_extension": ".py",
   "mimetype": "text/x-python",
   "name": "python",
   "nbconvert_exporter": "python",
   "pygments_lexer": "ipython3",
   "version": "3.10.8"
  }
 },
 "nbformat": 4,
 "nbformat_minor": 5
}
