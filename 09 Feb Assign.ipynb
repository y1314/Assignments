{
 "cells": [
  {
   "cell_type": "markdown",
   "id": "4e58654f-a4f1-4f80-be87-3911eeb6ad40",
   "metadata": {},
   "source": [
    "Q1, Create a vehicle class with an init method having instance variables as name_of_vehicle, max_speed\n",
    "and average_of_vehicle."
   ]
  },
  {
   "cell_type": "code",
   "execution_count": 2,
   "id": "fc98f583-f1f0-4f4c-8dd1-ce8fb7f1a003",
   "metadata": {},
   "outputs": [],
   "source": [
    "class vehicle:\n",
    "    \n",
    "    def __init__ (self, name_of_vehicle, max_speed, average_of_vehicle):\n",
    "        self.name_of_vehicle = name_of_vehicle\n",
    "        self.max_speed = max_speed\n",
    "        self.average_of_vehicle = average_of_vehicle"
   ]
  },
  {
   "cell_type": "markdown",
   "id": "3a328ef3-9a33-4cd6-bd75-1d204ff46258",
   "metadata": {},
   "source": [
    "Q2. Create a child class car from the vehicle class created in Que 1, which will inherit the vehicle class.\n",
    "\n",
    "Create a method named seating_capacity which takes capacity as an argument and returns the name of\n",
    "the vehicle and its seating capacity."
   ]
  },
  {
   "cell_type": "code",
   "execution_count": 23,
   "id": "1fbdf749-e67d-43cf-859c-0577bb4d6e9f",
   "metadata": {},
   "outputs": [
    {
     "data": {
      "text/plain": [
       "('Hyundai', 6)"
      ]
     },
     "execution_count": 23,
     "metadata": {},
     "output_type": "execute_result"
    }
   ],
   "source": [
    "class car(vehicle):\n",
    "    \n",
    "    def return_child (self, seating_capacity):\n",
    "        self.seating_capacity = seating_capacity\n",
    "        return self.name_of_vehicle, self.seating_capacity\n",
    "    \n",
    "child_obj = car(\"Hyundai\", 350, 20)\n",
    "\n",
    "child_obj.return_child(6)"
   ]
  },
  {
   "cell_type": "markdown",
   "id": "bbdc833f-bc7e-48a9-9e4a-1b8b285d7ed4",
   "metadata": {},
   "source": [
    "Q3. What is multiple inheritance? Write a python code to demonstrate multiple inheritance."
   ]
  },
  {
   "cell_type": "code",
   "execution_count": 14,
   "id": "bc23db46-7d8f-45c3-bf72-b04b7e47fa1c",
   "metadata": {},
   "outputs": [],
   "source": [
    "# When a class can be derived from more than one base class this type of inheritance is called multiple inheritances. \n",
    "# In multiple inheritances, all the features of the base classes are inherited into the derived class."
   ]
  },
  {
   "cell_type": "code",
   "execution_count": 15,
   "id": "f1266a74-41fb-433b-8b72-5771443eaee5",
   "metadata": {},
   "outputs": [],
   "source": [
    "# Example of multiple inheritance: \n",
    "\n",
    "class class1 :\n",
    "    def test_class1(self):\n",
    "        return \"this is class 1\""
   ]
  },
  {
   "cell_type": "code",
   "execution_count": 16,
   "id": "f12401e5-93e7-423d-88b2-468971915d79",
   "metadata": {},
   "outputs": [],
   "source": [
    "class class2:\n",
    "    \n",
    "    def test_class2(self):\n",
    "        return \"this is class 2\""
   ]
  },
  {
   "cell_type": "code",
   "execution_count": 17,
   "id": "e2a2a63a-d05c-443b-8802-52e9c3db988b",
   "metadata": {},
   "outputs": [],
   "source": [
    "class class3(class1, class2):\n",
    "    pass\n",
    "obj_class3 = class3()"
   ]
  },
  {
   "cell_type": "code",
   "execution_count": 18,
   "id": "141269a9-11e0-4b3d-bad4-5a2bff7f1101",
   "metadata": {},
   "outputs": [
    {
     "data": {
      "text/plain": [
       "'this is class 1'"
      ]
     },
     "execution_count": 18,
     "metadata": {},
     "output_type": "execute_result"
    }
   ],
   "source": [
    "obj_class3.test_class1()"
   ]
  },
  {
   "cell_type": "code",
   "execution_count": 13,
   "id": "b31f2a32-6e2e-47c9-b48c-ca18380d75c6",
   "metadata": {},
   "outputs": [
    {
     "data": {
      "text/plain": [
       "'this is class 2'"
      ]
     },
     "execution_count": 13,
     "metadata": {},
     "output_type": "execute_result"
    }
   ],
   "source": [
    "obj_class3.test_class2()"
   ]
  },
  {
   "cell_type": "markdown",
   "id": "0d6665b9-cdff-4d10-b942-accf7a67c25a",
   "metadata": {},
   "source": [
    "Q4. What are getter and setter in python? Create a class and create a getter and a setter method in this\n",
    "class."
   ]
  },
  {
   "cell_type": "code",
   "execution_count": 20,
   "id": "4deb4954-218b-4327-b763-2e74985a959f",
   "metadata": {},
   "outputs": [
    {
     "data": {
      "text/plain": [
       "21"
      ]
     },
     "execution_count": 20,
     "metadata": {},
     "output_type": "execute_result"
    }
   ],
   "source": [
    "# Getters: These are the methods used in oops which helps to access the private attributes from a class.\n",
    "\n",
    "# Setters: These are the methods used in oops feature which helps to set the value to private attributes in a class.\n",
    "\n",
    "class sample:\n",
    "    def __init__(self, age = 0):\n",
    "         self._age = age\n",
    "      \n",
    "    # getter method\n",
    "    def get_age(self):\n",
    "        return self._age\n",
    "      \n",
    "    # setter method\n",
    "    def set_age(self, x):\n",
    "        self._age = x\n",
    "  \n",
    "yash = sample()\n",
    "  \n",
    "# setting the age using setter\n",
    "yash.set_age(21)\n",
    "\n",
    "yash.get_age()\n"
   ]
  },
  {
   "cell_type": "markdown",
   "id": "46c481a5-f79c-473b-a7c7-f533c8168c88",
   "metadata": {},
   "source": [
    "Q5.What is method overriding in python? Write a python code to demonstrate method overriding."
   ]
  },
  {
   "cell_type": "markdown",
   "id": "5728c143-7c7f-407e-9f86-0f520a3c041b",
   "metadata": {},
   "source": [
    "Ans - Method overriding is an ability of any object-oriented programming language that allows a subclass or child class to provide a specific implementation of a method that is already provided by one of its super-classes or parent classes. \n",
    "When a method in a subclass has the same name, same parameters or signature and same return type(or sub-type) as a method in its super-class, \n",
    "then the method in the subclass is said to override the method in the super-class."
   ]
  },
  {
   "cell_type": "code",
   "execution_count": 24,
   "id": "9a2f1173-570a-4df5-96ad-b07a4ecc1c30",
   "metadata": {},
   "outputs": [
    {
     "name": "stdout",
     "output_type": "stream",
     "text": [
      "Inside Parent\n",
      "Inside Child\n"
     ]
    }
   ],
   "source": [
    "\n",
    "\n",
    "class Parent():\n",
    "      \n",
    "    def show(self):\n",
    "        print(\"Inside Parent\")\n",
    "          \n",
    "class Child(Parent):\n",
    "      \n",
    "    def show(self):\n",
    "          \n",
    "        # Calling the parent's class\n",
    "        # method\n",
    "        super().show()\n",
    "        print(\"Inside Child\")\n",
    "          \n",
    "\n",
    "obj = Child()\n",
    "obj.show()"
   ]
  },
  {
   "cell_type": "code",
   "execution_count": null,
   "id": "76ab1388-0e47-4774-9817-4839edef9e5a",
   "metadata": {},
   "outputs": [],
   "source": []
  }
 ],
 "metadata": {
  "kernelspec": {
   "display_name": "Python 3 (ipykernel)",
   "language": "python",
   "name": "python3"
  },
  "language_info": {
   "codemirror_mode": {
    "name": "ipython",
    "version": 3
   },
   "file_extension": ".py",
   "mimetype": "text/x-python",
   "name": "python",
   "nbconvert_exporter": "python",
   "pygments_lexer": "ipython3",
   "version": "3.10.8"
  }
 },
 "nbformat": 4,
 "nbformat_minor": 5
}
