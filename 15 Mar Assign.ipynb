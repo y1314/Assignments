{
 "cells": [
  {
   "cell_type": "markdown",
   "id": "5ceab632-d69a-4714-8b61-27f1845ef673",
   "metadata": {},
   "source": [
    "### Q1. Explain the following with an example:\n",
    "### 1. Artificial Intellgence\n",
    "### 2. Machine Learning\n",
    "### 3. Deep Learning"
   ]
  },
  {
   "cell_type": "markdown",
   "id": "f4492ac5-3f68-4e37-ab13-ac66c4e52842",
   "metadata": {},
   "source": [
    "### 1. Artifical Intelligence - \n",
    "Artificial intelligence is the simulation of human intelligence processes by machines, especially computer systems. Specific applications of AI include expert systems, natural language processing, speech recognition and machine vision.\n",
    "\n",
    "* Google Maps and Ride-Hailing Applications\n",
    "* Face Detection and recognition\n",
    "* Text Editors and Autocorrect\n",
    "* Chatbots\n",
    "* E-Payments\n",
    "* Search and Recommendation algorithms\n",
    "\n",
    "### 2. Machine Learning -\n",
    "Machine Learning uses statistical techniques to make a computer more intelligent, which helps to fetch entire business data and utilize it automatically as per requirement. There are so many examples of Machine Learning in real-world, which are as follows:\n",
    "\n",
    "1. Speech & Image Recognition\n",
    "2. Traffic alerts using Google Map\n",
    "3. Chatbot (Online Customer Support\n",
    "4. Google Translation\n",
    "5. Ads Recommendation\n",
    "\n",
    "### 3. Deep Learning - \n",
    "Deep learning is a machine learning technique that teaches computers to do what comes naturally to humans: learn by example. Deep learning is a key technology behind driverless cars, enabling them to recognize a stop sign, or to distinguish a pedestrian from a lamppost. It is the key to voice control in consumer devices like phones, tablets, TVs, and hands-free speakers.\n",
    "\n",
    "* Identify Faces, Street Signs, Tumors.\n",
    "* Image Recognition.\n",
    "* Video Analysis.\n",
    "* NLP.\n",
    "* Anomaly Detection.\n",
    "* Drug Discovery.\n",
    "* Checkers Game.\n",
    "* Time Series Forecasting."
   ]
  },
  {
   "cell_type": "markdown",
   "id": "8004fc40-a1ae-4282-bdc2-97fa909ce1e0",
   "metadata": {},
   "source": [
    "### Q2. What is supervised learning? List some examples of supervised learning.\n"
   ]
  },
  {
   "cell_type": "markdown",
   "id": "415f8f7a-9ad8-4fac-9033-bf30970c2697",
   "metadata": {},
   "source": [
    "Supervised learning is the types of machine learning in which machines are trained using well \"labelled\" training data, and on basis of that data, machines predict the output. The labelled data means some input data is already tagged with the correct output.\n",
    "\n",
    "In supervised learning, the training data provided to the machines work as the supervisor that teaches the machines to predict the output correctly. It applies the same concept as a student learns in the supervision of the teacher.\n",
    "\n",
    "* Example -\n",
    "Risk Assessment, Image classification, Fraud Detection, spam filtering"
   ]
  },
  {
   "cell_type": "markdown",
   "id": "d855f9d5-4ab6-4b0e-a8e4-e0847f609cb8",
   "metadata": {},
   "source": [
    "### Q3. What is unsupervised learning? List some examples of unsupervised learning.\n"
   ]
  },
  {
   "cell_type": "markdown",
   "id": "e0f07fe2-8390-4104-91f0-27d50147e92c",
   "metadata": {},
   "source": [
    "Unsupervised learning, also known as unsupervised machine learning, uses machine learning algorithms to analyze and cluster unlabeled datasets. These algorithms discover hidden patterns or data groupings without the need for human intervention. \n",
    "\n",
    "* Example - data exploration, customer segmentation, recommender systems, target marketing campaigns."
   ]
  },
  {
   "cell_type": "markdown",
   "id": "ac81ab33-6b9d-4e30-9945-de5045cb685e",
   "metadata": {},
   "source": [
    "### Q4. What is the difference between AI, ML, DL, and DS?\n"
   ]
  },
  {
   "cell_type": "markdown",
   "id": "ff3b47c2-693e-4343-8389-e8e1ba86c4e3",
   "metadata": {},
   "source": [
    "🔹**Artificial Intelligence (AI)** enables machines to think by understanding, learning from the data, and taking decisions based on patterns hidden in the data or make inferences that would otherwise be very difficult for humans to make manually. The end goal of using ML or DL is to create an AI application or machine as smart as humans.\n",
    "\n",
    "🔹**Machine Learning (ML)** is a subset of AI; it provides us statistical tools/techniques like Supervised, Unsupervised, and Reinforcement learning to explore and analyze the data.\n",
    "\n",
    "🔹**Deep Learning (DL)** is further a subset of ML, and the main idea behind it is to make machines learn by mimicking the human brain. Here, we create a multi neural network architecture with the help of different techniques like ANN, CNN, and RNN.\n",
    "\n",
    "🔹**Data Science (DS)** is basically drawing insights from structured and unstructured data either by using ML or DL or without these techniques. We can even use different visualization tools, statistics, and probability to gain these insights."
   ]
  },
  {
   "cell_type": "markdown",
   "id": "90070d49-3d25-4d2e-b2c7-1e6166d67d1e",
   "metadata": {},
   "source": [
    "### Q5. What are the main differences between supervised, unsupervised, and semi-supervised learning?\n"
   ]
  },
  {
   "cell_type": "markdown",
   "id": "3184aaeb-e797-4525-9e97-41a1d7f69794",
   "metadata": {},
   "source": [
    "Unlike unsupervised learning algorithms, supervised learning algorithms use labeled data. From that data, it either predicts future outcomes or assigns data to specific categories based on the regression or classification problem that it is trying to solve. While supervised learning algorithms tend to be more accurate than unsupervised learning models, they require upfront human intervention to label the data appropriately.\n",
    "\n",
    "Semi-supervised learning occurs when only part of the given input data has been labelled. Unsupervised and semi-supervised learning can be more appealing alternatives as it can be time-consuming and costly to rely on domain expertise to label data appropriately for supervised learning."
   ]
  },
  {
   "cell_type": "markdown",
   "id": "e2ba900b-62db-41c2-a426-239c6c0c444c",
   "metadata": {},
   "source": [
    "### Q6. What is train, test and validation split? Explain the importance of each term.\n"
   ]
  },
  {
   "cell_type": "markdown",
   "id": "fd075687-fc24-4650-b518-710742b2e976",
   "metadata": {},
   "source": [
    "Train-Valid-Test split is a technique to evaluate the performance of your machine learning model — classification or regression alike. You take a given dataset and divide it into three subsets.\n",
    "\n",
    "#### Train Dataset\n",
    "Set of data used for learning (by the model), that is, to fit the parameters to the machine learning model.\n",
    "\n",
    "#### Valid Dataset\n",
    "Set of data used to provide an unbiased evaluation of a model fitted on the training dataset while tuning model hyperparameters.\n",
    "Also play a role in other forms of model preparation, such as feature selection, threshold cut-off selection.\n",
    "\n",
    "#### Test Dataset\n",
    "Set of data used to provide an unbiased evaluation of a final model fitted on the training dataset."
   ]
  },
  {
   "cell_type": "markdown",
   "id": "b32102b8-b6c4-4307-a545-92a394bfbe74",
   "metadata": {},
   "source": [
    "### Q7. How can unsupervised learning be used in anomaly detection?\n"
   ]
  },
  {
   "cell_type": "markdown",
   "id": "a6580359-703a-4323-9e75-e7edfaac52ed",
   "metadata": {},
   "source": [
    "Anomaly detection also known as outlier detection is the process of finding data points within a dataset that differs from the rest. Common applications of anomaly detection includes fraud detection in financial transactions, fault detection and predictive maintenance.\n",
    "\n",
    "**Unsupervised Anomaly Detection:** This method does require any training data and instead assumes two things about the data ie Only a small percentage of data is anomalous and Any anomaly is statistically different from the normal samples. Based on the above assumptions, the data is then clustered using a similarity measure and the data points which are far off from the cluster are considered to be anomalies."
   ]
  },
  {
   "cell_type": "markdown",
   "id": "161c3cea-b0cd-4077-a3ff-b64cf9c7d125",
   "metadata": {},
   "source": [
    "### Q8. List down some commonly used supervised learning algorithms and unsupervised learning algorithms."
   ]
  },
  {
   "cell_type": "markdown",
   "id": "891e2cf0-5b64-4b27-972b-e72a82ba6aec",
   "metadata": {},
   "source": [
    "#### Supervised Learning Algorithms -\n",
    "* linear classifiers\n",
    "* support vector machines (SVM)\n",
    "* decision trees\n",
    "* random forest\n",
    "\n",
    "#### Unsupervised Learning Algorithms -\n",
    "*  K-Means Clustering\n",
    "* Principal Component Analysis\n",
    "* Hierarchical Clustering\n"
   ]
  },
  {
   "cell_type": "code",
   "execution_count": null,
   "id": "02e4a0af-dc39-4511-9e8e-c79fb2314553",
   "metadata": {},
   "outputs": [],
   "source": []
  }
 ],
 "metadata": {
  "kernelspec": {
   "display_name": "Python 3 (ipykernel)",
   "language": "python",
   "name": "python3"
  },
  "language_info": {
   "codemirror_mode": {
    "name": "ipython",
    "version": 3
   },
   "file_extension": ".py",
   "mimetype": "text/x-python",
   "name": "python",
   "nbconvert_exporter": "python",
   "pygments_lexer": "ipython3",
   "version": "3.10.8"
  }
 },
 "nbformat": 4,
 "nbformat_minor": 5
}
