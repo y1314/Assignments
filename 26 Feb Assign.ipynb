{
 "cells": [
  {
   "cell_type": "code",
   "execution_count": 18,
   "id": "94d6c42f-e6f5-40e6-b0c1-5805ca23e5d7",
   "metadata": {},
   "outputs": [],
   "source": [
    "# Consider the below code to answer further questions:\n",
    "\n",
    "import numpy as np\n",
    "list_ = [ '1' , '2' , '3' , '4' , '5' ]\n",
    "array_list = np.array(object = list_)\n"
   ]
  },
  {
   "cell_type": "markdown",
   "id": "0c591439-d66a-42f9-8264-c7ed7cf9e520",
   "metadata": {},
   "source": [
    "#### Q1. Is there any difference in the data type of variables list_ and array_list? If there is then write a code to print the data types of both the variables."
   ]
  },
  {
   "cell_type": "markdown",
   "id": "409890c5-3b3d-49e6-bafe-e573b5906f59",
   "metadata": {},
   "source": [
    "Ans - Yes, there is difference between data types of varaibles list_ and array_list. As list_ is the list data type and array_list is the Numpy array data type."
   ]
  },
  {
   "cell_type": "code",
   "execution_count": 16,
   "id": "30b2c0b1-faa3-4228-9170-aa342fd70c35",
   "metadata": {},
   "outputs": [
    {
     "data": {
      "text/plain": [
       "list"
      ]
     },
     "execution_count": 16,
     "metadata": {},
     "output_type": "execute_result"
    }
   ],
   "source": [
    "type(list_)"
   ]
  },
  {
   "cell_type": "code",
   "execution_count": 17,
   "id": "4f35975d-dae9-4bb0-b0e8-f009f3fe74cb",
   "metadata": {},
   "outputs": [
    {
     "data": {
      "text/plain": [
       "numpy.ndarray"
      ]
     },
     "execution_count": 17,
     "metadata": {},
     "output_type": "execute_result"
    }
   ],
   "source": [
    "type(array_list)"
   ]
  },
  {
   "cell_type": "markdown",
   "id": "7cc6083f-d7b3-49fe-a59e-df512334fb6f",
   "metadata": {},
   "source": [
    "#### Q2. Write a code to print the data type of each and every element of both the variables list_ and array_list."
   ]
  },
  {
   "cell_type": "code",
   "execution_count": 20,
   "id": "4bd8d3b9-ba09-4cf1-888b-29efd770aa3d",
   "metadata": {},
   "outputs": [
    {
     "data": {
      "text/plain": [
       "[\"1:<class 'str'>\",\n",
       " \"2:<class 'str'>\",\n",
       " \"3:<class 'str'>\",\n",
       " \"4:<class 'str'>\",\n",
       " \"5:<class 'str'>\"]"
      ]
     },
     "execution_count": 20,
     "metadata": {},
     "output_type": "execute_result"
    }
   ],
   "source": [
    "[f\"{i}:{type(i)}\" for i in list_]"
   ]
  },
  {
   "cell_type": "code",
   "execution_count": 21,
   "id": "e646782f-8e2e-4de5-a342-2c9e8aa162c1",
   "metadata": {},
   "outputs": [
    {
     "data": {
      "text/plain": [
       "[\"1:<class 'numpy.str_'>\",\n",
       " \"2:<class 'numpy.str_'>\",\n",
       " \"3:<class 'numpy.str_'>\",\n",
       " \"4:<class 'numpy.str_'>\",\n",
       " \"5:<class 'numpy.str_'>\"]"
      ]
     },
     "execution_count": 21,
     "metadata": {},
     "output_type": "execute_result"
    }
   ],
   "source": [
    "\n",
    "[f\"{k}:{type(k)}\" for k in array_list]"
   ]
  },
  {
   "cell_type": "markdown",
   "id": "2491e392-b416-4cc8-ba54-cd0163e6bb0e",
   "metadata": {},
   "source": [
    "#### Q3. Considering the following changes in the variable, array_list:"
   ]
  },
  {
   "cell_type": "code",
   "execution_count": 22,
   "id": "ccb3b298-e361-4207-acf9-09675e36fa1d",
   "metadata": {},
   "outputs": [],
   "source": [
    "array_list = np.array(object = list_, dtype = int)"
   ]
  },
  {
   "cell_type": "markdown",
   "id": "9e07dd6a-5061-4aa3-8c32-99b5504d61e9",
   "metadata": {},
   "source": [
    "##### Will there be any difference in the data type of the elements present in both the variables, list_ and array_list? If so then print the data types of each and every element present in both the variables, list_ and array_list."
   ]
  },
  {
   "cell_type": "markdown",
   "id": "aec38207-0532-466e-9775-0caaa8842789",
   "metadata": {},
   "source": [
    "Ans - There won't be any change in elements of list_ , but type of array_list will change from string data type to integer."
   ]
  },
  {
   "cell_type": "code",
   "execution_count": 23,
   "id": "1dfd8cd5-8bc7-4235-8176-bd2dd227b139",
   "metadata": {},
   "outputs": [
    {
     "data": {
      "text/plain": [
       "[\"1:<class 'str'>\",\n",
       " \"2:<class 'str'>\",\n",
       " \"3:<class 'str'>\",\n",
       " \"4:<class 'str'>\",\n",
       " \"5:<class 'str'>\"]"
      ]
     },
     "execution_count": 23,
     "metadata": {},
     "output_type": "execute_result"
    }
   ],
   "source": [
    "[f\"{i}:{type(i)}\" for i in list_]"
   ]
  },
  {
   "cell_type": "code",
   "execution_count": 24,
   "id": "c32c6e6c-9fec-4618-86a7-e7161df3d943",
   "metadata": {},
   "outputs": [
    {
     "data": {
      "text/plain": [
       "[\"1:<class 'numpy.int64'>\",\n",
       " \"2:<class 'numpy.int64'>\",\n",
       " \"3:<class 'numpy.int64'>\",\n",
       " \"4:<class 'numpy.int64'>\",\n",
       " \"5:<class 'numpy.int64'>\"]"
      ]
     },
     "execution_count": 24,
     "metadata": {},
     "output_type": "execute_result"
    }
   ],
   "source": [
    "[f\"{k}:{type(k)}\" for k in array_list]"
   ]
  },
  {
   "cell_type": "code",
   "execution_count": 30,
   "id": "82869b1e-c88e-418d-bd96-34e1a1df7b4a",
   "metadata": {},
   "outputs": [],
   "source": [
    "# Consider the below code to answer further questions:\n",
    "    \n",
    "import numpy as np\n",
    "\n",
    "num_list = [ [ 1 , 2 , 3 ] , [ 4 , 5 , 6 ] ]\n",
    "\n",
    "num_array = np.array(object = num_list)"
   ]
  },
  {
   "cell_type": "markdown",
   "id": "934e99e8-dcf8-40d2-a555-6cab9c964be9",
   "metadata": {},
   "source": [
    "#### Q4. Write a code to find the following characteristics of variable, num_array:\n",
    "\n",
    "#### (i) shape\n",
    "#### (ii) size"
   ]
  },
  {
   "cell_type": "code",
   "execution_count": 32,
   "id": "9184e0ed-dd20-4565-a88e-972308019636",
   "metadata": {},
   "outputs": [
    {
     "data": {
      "text/plain": [
       "(2, 3)"
      ]
     },
     "execution_count": 32,
     "metadata": {},
     "output_type": "execute_result"
    }
   ],
   "source": [
    "num_array.shape"
   ]
  },
  {
   "cell_type": "code",
   "execution_count": 33,
   "id": "984a1d4f-3455-485f-84a5-7398c70656e9",
   "metadata": {},
   "outputs": [
    {
     "data": {
      "text/plain": [
       "6"
      ]
     },
     "execution_count": 33,
     "metadata": {},
     "output_type": "execute_result"
    }
   ],
   "source": [
    "num_array.size"
   ]
  },
  {
   "cell_type": "markdown",
   "id": "eace8642-d2d5-4408-8292-cd4c7609befd",
   "metadata": {},
   "source": [
    "#### Q5. Write a code to create numpy array of 3*3 matrix containing zeros only, using a numpy array creation function.\n",
    "[Hint: The size of the array will be 9 and the shape will be (3,3).]"
   ]
  },
  {
   "cell_type": "code",
   "execution_count": 24,
   "id": "3dd327b4-5c87-4407-9ff7-2d6b2f9be811",
   "metadata": {},
   "outputs": [],
   "source": [
    "arr1 = np.zeros((3,3))"
   ]
  },
  {
   "cell_type": "code",
   "execution_count": 25,
   "id": "851c4f0b-e305-4a7c-aabd-0e1242e316d5",
   "metadata": {},
   "outputs": [
    {
     "data": {
      "text/plain": [
       "array([[0., 0., 0.],\n",
       "       [0., 0., 0.],\n",
       "       [0., 0., 0.]])"
      ]
     },
     "execution_count": 25,
     "metadata": {},
     "output_type": "execute_result"
    }
   ],
   "source": [
    "arr1"
   ]
  },
  {
   "cell_type": "code",
   "execution_count": 27,
   "id": "d89fcf9d-0c06-4b6b-83ab-24d2a4a49006",
   "metadata": {},
   "outputs": [
    {
     "data": {
      "text/plain": [
       "9"
      ]
     },
     "execution_count": 27,
     "metadata": {},
     "output_type": "execute_result"
    }
   ],
   "source": [
    "arr1.size"
   ]
  },
  {
   "cell_type": "markdown",
   "id": "f2d87027-b3d0-4a6a-98bf-6623867dedd1",
   "metadata": {},
   "source": [
    "#### Q6. Create an identity matrix of shape (5,5) using numpy functions?\n",
    "[Hint: An identity matrix is a matrix containing 1 diagonally and other elements will be 0.]"
   ]
  },
  {
   "cell_type": "code",
   "execution_count": 28,
   "id": "708c9508-852b-42ef-a400-65f99495b760",
   "metadata": {},
   "outputs": [
    {
     "data": {
      "text/plain": [
       "array([[1., 0., 0., 0., 0.],\n",
       "       [0., 1., 0., 0., 0.],\n",
       "       [0., 0., 1., 0., 0.],\n",
       "       [0., 0., 0., 1., 0.],\n",
       "       [0., 0., 0., 0., 1.]])"
      ]
     },
     "execution_count": 28,
     "metadata": {},
     "output_type": "execute_result"
    }
   ],
   "source": [
    "np.eye(5,5)"
   ]
  }
 ],
 "metadata": {
  "kernelspec": {
   "display_name": "Python 3 (ipykernel)",
   "language": "python",
   "name": "python3"
  },
  "language_info": {
   "codemirror_mode": {
    "name": "ipython",
    "version": 3
   },
   "file_extension": ".py",
   "mimetype": "text/x-python",
   "name": "python",
   "nbconvert_exporter": "python",
   "pygments_lexer": "ipython3",
   "version": "3.10.8"
  }
 },
 "nbformat": 4,
 "nbformat_minor": 5
}
