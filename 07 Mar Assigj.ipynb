{
 "cells": [
  {
   "cell_type": "markdown",
   "id": "17e55c2c-7440-470e-9615-02812032b3b8",
   "metadata": {},
   "source": [
    "### Q1. What are the three measures of central tendency?"
   ]
  },
  {
   "cell_type": "markdown",
   "id": "742615d6-15fa-4292-a487-45573bb098be",
   "metadata": {},
   "source": [
    "The three measures of Central tendency are - \n",
    "\n",
    "1. Mean\n",
    "2. Median \n",
    "3. Mode"
   ]
  },
  {
   "cell_type": "markdown",
   "id": "aec53285-bca6-4761-9914-b5940d69dfb5",
   "metadata": {},
   "source": [
    "### Q2. What is the difference between the mean, median, and mode? How are they used to measure the central tendency of a dataset?\n"
   ]
  },
  {
   "cell_type": "markdown",
   "id": "31a18fd7-fdc3-46f8-9c17-30247c08c44b",
   "metadata": {},
   "source": [
    "### Measure of Central Tendency - \n",
    "\n",
    "A measure of central tendency is a single value that attempts to describe a set of data by identifying the central position within that set of data. As such, measures of central tendency are sometimes called measures of central location. They are also classed as summary statistics.\n",
    "\n",
    "* #### Mean - \n",
    "The mean represents the average value of the dataset. It can be calculated as the sum of all the values in the dataset divided by the number of values. \n",
    "\n",
    "* #### Median - \n",
    "Median is the middle value of the dataset in which the dataset is arranged in the ascending order or in descending order. When the dataset contains an even number of values, then the median value of the dataset can be found by taking the mean of the middle two values.\n",
    "\n",
    "Consider the given dataset with the odd number of observations arranged in descending order – 23, 21, 18, 16, 15, 13, 12, 10, 9, 7, 6, 5, and 2\n",
    "\n",
    "Here 12 is the middle or median number that has 6 values above it and 6 values below it.\n",
    "\n",
    "* #### Mode -\n",
    "The mode represents the frequently occurring value in the dataset. Sometimes the dataset may contain multiple modes and in some cases, it does not contain any mode at all.\n",
    "\n",
    "Consider the given dataset 5, 4, 2, 3, 2, 1, 5, 4, 5\n",
    "\n",
    "Since the mode represents the most common value. Hence, the most frequently repeated value in the given dataset is 5."
   ]
  },
  {
   "cell_type": "markdown",
   "id": "d34e157a-308d-4aaf-a688-def982986c7e",
   "metadata": {},
   "source": [
    "### Q3. Measure the three measures of central tendency for the given height data:\n",
    "### [178,177,176,177,178.2,178,175,179,180,175,178.9,176.2,177,172.5,178,176.5]"
   ]
  },
  {
   "cell_type": "code",
   "execution_count": 2,
   "id": "2b8b23f6-df96-4396-8c1a-af287d2e7dc3",
   "metadata": {},
   "outputs": [
    {
     "data": {
      "text/plain": [
       "177.01875"
      ]
     },
     "execution_count": 2,
     "metadata": {},
     "output_type": "execute_result"
    }
   ],
   "source": [
    "import numpy as np\n",
    "data = [178,177,176,177,178.2,178,175,179,180,175,178.9,176.2,177,172.5,178,176.5]\n",
    "\n",
    "# Mean -\n",
    "np.mean(data)"
   ]
  },
  {
   "cell_type": "code",
   "execution_count": 3,
   "id": "bb8e7437-4141-4a35-b69d-fc9296d1745c",
   "metadata": {},
   "outputs": [
    {
     "data": {
      "text/plain": [
       "177.0"
      ]
     },
     "execution_count": 3,
     "metadata": {},
     "output_type": "execute_result"
    }
   ],
   "source": [
    "# Median -\n",
    "np.median(data)"
   ]
  },
  {
   "cell_type": "code",
   "execution_count": 5,
   "id": "d8f7048e-3403-4716-ae48-531553b2cb9e",
   "metadata": {},
   "outputs": [
    {
     "name": "stderr",
     "output_type": "stream",
     "text": [
      "/tmp/ipykernel_102/317961722.py:3: FutureWarning: Unlike other reduction functions (e.g. `skew`, `kurtosis`), the default behavior of `mode` typically preserves the axis it acts along. In SciPy 1.11.0, this behavior will change: the default value of `keepdims` will become False, the `axis` over which the statistic is taken will be eliminated, and the value None will no longer be accepted. Set `keepdims` to True or False to avoid this warning.\n",
      "  stats.mode(data)\n"
     ]
    },
    {
     "data": {
      "text/plain": [
       "ModeResult(mode=array([177.]), count=array([3]))"
      ]
     },
     "execution_count": 5,
     "metadata": {},
     "output_type": "execute_result"
    }
   ],
   "source": [
    "from scipy import stats\n",
    "# Mode - \n",
    "stats.mode(data)"
   ]
  },
  {
   "cell_type": "markdown",
   "id": "d1514145-9e95-4d18-a808-94ee29470282",
   "metadata": {},
   "source": [
    "### Q4. Find the standard deviation for the given data:\n",
    "### [178,177,176,177,178.2,178,175,179,180,175,178.9,176.2,177,172.5,178,176.5]"
   ]
  },
  {
   "cell_type": "code",
   "execution_count": 7,
   "id": "650ba6c0-6681-4f9e-b66b-398cf6adf070",
   "metadata": {},
   "outputs": [
    {
     "data": {
      "text/plain": [
       "1.7885814036548633"
      ]
     },
     "execution_count": 7,
     "metadata": {},
     "output_type": "execute_result"
    }
   ],
   "source": [
    "data =[178,177,176,177,178.2,178,175,179,180,175,178.9,176.2,177,172.5,178,176.5]\n",
    "\n",
    "np.std(data)"
   ]
  },
  {
   "cell_type": "markdown",
   "id": "6514aa02-a10c-44e1-998d-e03a981136e8",
   "metadata": {},
   "source": [
    "### Q5. How are measures of dispersion such as range, variance, and standard deviation used to describe the spread of a dataset? Provide an example."
   ]
  },
  {
   "cell_type": "markdown",
   "id": "19a94843-e3a0-4ca5-a349-be7f29c7055a",
   "metadata": {},
   "source": [
    "* #### Range -\n",
    "Range is the measure of the difference between the largest and smallest value of the data variability. The range is the simplest form of Measures of Dispersion. \n",
    "\n",
    "\n",
    "Example: 1,2,3,4,5,6,7 \n",
    "\n",
    "Range = Highest value – Lowest value \n",
    "\n",
    "  = ( 7 – 1 ) = 6 \n",
    "* ####  Variance -\n",
    "In simple terms, the variance can be calculated by obtaining the sum of the squared distance of each term in the distribution from the Mean, and then dividing this by the total number of the terms in the distribution.  \n",
    "\n",
    "It basically shows how far a number, for example, a student’s mark in an exam, is from the Mean of the entire class. \n",
    "\n",
    "Formula: \n",
    "\n",
    "(σ2) = ∑ ( X − μ)2 / N \n",
    "\n",
    "* ####  Standard Deviation -\n",
    "\n",
    "Standard Deviation can be represented as the square root of Variance. To find the standard deviation of any data, you need to find the variance first. Standard Deviation is considered the best measure of dispersion.\n",
    "\n",
    "Formula: \n",
    "\n",
    "Standard Deviation = √σ "
   ]
  },
  {
   "cell_type": "markdown",
   "id": "e122e81c-1fa5-4d3d-9781-069462dbcffa",
   "metadata": {},
   "source": [
    "### Q6. What is a Venn diagram?\n"
   ]
  },
  {
   "cell_type": "markdown",
   "id": "576a2a2f-6779-44f8-9180-58c6b7845621",
   "metadata": {},
   "source": [
    "Ans - A Venn diagram is an illustration that uses circles to show the relationships among things or finite groups of things. Circles that overlap have a commonality while circles that do not overlap do not share those traits.\n",
    "\n",
    "Venn diagrams help to visually represent the similarities and differences between two concepts."
   ]
  },
  {
   "attachments": {
    "85109ae1-a19f-4f7f-a01d-fb9e2603471a.webp": {
     "image/webp": "[encoded data removed]"
    }
   },
   "cell_type": "markdown",
   "id": "799ee926-6815-4ffe-9ac1-b516605b52eb",
   "metadata": {},
   "source": [
    "![countrycity-56a4b8b03df78cf77283f15c.webp](attachment:85109ae1-a19f-4f7f-a01d-fb9e2603471a.webp)"
   ]
  },
  {
   "cell_type": "markdown",
   "id": "d4e0d802-2bdb-46c9-91f0-efea12fbfb1f",
   "metadata": {},
   "source": [
    "### Q7. For the two given sets A = (2,3,4,5,6,7) & B = (0,2,6,8,10). Find:\n",
    "### (i) A intersection B\n",
    "### (ii) A ⋃ B"
   ]
  },
  {
   "cell_type": "code",
   "execution_count": 9,
   "id": "f9bcca57-5aba-4903-bd5b-3171c25dd06d",
   "metadata": {},
   "outputs": [
    {
     "name": "stdout",
     "output_type": "stream",
     "text": [
      "Union : {0, 2, 3, 4, 5, 6, 7, 8, 10}\n",
      "Intersection : {2, 6}\n"
     ]
    }
   ],
   "source": [
    "A = {2,3,4,5,6,7};\n",
    "B = {0,2,6,8,10}\n",
    "\n",
    "# Union\n",
    "print(\"Union :\", A | B)\n",
    "\n",
    "# Intersection \n",
    "print(\"Intersection :\", A & B)"
   ]
  },
  {
   "cell_type": "markdown",
   "id": "ad0dcfcc-18dc-4488-8cba-87a6a02d2b08",
   "metadata": {},
   "source": [
    "### Q8. What do you understand about skewness in data?\n"
   ]
  },
  {
   "cell_type": "markdown",
   "id": "b04a88f2-35a9-4095-951e-eca03a9ac5b5",
   "metadata": {},
   "source": [
    "Skewness is the measure of the asymmetry of an ideally symmetric probability distribution and is given by the third standardized moment. If that sounds way too complex, don’t worry! Let me break it down for you.\n",
    "\n",
    "In simple words, skewness is the measure of how much the probability distribution of a random variable deviates from the normal distribution."
   ]
  },
  {
   "cell_type": "markdown",
   "id": "6ff55cd3-ed2a-4445-bd5b-9bbcc1c7cd42",
   "metadata": {},
   "source": [
    "### Q9. If a data is right skewed then what will be the position of median with respect to mean?\n"
   ]
  },
  {
   "cell_type": "markdown",
   "id": "61ecdbdd-6a84-4cd7-a2d1-0e20b87a8b64",
   "metadata": {},
   "source": [
    "Ans - The mean of a right-skewed distribution is almost always greater than its median. That’s because extreme values (the values in the tail) affect the mean more than the median."
   ]
  },
  {
   "cell_type": "markdown",
   "id": "b7603b0b-6f98-4d8f-bbe9-5b6b603d5947",
   "metadata": {},
   "source": [
    "### Q10. Explain the difference between covariance and correlation. How are these measures used in statistical analysis?\n"
   ]
  },
  {
   "cell_type": "markdown",
   "id": "91dc7822-fac4-45ea-a957-f4674a0440dd",
   "metadata": {},
   "source": [
    "### Covariance - \n",
    "Covariance is a statistical term that refers to a systematic relationship between two random variables in which a change in the other reflects a change in one variable.\n",
    "\n",
    "The covariance value can range from -∞ to +∞, with a negative value indicating a negative relationship and a positive value indicating a positive relationship.\n",
    "\n",
    "The greater this number, the more reliant the relationship. Positive covariance denotes a direct relationship and is represented by a positive number.\n",
    "\n",
    "### Correlation -\n",
    "Correlation is a measure that determines the degree to which two or more random variables move in sequence. When an equivalent movement of another variable reciprocates the movement of one variable in some way or another during the study of two variables, the variables are said to be correlated.\n",
    "\n",
    "### Difference between covariance and correlation - \n",
    "Covariance and correlation greatly aid in understanding the relationship between two continuous variables. Covariance indicates whether two variables fluctuate in the same (positive covariance) or opposite direction (negative covariance). The numerical value of covariance has no importance; only the sign is relevant. Correlation, on the other hand, describes how a change in one variable leads to a change in the percentage of the second variable. Correlation ranges from -1 to +1. If the correlation value is 0, it suggests that there is no linear link between the variables, but another functional relationship may exist."
   ]
  },
  {
   "cell_type": "markdown",
   "id": "42e4af60-2684-4966-93c1-dd72011cbd13",
   "metadata": {},
   "source": [
    "### Q11. What is the formula for calculating the sample mean? Provide an example calculation for a dataset.\n"
   ]
  },
  {
   "attachments": {
    "58a62890-7201-4d95-b7ed-72ea309f63a4.png": {
     "image/png": "[encoded data removed]"
    }
   },
   "cell_type": "markdown",
   "id": "99ac57a6-931d-42a5-8ea5-b21c64bbb651",
   "metadata": {},
   "source": [
    "**Sample Mean Formula -**\n",
    "\n",
    "\n",
    "![Screenshot 2023-03-23 201929.png](attachment:58a62890-7201-4d95-b7ed-72ea309f63a4.png)\n",
    "\n",
    "**Example:** Find the sample mean of 60, 57, 109, 50.\n",
    "\n",
    "**Solution:**\n",
    "\n",
    "To find: Sample mean\n",
    "\n",
    "Sum of terms = 60 + 57 + 109 + 50 = 276\n",
    "\n",
    "Number of terms = 4\n",
    "\n",
    "Using sample mean formula,\n",
    "\n",
    "mean = (sum of terms)/(number of terms)\n",
    "\n",
    "mean = 276/4 = 69\n",
    "\n",
    "**Answer:** The sample mean of 60, 57, 109, 50 is  69."
   ]
  },
  {
   "cell_type": "markdown",
   "id": "5022762c-246a-4d5e-b5e8-2647e34c6cb1",
   "metadata": {},
   "source": [
    "### Q12. For a normal distribution data what is the relationship between its measure of central tendency?\n"
   ]
  },
  {
   "attachments": {
    "f2a794e5-f1b5-4eda-b9b6-80b2c91b13a3.png": {
     "image/png": "[encoded data removed]"
    }
   },
   "cell_type": "markdown",
   "id": "db136e21-28df-4c09-8bad-086d0451a4b2",
   "metadata": {},
   "source": [
    "### Noramal Distribution -\n",
    "![Screenshot-from-2020-03-06-17-19-03.png](attachment:f2a794e5-f1b5-4eda-b9b6-80b2c91b13a3.png)\n",
    "\n",
    "We call this **Bell-shaped curve** a **Normal Distribution**. Carl Friedrich Gauss discovered it so sometimes we also call it a **Gaussian Distribution** as well.\n",
    "\n",
    "We can simplify the Normal Distribution’s Probability Density by using only two parameters: **𝝻** Mean and **𝛔2**. This curve is **symmetric** around the Mean. Also as you can see for this distribution, the **Mean, Median, and Mode are all the same.**"
   ]
  },
  {
   "cell_type": "markdown",
   "id": "131df58e-a725-4044-bfa5-1f0891964c56",
   "metadata": {},
   "source": [
    "### Q13. How is covariance different from correlation?\n"
   ]
  },
  {
   "cell_type": "markdown",
   "id": "629a8217-8710-458d-a66f-0112e834bb40",
   "metadata": {},
   "source": [
    "Ans - Covariance and correlation greatly aid in understanding the relationship between two continuous variables. Covariance indicates whether two variables fluctuate in the same (positive covariance) or opposite direction (negative covariance). The numerical value of covariance has no importance; only the sign is relevant. Correlation, on the other hand, describes how a change in one variable leads to a change in the percentage of the second variable. Correlation ranges from -1 to +1. If the correlation value is 0, it suggests that there is no linear link between the variables, but another functional relationship may exist."
   ]
  },
  {
   "cell_type": "markdown",
   "id": "8f748c74-8457-4077-abfa-50e168060681",
   "metadata": {},
   "source": [
    "### Q14. How do outliers affect measures of central tendency and dispersion? Provide an example."
   ]
  },
  {
   "cell_type": "markdown",
   "id": "8e2f074a-7fdd-4bf4-b7b1-709bc3e31f1c",
   "metadata": {},
   "source": [
    "* Outliers - An outlier is a value that is much greater than or much less than most of the other values in a data set. "
   ]
  },
  {
   "cell_type": "code",
   "execution_count": 22,
   "id": "412b589c-9617-43d2-9ddb-91ec60587bec",
   "metadata": {},
   "outputs": [
    {
     "name": "stdout",
     "output_type": "stream",
     "text": [
      "Mean when outlier is included: 14.555555555555555\n",
      "Median when outlier is included: 5.0\n",
      "Mode when outlier is included: ModeResult(mode=array([10]), count=array([2]))\n",
      "Standard deviation when outlier is included: 26.841556136008005\n",
      "------------------------------------------------------------------\n",
      " When outlier is not included \n",
      "Mean when outlier is not included: 5.125\n",
      "Median when outlier is not included: 4.5\n",
      "Mode when outlier is not included: ModeResult(mode=array([10]), count=array([2]))\n",
      "Standard deviation when outlier is not included: 3.179524335494226\n",
      "------------------------------------------------------------------\n",
      "Conclusion - We can see a big difference in value of Mean, Median, Standard Deviation, When outliers is present and when outliers are not present, But MEDIAN is not that much affected, that why we use median over mean when outliers are present\n"
     ]
    },
    {
     "name": "stderr",
     "output_type": "stream",
     "text": [
      "/tmp/ipykernel_102/1578673782.py:8: FutureWarning: Unlike other reduction functions (e.g. `skew`, `kurtosis`), the default behavior of `mode` typically preserves the axis it acts along. In SciPy 1.11.0, this behavior will change: the default value of `keepdims` will become False, the `axis` over which the statistic is taken will be eliminated, and the value None will no longer be accepted. Set `keepdims` to True or False to avoid this warning.\n",
      "  print(\"Mode when outlier is included:\", stats.mode(data1))\n",
      "/tmp/ipykernel_102/1578673782.py:15: FutureWarning: Unlike other reduction functions (e.g. `skew`, `kurtosis`), the default behavior of `mode` typically preserves the axis it acts along. In SciPy 1.11.0, this behavior will change: the default value of `keepdims` will become False, the `axis` over which the statistic is taken will be eliminated, and the value None will no longer be accepted. Set `keepdims` to True or False to avoid this warning.\n",
      "  print(\"Mode when outlier is not included:\", stats.mode(data2))\n"
     ]
    }
   ],
   "source": [
    "# Example - \n",
    "data1 = [4,6,10,2,90,3,10,5,1]\n",
    "data2 = [4,6,10,2,3,10,5,1]\n",
    "\n",
    "# When outlier is included\n",
    "print(\"Mean when outlier is included:\", np.mean(data1))\n",
    "print(\"Median when outlier is included:\", np.median(data1))\n",
    "print(\"Mode when outlier is included:\", stats.mode(data1))\n",
    "print(\"Standard deviation when outlier is included:\", np.std(data1))\n",
    "print(\"------------------------------------------------------------------\")\n",
    "print(''' When outlier is not included ''')\n",
    "\n",
    "print(\"Mean when outlier is not included:\", np.mean(data2))\n",
    "print(\"Median when outlier is not included:\", np.median(data2))\n",
    "print(\"Mode when outlier is not included:\", stats.mode(data2))\n",
    "print(\"Standard deviation when outlier is not included:\", np.std(data2))\n",
    "print(\"------------------------------------------------------------------\")\n",
    "\n",
    "print(\"Conclusion - We can see a big difference in value of Mean, Median, Standard Deviation, When outliers is present and when outliers are not present, But MEDIAN is not that much affected, that why we use median over mean when outliers are present\")"
   ]
  }
 ],
 "metadata": {
  "kernelspec": {
   "display_name": "Python 3 (ipykernel)",
   "language": "python",
   "name": "python3"
  },
  "language_info": {
   "codemirror_mode": {
    "name": "ipython",
    "version": 3
   },
   "file_extension": ".py",
   "mimetype": "text/x-python",
   "name": "python",
   "nbconvert_exporter": "python",
   "pygments_lexer": "ipython3",
   "version": "3.10.8"
  }
 },
 "nbformat": 4,
 "nbformat_minor": 5
}
