{
 "cells": [
  {
   "cell_type": "markdown",
   "id": "c38f56d5-45ed-432b-a02e-83103beffa0d",
   "metadata": {},
   "source": [
    "### Q1. Pearson correlation coefficient is a measure of the linear relationship between two variables. Suppose you have collected data on the amount of time students spend studying for an exam and their final exam scores. Calculate the Pearson correlation coefficient between these two variables and interpret the result."
   ]
  },
  {
   "cell_type": "code",
   "execution_count": 15,
   "id": "4d966537-54bf-48ea-8970-f32c46b279d1",
   "metadata": {},
   "outputs": [],
   "source": [
    "import numpy as np\n",
    "import pandas as pd\n",
    "import seaborn as sns"
   ]
  },
  {
   "cell_type": "code",
   "execution_count": 16,
   "id": "5fdcb440-8936-40ba-877d-7e7d9bd8b3f1",
   "metadata": {},
   "outputs": [],
   "source": [
    "df1 = pd.DataFrame({\n",
    "    'Study_time_hours' : [7, 2, 1, 5,3],\n",
    "    'Scores' : [92, 65, 55, 85, 70]\n",
    "})\n",
    "    "
   ]
  },
  {
   "cell_type": "code",
   "execution_count": 17,
   "id": "644c670c-e9e5-46d3-8023-d59f9f030327",
   "metadata": {},
   "outputs": [
    {
     "data": {
      "text/html": [
       "<div>\n",
       "<style scoped>\n",
       "    .dataframe tbody tr th:only-of-type {\n",
       "        vertical-align: middle;\n",
       "    }\n",
       "\n",
       "    .dataframe tbody tr th {\n",
       "        vertical-align: top;\n",
       "    }\n",
       "\n",
       "    .dataframe thead th {\n",
       "        text-align: right;\n",
       "    }\n",
       "</style>\n",
       "<table border=\"1\" class=\"dataframe\">\n",
       "  <thead>\n",
       "    <tr style=\"text-align: right;\">\n",
       "      <th></th>\n",
       "      <th>Study_time_hours</th>\n",
       "      <th>Scores</th>\n",
       "    </tr>\n",
       "  </thead>\n",
       "  <tbody>\n",
       "    <tr>\n",
       "      <th>Study_time_hours</th>\n",
       "      <td>1.000000</td>\n",
       "      <td>0.987583</td>\n",
       "    </tr>\n",
       "    <tr>\n",
       "      <th>Scores</th>\n",
       "      <td>0.987583</td>\n",
       "      <td>1.000000</td>\n",
       "    </tr>\n",
       "  </tbody>\n",
       "</table>\n",
       "</div>"
      ],
      "text/plain": [
       "                  Study_time_hours    Scores\n",
       "Study_time_hours          1.000000  0.987583\n",
       "Scores                    0.987583  1.000000"
      ]
     },
     "execution_count": 17,
     "metadata": {},
     "output_type": "execute_result"
    }
   ],
   "source": [
    "# Pearson Correlation coefficient\n",
    "df1.corr(method = 'pearson')"
   ]
  },
  {
   "cell_type": "markdown",
   "id": "bdbbd8e0-f48e-4742-b7e3-b7691234d845",
   "metadata": {},
   "source": [
    "Result -study time and scores are positive correlated, as the study time increases Scores of the students also increase."
   ]
  },
  {
   "cell_type": "markdown",
   "id": "55a0cae3-6f54-4da9-bd6e-81632f1442c1",
   "metadata": {},
   "source": [
    "### Q2. Spearman's rank correlation is a measure of the monotonic relationship between two variables. Suppose you have collected data on the amount of sleep individuals get each night and their overall job satisfaction level on a scale of 1 to 10. Calculate the Spearman's rank correlation between these two variables and interpret the result."
   ]
  },
  {
   "cell_type": "code",
   "execution_count": 18,
   "id": "3c1cb69f-b612-4f7a-be46-6cd6f4281fbe",
   "metadata": {},
   "outputs": [],
   "source": [
    "df2 = pd.DataFrame({\n",
    "    'Sleep_hours' : [5, 4, 7, 8, 6],\n",
    "    'job_satis' : [7, 4, 9, 8, 5]\n",
    "})"
   ]
  },
  {
   "cell_type": "code",
   "execution_count": 19,
   "id": "42de0115-a4be-4c61-9ed4-908cedae899a",
   "metadata": {},
   "outputs": [
    {
     "data": {
      "text/html": [
       "<div>\n",
       "<style scoped>\n",
       "    .dataframe tbody tr th:only-of-type {\n",
       "        vertical-align: middle;\n",
       "    }\n",
       "\n",
       "    .dataframe tbody tr th {\n",
       "        vertical-align: top;\n",
       "    }\n",
       "\n",
       "    .dataframe thead th {\n",
       "        text-align: right;\n",
       "    }\n",
       "</style>\n",
       "<table border=\"1\" class=\"dataframe\">\n",
       "  <thead>\n",
       "    <tr style=\"text-align: right;\">\n",
       "      <th></th>\n",
       "      <th>Sleep_hours</th>\n",
       "      <th>job_satis</th>\n",
       "    </tr>\n",
       "  </thead>\n",
       "  <tbody>\n",
       "    <tr>\n",
       "      <th>Sleep_hours</th>\n",
       "      <td>1.0</td>\n",
       "      <td>0.8</td>\n",
       "    </tr>\n",
       "    <tr>\n",
       "      <th>job_satis</th>\n",
       "      <td>0.8</td>\n",
       "      <td>1.0</td>\n",
       "    </tr>\n",
       "  </tbody>\n",
       "</table>\n",
       "</div>"
      ],
      "text/plain": [
       "             Sleep_hours  job_satis\n",
       "Sleep_hours          1.0        0.8\n",
       "job_satis            0.8        1.0"
      ]
     },
     "execution_count": 19,
     "metadata": {},
     "output_type": "execute_result"
    }
   ],
   "source": [
    "# Spearmans rand correlation\n",
    "df2.corr(method = 'spearman')"
   ]
  },
  {
   "cell_type": "markdown",
   "id": "72486f9d-d941-417e-bfa4-097e199b59cc",
   "metadata": {},
   "source": [
    "Result - We can see that Sleep hours are 80% correlated with job satisfication, if job is satisfied they we will get more sleep."
   ]
  },
  {
   "cell_type": "markdown",
   "id": "d8d00864-9a83-4da8-9478-4c28bed77d95",
   "metadata": {},
   "source": [
    "### Q3. Suppose you are conducting a study to examine the relationship between the number of hours of exercise per week and body mass index (BMI) in a sample of adults. You collected data on both variables for 50 participants. Calculate the Pearson correlation coefficient and the Spearman's rank correlation between these two variables and compare the results."
   ]
  },
  {
   "cell_type": "code",
   "execution_count": 20,
   "id": "7ba0798a-1c4c-4c8a-a5ec-2f2dbf8c1bb8",
   "metadata": {},
   "outputs": [
    {
     "data": {
      "text/html": [
       "<div>\n",
       "<style scoped>\n",
       "    .dataframe tbody tr th:only-of-type {\n",
       "        vertical-align: middle;\n",
       "    }\n",
       "\n",
       "    .dataframe tbody tr th {\n",
       "        vertical-align: top;\n",
       "    }\n",
       "\n",
       "    .dataframe thead th {\n",
       "        text-align: right;\n",
       "    }\n",
       "</style>\n",
       "<table border=\"1\" class=\"dataframe\">\n",
       "  <thead>\n",
       "    <tr style=\"text-align: right;\">\n",
       "      <th></th>\n",
       "      <th>BMI</th>\n",
       "      <th>Steps _count</th>\n",
       "    </tr>\n",
       "  </thead>\n",
       "  <tbody>\n",
       "    <tr>\n",
       "      <th>BMI</th>\n",
       "      <td>1.000000</td>\n",
       "      <td>-0.185551</td>\n",
       "    </tr>\n",
       "    <tr>\n",
       "      <th>Steps _count</th>\n",
       "      <td>-0.185551</td>\n",
       "      <td>1.000000</td>\n",
       "    </tr>\n",
       "  </tbody>\n",
       "</table>\n",
       "</div>"
      ],
      "text/plain": [
       "                   BMI  Steps _count\n",
       "BMI           1.000000     -0.185551\n",
       "Steps _count -0.185551      1.000000"
      ]
     },
     "execution_count": 20,
     "metadata": {},
     "output_type": "execute_result"
    }
   ],
   "source": [
    "# Here i am using daily walking steps and BMI\n",
    "\n",
    "df3 = pd.read_csv(\"bmi.csv\")\n",
    "\n",
    "# Pearson Correlation\n",
    "\n",
    "df3.corr(method = 'pearson')"
   ]
  },
  {
   "cell_type": "code",
   "execution_count": 21,
   "id": "b82250f9-00a2-4eb0-ad00-5d7c9ecdc71f",
   "metadata": {},
   "outputs": [
    {
     "data": {
      "text/html": [
       "<div>\n",
       "<style scoped>\n",
       "    .dataframe tbody tr th:only-of-type {\n",
       "        vertical-align: middle;\n",
       "    }\n",
       "\n",
       "    .dataframe tbody tr th {\n",
       "        vertical-align: top;\n",
       "    }\n",
       "\n",
       "    .dataframe thead th {\n",
       "        text-align: right;\n",
       "    }\n",
       "</style>\n",
       "<table border=\"1\" class=\"dataframe\">\n",
       "  <thead>\n",
       "    <tr style=\"text-align: right;\">\n",
       "      <th></th>\n",
       "      <th>BMI</th>\n",
       "      <th>Steps _count</th>\n",
       "    </tr>\n",
       "  </thead>\n",
       "  <tbody>\n",
       "    <tr>\n",
       "      <th>BMI</th>\n",
       "      <td>1.00000</td>\n",
       "      <td>-0.12944</td>\n",
       "    </tr>\n",
       "    <tr>\n",
       "      <th>Steps _count</th>\n",
       "      <td>-0.12944</td>\n",
       "      <td>1.00000</td>\n",
       "    </tr>\n",
       "  </tbody>\n",
       "</table>\n",
       "</div>"
      ],
      "text/plain": [
       "                  BMI  Steps _count\n",
       "BMI           1.00000      -0.12944\n",
       "Steps _count -0.12944       1.00000"
      ]
     },
     "execution_count": 21,
     "metadata": {},
     "output_type": "execute_result"
    }
   ],
   "source": [
    "# Spearman rank correlation\n",
    "\n",
    "df3.corr(method = 'spearman')"
   ]
  },
  {
   "cell_type": "markdown",
   "id": "1139e188-017d-4a28-aee9-c5c4a61e0702",
   "metadata": {},
   "source": [
    "Result - There is negative correlation between steps walk count and Body mass index"
   ]
  },
  {
   "cell_type": "markdown",
   "id": "f0329696-4a8a-4450-a1c2-00245c077343",
   "metadata": {},
   "source": [
    "### Q4. A researcher is interested in examining the relationship between the number of hours individuals spend watching television per day and their level of physical activity. The researcher collected data on both variables from a sample of 50 participants. Calculate the Pearson correlation coefficient between these two variables."
   ]
  },
  {
   "cell_type": "code",
   "execution_count": 22,
   "id": "89782630-e54c-45bb-a18d-90b5afcc8e92",
   "metadata": {},
   "outputs": [
    {
     "data": {
      "text/html": [
       "<div>\n",
       "<style scoped>\n",
       "    .dataframe tbody tr th:only-of-type {\n",
       "        vertical-align: middle;\n",
       "    }\n",
       "\n",
       "    .dataframe tbody tr th {\n",
       "        vertical-align: top;\n",
       "    }\n",
       "\n",
       "    .dataframe thead th {\n",
       "        text-align: right;\n",
       "    }\n",
       "</style>\n",
       "<table border=\"1\" class=\"dataframe\">\n",
       "  <thead>\n",
       "    <tr style=\"text-align: right;\">\n",
       "      <th></th>\n",
       "      <th>TV hours</th>\n",
       "      <th>Physical activity hours</th>\n",
       "    </tr>\n",
       "  </thead>\n",
       "  <tbody>\n",
       "    <tr>\n",
       "      <th>TV hours</th>\n",
       "      <td>1.00000</td>\n",
       "      <td>-0.13341</td>\n",
       "    </tr>\n",
       "    <tr>\n",
       "      <th>Physical activity hours</th>\n",
       "      <td>-0.13341</td>\n",
       "      <td>1.00000</td>\n",
       "    </tr>\n",
       "  </tbody>\n",
       "</table>\n",
       "</div>"
      ],
      "text/plain": [
       "                         TV hours  Physical activity hours\n",
       "TV hours                  1.00000                 -0.13341\n",
       "Physical activity hours  -0.13341                  1.00000"
      ]
     },
     "execution_count": 22,
     "metadata": {},
     "output_type": "execute_result"
    }
   ],
   "source": [
    "df4 = pd.read_csv(\"tv st.csv\")\n",
    "\n",
    "# Pearson Correlation \n",
    "\n",
    "df4.corr(method = 'pearson')"
   ]
  },
  {
   "cell_type": "markdown",
   "id": "38f14675-c21f-484d-9a80-df0ccfaf0092",
   "metadata": {},
   "source": [
    "### Q5. A survey was conducted to examine the relationship between age and preference for a particular brand of soft drink. The survey results are shown below:\n",
    "\n",
    "| Age (Years) | Soft drink preference|\n",
    "|--------|----------|\n",
    "|25 | Coke |\n",
    "|42 | Pepsi |\n",
    "|37 | Mountain dew |\n",
    "|19 | Coke |\n",
    "|31 | Pepsi |\n",
    "|28 | Coke|\n",
    "\n"
   ]
  },
  {
   "cell_type": "markdown",
   "id": "0a866b33-7b87-4072-9c08-5a06c8ecd5c9",
   "metadata": {},
   "source": [
    "* No instruction is given in this question No. 5. About what to do with this data. "
   ]
  },
  {
   "cell_type": "markdown",
   "id": "034b3176-2d70-415d-8f7b-0acde2c4c454",
   "metadata": {},
   "source": [
    "### Q6. A company is interested in examining the relationship between the number of sales calls made per day and the number of sales made per week. The company collected data on both variables from a sample of 30 sales representatives. Calculate the Pearson correlation coefficient between these two variables."
   ]
  },
  {
   "cell_type": "code",
   "execution_count": 25,
   "id": "6022971f-d9c2-4774-b7e6-4c85f0c26d6a",
   "metadata": {},
   "outputs": [
    {
     "data": {
      "text/html": [
       "<div>\n",
       "<style scoped>\n",
       "    .dataframe tbody tr th:only-of-type {\n",
       "        vertical-align: middle;\n",
       "    }\n",
       "\n",
       "    .dataframe tbody tr th {\n",
       "        vertical-align: top;\n",
       "    }\n",
       "\n",
       "    .dataframe thead th {\n",
       "        text-align: right;\n",
       "    }\n",
       "</style>\n",
       "<table border=\"1\" class=\"dataframe\">\n",
       "  <thead>\n",
       "    <tr style=\"text-align: right;\">\n",
       "      <th></th>\n",
       "      <th>Sales call made per day</th>\n",
       "      <th>Sales per week</th>\n",
       "    </tr>\n",
       "  </thead>\n",
       "  <tbody>\n",
       "    <tr>\n",
       "      <th>Sales call made per day</th>\n",
       "      <td>1.000000</td>\n",
       "      <td>0.042782</td>\n",
       "    </tr>\n",
       "    <tr>\n",
       "      <th>Sales per week</th>\n",
       "      <td>0.042782</td>\n",
       "      <td>1.000000</td>\n",
       "    </tr>\n",
       "  </tbody>\n",
       "</table>\n",
       "</div>"
      ],
      "text/plain": [
       "                         Sales call made per day  Sales per week\n",
       "Sales call made per day                 1.000000        0.042782\n",
       "Sales per week                          0.042782        1.000000"
      ]
     },
     "execution_count": 25,
     "metadata": {},
     "output_type": "execute_result"
    }
   ],
   "source": [
    "df4 = pd.read_csv(\"sales.csv\")\n",
    "\n",
    "# Pearson Correlation \n",
    "\n",
    "df4.corr(method = 'pearson')"
   ]
  },
  {
   "cell_type": "code",
   "execution_count": null,
   "id": "13aa8fbd-ec71-4570-b007-efd77105845b",
   "metadata": {},
   "outputs": [],
   "source": []
  }
 ],
 "metadata": {
  "kernelspec": {
   "display_name": "Python 3 (ipykernel)",
   "language": "python",
   "name": "python3"
  },
  "language_info": {
   "codemirror_mode": {
    "name": "ipython",
    "version": 3
   },
   "file_extension": ".py",
   "mimetype": "text/x-python",
   "name": "python",
   "nbconvert_exporter": "python",
   "pygments_lexer": "ipython3",
   "version": "3.10.8"
  }
 },
 "nbformat": 4,
 "nbformat_minor": 5
}
