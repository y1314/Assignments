{
 "cells": [
  {
   "cell_type": "markdown",
   "id": "b232cc5a-5e05-4feb-8f00-4523addea050",
   "metadata": {},
   "source": [
    "Q1. Create a function which will take a list as an argument and return the product of all the numbers\n",
    "after creating a flat list.\n",
    "\n",
    "Use the below-given list as an argument for your function.\n",
    "\n",
    "list1 = [1,2,3,4, [44,55,66, True], False, (34,56,78,89,34), {1,2,3,3,2,1}, {1:34, \"key2\": [55, 67, 78, 89], 4: (45,\n",
    "22, 61, 34)}, [56, 'data science'], 'Machine Learning']\n",
    "\n",
    "Note: you must extract numeric keys and values of the dictionary also.\n"
   ]
  },
  {
   "cell_type": "code",
   "execution_count": 2,
   "id": "e9609ec7-7ba3-4cee-ba43-f59f57c0281a",
   "metadata": {},
   "outputs": [
    {
     "name": "stdout",
     "output_type": "stream",
     "text": [
      "[1, 2, 3, 4, 44, 55, 66, True, False, 34, 56, 78, 89, 34, 1, 2, 3, 1, 34, 'key2', 55, 67, 78, 89, 4, 45, 22, 61, 34, 56, 'data science', 'Machine Learning']\n",
      "4134711838987085478833841242112000\n"
     ]
    }
   ],
   "source": [
    "list1 = [1,2,3,4, [44,55,66, True], False, (34,56,78,89,34), {1,2,3,3,2,1}, {1:34, \"key2\": [55, 67, 78, 89], 4: (45,\n",
    "22, 61, 34)}, [56, 'data science'], 'Machine Learning']\n",
    "\n",
    "def flatlist(list1):\n",
    "    flist = []\n",
    "    \n",
    "    for i in list1:\n",
    "        if type(i) == list or type(i) == tuple or type(i) == set :\n",
    "            for element in i:\n",
    "                flist.append(element)\n",
    "                \n",
    "        elif type(i) == dict :\n",
    "            temp_list = list(i.items())\n",
    "            for i in temp_list :\n",
    "                for element in i:\n",
    "                    if type(element) == list or type(element) == tuple :\n",
    "                        for j in element :\n",
    "                            flist.append(j)\n",
    "                    else :\n",
    "                        flist.append(element)\n",
    "                        \n",
    "        else :\n",
    "            flist.append(i)\n",
    "    \n",
    "    return flist\n",
    "list2 = flatlist(list1)\n",
    "print(list2)\n",
    "\n",
    "a = 1\n",
    "for i in list2:\n",
    "    if type(i) == int:\n",
    "        a = a*i\n",
    "        \n",
    "print(a)"
   ]
  },
  {
   "cell_type": "markdown",
   "id": "7367d14f-68e1-43b3-91a8-62f39428e817",
   "metadata": {},
   "source": [
    "Q2. Write a python program for encrypting a message sent to you by your friend. The logic of encryption\n",
    "should be such that, for a the output should be z. For b, the output should be y. For c, the output should\n",
    "be x respectively. Also, the whitespace should be replaced with a dollar sign. Keep the punctuation\n",
    "marks unchanged.\n",
    "\n",
    "Input Sentence: I want to become a Data Scientist.\n",
    "\n",
    "Encrypt the above input sentence using the program you just created.\n",
    "\n",
    "Note: Convert the given input sentence into lowercase before encrypting. The final output should be\n",
    "lowercase."
   ]
  },
  {
   "cell_type": "code",
   "execution_count": 7,
   "id": "6d7bbe2d-9570-412a-a7c5-0ab7c0b4c8fe",
   "metadata": {},
   "outputs": [
    {
     "data": {
      "text/plain": [
       "'r$dzmg$gl$yvxlnv$z$wzgz$hxrvmgrhg'"
      ]
     },
     "execution_count": 7,
     "metadata": {},
     "output_type": "execute_result"
    }
   ],
   "source": [
    "def encrypt(x):\n",
    "    encrypted_msg = \"\"\n",
    "    alphabet = ['a','b','c','d','e','f','g','h','i','j','k','l','m','n','o','p','q','r','s','t','u','v','w','x','y','z']\n",
    "    reverse_alphabet = alphabet[::-1]\n",
    "    \n",
    "    for i in x:\n",
    "        if i ==' ':\n",
    "            encrypted_msg += '$'\n",
    "            \n",
    "        elif i == \".\" or i == \"!\" or i ==\",\" or i == \"?\" :\n",
    "            encrypted_msg += i\n",
    "        \n",
    "        else :\n",
    "            n = alphabet.index(i.lower())\n",
    "            encrypted_msg += reverse_alphabet[n]\n",
    "            \n",
    "    return encrypted_msg\n",
    "\n",
    "input_sentence = \"I want to become a Data Scientist\"\n",
    "\n",
    "encrypt(input_sentence)"
   ]
  },
  {
   "cell_type": "code",
   "execution_count": null,
   "id": "87c817c5-2956-4627-b4c0-92249365a175",
   "metadata": {},
   "outputs": [],
   "source": []
  }
 ],
 "metadata": {
  "kernelspec": {
   "display_name": "Python 3 (ipykernel)",
   "language": "python",
   "name": "python3"
  },
  "language_info": {
   "codemirror_mode": {
    "name": "ipython",
    "version": 3
   },
   "file_extension": ".py",
   "mimetype": "text/x-python",
   "name": "python",
   "nbconvert_exporter": "python",
   "pygments_lexer": "ipython3",
   "version": "3.10.8"
  }
 },
 "nbformat": 4,
 "nbformat_minor": 5
}
