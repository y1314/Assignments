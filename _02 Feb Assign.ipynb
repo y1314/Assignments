{
 "cells": [
  {
   "cell_type": "markdown",
   "id": "33e8cf8e-954d-479e-9dd6-0500de997b93",
   "metadata": {},
   "source": [
    "Q1. Explain with an example each when to use a for loop and a while loop."
   ]
  },
  {
   "cell_type": "code",
   "execution_count": 17,
   "id": "fbf856a8-2e67-484e-a1b2-5c7280c67673",
   "metadata": {},
   "outputs": [
    {
     "name": "stdout",
     "output_type": "stream",
     "text": [
      "1\n",
      "3\n",
      "3\n",
      "45\n",
      "3\n",
      "3\n",
      "23\n"
     ]
    }
   ],
   "source": [
    "#FOR loop - For loop is used when the number of iterations is already known. To iterate, the range or xrange function is used.\n",
    "\n",
    "\n",
    "\n",
    "\"\"\"Example for loop -- Printing data available at even index\"\"\"\n",
    "\n",
    "l1 = [1,2,3,2,3,4,45,3,3,2,3,534,23,4]\n",
    "\n",
    "for i in range (0, len(l1), 2):\n",
    "    print(l1[i])"
   ]
  },
  {
   "cell_type": "code",
   "execution_count": 16,
   "id": "5d2cf07e-f6bf-40ee-9457-6be48bd88d16",
   "metadata": {},
   "outputs": [
    {
     "name": "stdin",
     "output_type": "stream",
     "text": [
      "enter your limit 5\n"
     ]
    },
    {
     "data": {
      "text/plain": [
       "15"
      ]
     },
     "execution_count": 16,
     "metadata": {},
     "output_type": "execute_result"
    }
   ],
   "source": [
    "#WHILE loop - While loop is used when the number of iterations is already Unknown. In the while loop, it can be repeated at every iteration.\n",
    "\"\"\"Example while loop -- Sum of number till some point\"\"\"\n",
    "\n",
    "n = int(input(\"enter your limit\"))\n",
    "start = 0\n",
    "counter = 1 \n",
    "while counter <= n:\n",
    "    start = start + counter\n",
    "    counter = counter + 1\n",
    "start"
   ]
  },
  {
   "cell_type": "markdown",
   "id": "9ed06654-b648-4894-ae7f-dde7097b252f",
   "metadata": {},
   "source": [
    "Q2. Write a python program to print the sum and product of the first 10 natural numbers using for and while loop."
   ]
  },
  {
   "cell_type": "code",
   "execution_count": 27,
   "id": "5fb998c5-7434-430d-b717-e4584687e01b",
   "metadata": {},
   "outputs": [
    {
     "name": "stdout",
     "output_type": "stream",
     "text": [
      "Sum using for loop is =  55\n",
      "The product using for loop is :  3628800\n"
     ]
    }
   ],
   "source": [
    "# sum and product of the first 10 natural numbers using for loop ---\n",
    "\n",
    "sum = 0\n",
    "for i in range (0, 11):\n",
    "    sum = sum + i\n",
    "print(\"Sum using for loop is = \", sum)\n",
    "\n",
    "product = 1\n",
    "for i in range (1, 11):\n",
    "    product = product * i\n",
    "print(\"The product using for loop is : \", product)"
   ]
  },
  {
   "cell_type": "code",
   "execution_count": 22,
   "id": "2f388440-2759-4b5f-911c-04f565e2a896",
   "metadata": {},
   "outputs": [
    {
     "name": "stdout",
     "output_type": "stream",
     "text": [
      "Sum using while loop is :  55\n",
      "The product while loop is :  3628800\n"
     ]
    }
   ],
   "source": [
    "# sum and product of the first 10 natural numbers using while loop -- \n",
    "\n",
    "n = 10\n",
    "start = 0\n",
    "counter = 1 \n",
    "while counter <= n:\n",
    "    start = start + counter\n",
    "    counter = counter + 1\n",
    "print (\"Sum using while loop is : \", start)\n",
    "\n",
    "n = 10\n",
    "pro = 1\n",
    "counter = 1\n",
    "while counter <= n :\n",
    "    pro = pro * counter\n",
    "    counter = counter + 1\n",
    "print(\"The product while loop is : \", pro)\n"
   ]
  },
  {
   "cell_type": "markdown",
   "id": "7d54228c-e13b-4724-a657-052bb12d10f2",
   "metadata": {},
   "source": [
    "Q3. Create a python program to compute the electricity bill for a household.\n",
    "\n",
    "The per-unit charges in rupees are as follows: For the first 100 units, the user will be charged Rs. 4.5 per\n",
    "unit, for the next 100 units, the user will be charged Rs. 6 per unit, and for the next 100 units, the user will\n",
    "be charged Rs. 10 per unit, After 300 units and above the user will be charged Rs. 20 per unit.\n",
    "You are required to take the units of electricity consumed in a month from the user as input.\n",
    "\n",
    "Your program must pass this test case: when the unit of electricity consumed by the user in a month is\n",
    "310, the total electricity bill should be 2250.."
   ]
  },
  {
   "cell_type": "code",
   "execution_count": 15,
   "id": "62488789-f2ab-4008-9b53-d58252c36fe1",
   "metadata": {},
   "outputs": [
    {
     "name": "stdin",
     "output_type": "stream",
     "text": [
      "enter unit consumed : 310\n"
     ]
    },
    {
     "name": "stdout",
     "output_type": "stream",
     "text": [
      "Total amount to be paid is :  2250.0 rs\n"
     ]
    }
   ],
   "source": [
    "unit = int(input(\"enter unit consumed :\"))\n",
    "\n",
    "if unit > 0 and unit <= 100:\n",
    "    amt = (100 - unit)*4.5\n",
    "elif unit > 100 and unit <= 200:\n",
    "    amt = (unit - 100)*6 + 100*4.5\n",
    "elif unit > 200 and unit <= 300:\n",
    "    amt = (unit - 200)*10 + 100*6 + 100*4.5\n",
    "elif unit > 300:\n",
    "    amt = (unit - 300)*20 + 100*10 + 100*6 + 100*4.5\n",
    "print(\"Total amount to be paid is : \", amt,\"rs\")"
   ]
  },
  {
   "cell_type": "markdown",
   "id": "b1a68ebc-a84f-4480-ada3-2b4b69ae838e",
   "metadata": {},
   "source": [
    "Q4. Create a list of numbers from 1 to 100. Use for loop and while loop to calculate the cube of each\n",
    "number and if the cube of that number is divisible by 4 or 5 then append that number in a list and print\n",
    "that list."
   ]
  },
  {
   "cell_type": "code",
   "execution_count": 5,
   "id": "e0aaa591-072f-4b9b-a1f7-1dbb3f3262f5",
   "metadata": {},
   "outputs": [
    {
     "name": "stdout",
     "output_type": "stream",
     "text": [
      "[8, 64, 125, 216, 512, 1000, 1728, 2744, 3375, 4096, 5832, 8000, 10648, 13824, 15625, 17576, 21952, 27000, 32768, 39304, 42875, 46656, 54872, 64000, 74088, 85184, 91125, 97336, 110592, 125000, 140608, 157464, 166375, 175616, 195112, 216000, 238328, 262144, 274625, 287496, 314432, 343000, 373248, 405224, 421875, 438976, 474552, 512000, 551368, 592704, 614125, 636056, 681472, 729000, 778688, 830584, 857375, 884736, 941192, 1000000]\n"
     ]
    }
   ],
   "source": [
    "# Using for loop\n",
    "\n",
    "l =[]\n",
    "for i in range(1, 101):\n",
    "    if (i**3)%4 == 0 or (i**3)%5 ==0:\n",
    "        l.append(i**3)\n",
    "    i += 1\n",
    "print(l)"
   ]
  },
  {
   "cell_type": "code",
   "execution_count": 6,
   "id": "0824213c-f519-4677-8b50-e395fb58e77d",
   "metadata": {},
   "outputs": [
    {
     "name": "stdout",
     "output_type": "stream",
     "text": [
      "[8, 64, 125, 216, 512, 1000, 1728, 2744, 3375, 4096, 5832, 8000, 10648, 13824, 15625, 17576, 21952, 27000, 32768, 39304, 42875, 46656, 54872, 64000, 74088, 85184, 91125, 97336, 110592, 125000, 140608, 157464, 166375, 175616, 195112, 216000, 238328, 262144, 274625, 287496, 314432, 343000, 373248, 405224, 421875, 438976, 474552, 512000, 551368, 592704, 614125, 636056, 681472, 729000, 778688, 830584, 857375, 884736, 941192, 1000000]\n"
     ]
    }
   ],
   "source": [
    "# using while loop\n",
    "\n",
    "a = []\n",
    "i = 1\n",
    "while i<=100:\n",
    "    if (i**3)%4 ==0 or (i**3)%5 == 0:\n",
    "        a.append(i**3)\n",
    "    i += 1\n",
    "print(a)"
   ]
  },
  {
   "cell_type": "markdown",
   "id": "90593ddc-a20d-447b-8fde-94afe9e1b6a1",
   "metadata": {},
   "source": [
    "Q5. Write a program to filter count vowels in the below-given string.\n",
    "string = \"I want to become a data scientist\""
   ]
  },
  {
   "cell_type": "code",
   "execution_count": 8,
   "id": "2c391673-cf75-4a7e-bcc9-5161bbcd01a0",
   "metadata": {},
   "outputs": [
    {
     "name": "stdout",
     "output_type": "stream",
     "text": [
      "The number of vowels in the given string is : 12\n"
     ]
    }
   ],
   "source": [
    "string = \" I want to become a data scientist \"\n",
    "\n",
    "count = 0\n",
    "\n",
    "vowels = [\"A\", \"a\", \"E\", \"e\", \"I\", \"i\", \"O\", \"o\", \"U\", \"u\" ]\n",
    "\n",
    "for i in range(len(string)):\n",
    "    if string[i] in vowels:\n",
    "        count += 1\n",
    "print(\"The number of vowels in the given string is :\", count)\n"
   ]
  }
 ],
 "metadata": {
  "kernelspec": {
   "display_name": "Python 3 (ipykernel)",
   "language": "python",
   "name": "python3"
  },
  "language_info": {
   "codemirror_mode": {
    "name": "ipython",
    "version": 3
   },
   "file_extension": ".py",
   "mimetype": "text/x-python",
   "name": "python",
   "nbconvert_exporter": "python",
   "pygments_lexer": "ipython3",
   "version": "3.10.8"
  }
 },
 "nbformat": 4,
 "nbformat_minor": 5
}
