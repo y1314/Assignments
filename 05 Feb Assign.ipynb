{
 "cells": [
  {
   "cell_type": "markdown",
   "id": "37941640-91be-4c9d-ab3b-534c8654a619",
   "metadata": {},
   "source": [
    "Q1. Explain Class and Object with respect to Object-Oriented Programming. Give a suitable example."
   ]
  },
  {
   "cell_type": "code",
   "execution_count": 1,
   "id": "2d39491c-1501-4ab0-96a2-effd78706629",
   "metadata": {},
   "outputs": [
    {
     "name": "stdout",
     "output_type": "stream",
     "text": [
      "5\n"
     ]
    }
   ],
   "source": [
    "\"\"\"Class - A Class is like an object constructor, or a \"blueprint\" for creating objects. To create a class, use the keyword class.\n",
    "        Now we can use the class name to create objects.\"\"\"\n",
    "    \n",
    "# Create a class named MyClass, with a property named x:\n",
    "class MyClass:\n",
    "  x = 5\n",
    "\n",
    "\"\"\"Object - An object is a physical entity. A class can be used to create many objects.\"\"\"\n",
    "\n",
    "# we can use the class named MyClass to create objects:\n",
    "\n",
    "# an object named p1, and print the value of x:\n",
    "\n",
    "p1 = MyClass()\n",
    "print(p1.x)"
   ]
  },
  {
   "cell_type": "markdown",
   "id": "42209b14-0d11-42f3-8316-5372608df3a5",
   "metadata": {},
   "source": [
    "Q2. Name the four pillars of OOPs."
   ]
  },
  {
   "cell_type": "markdown",
   "id": "6f1125f4-b88f-49af-a04a-da924f381821",
   "metadata": {},
   "source": [
    "The four pillars for OOPs are:\n",
    "    \n",
    "1. Abstraction\n",
    "\n",
    "2. Encapsulation\n",
    "\n",
    "3. Inheritance\n",
    "\n",
    "4. Polymorphism"
   ]
  },
  {
   "cell_type": "markdown",
   "id": "67bf2e79-6722-432e-9899-8f914ba7b661",
   "metadata": {},
   "source": [
    "Q3. Explain why the __init__() function is used. Give a suitable example."
   ]
  },
  {
   "cell_type": "code",
   "execution_count": 11,
   "id": "e385c9fb-839e-457f-8e39-d9121944f987",
   "metadata": {},
   "outputs": [
    {
     "name": "stdout",
     "output_type": "stream",
     "text": [
      "Yash\n",
      "23\n"
     ]
    }
   ],
   "source": [
    "\"\"\"All classes have a function called __init__(), which is always executed when the class is being initiated.\n",
    "\n",
    "Use the __init__() function to assign values to object properties, or other operations that are necessary to do when the object is being created. \"\"\"\n",
    "\n",
    "class person:\n",
    "    def __init__(self, name, age):\n",
    "        self.name = name\n",
    "        self.age = age\n",
    "\n",
    "p1 = person(\"Yash\", 23)\n",
    "\n",
    "print(p1.name)\n",
    "print(p1.age)"
   ]
  },
  {
   "cell_type": "markdown",
   "id": "2ea68678-176d-41b1-b67a-1fc4d4a7a9b3",
   "metadata": {},
   "source": [
    "Q4. Why self is used in OOPs?"
   ]
  },
  {
   "cell_type": "markdown",
   "id": "25d7ac40-d210-4aba-9db1-83cf7f2d70fc",
   "metadata": {},
   "source": [
    "* The self parameter is a reference to the current instance of the class, and is used to access variables that belongs to the class.\n",
    "\n",
    "* It does not have to be named self , you can call it whatever you like, but it has to be the first parameter of any function in the class."
   ]
  },
  {
   "cell_type": "markdown",
   "id": "36d2160d-be5d-4c2e-ad30-f71d5e530e2b",
   "metadata": {},
   "source": [
    "Q5. What is inheritance? Give an example for each type of inheritance."
   ]
  },
  {
   "cell_type": "code",
   "execution_count": 14,
   "id": "12110629-d67d-4869-989a-2026ea46bedd",
   "metadata": {},
   "outputs": [
    {
     "data": {
      "text/plain": [
       "'Inheritance allows us to define a class that inherits all the methods and properties from another class.\\n\\nParent class is the class being inherited from, also called base class.\\n\\nChild class is the class that inherits from another class, also called derived class.\\n\\n# Types of Inheritance - \\n\\n1. Multilevel inheritance\\n2. Multiple Inheritance'"
      ]
     },
     "execution_count": 14,
     "metadata": {},
     "output_type": "execute_result"
    }
   ],
   "source": [
    "\"\"\"Inheritance allows us to define a class that inherits all the methods and properties from another class.\n",
    "\n",
    "Parent class is the class being inherited from, also called base class.\n",
    "\n",
    "Child class is the class that inherits from another class, also called derived class.\n",
    "\n",
    "# Types of Inheritance - \n",
    "\n",
    "1. Multilevel inheritance\n",
    "2. Multiple Inheritance\"\"\""
   ]
  },
  {
   "cell_type": "markdown",
   "id": "cbecfd18-5fc6-460a-b60d-02dc20f10ff5",
   "metadata": {},
   "source": [
    "### Example of Multilevel Inheritance"
   ]
  },
  {
   "cell_type": "code",
   "execution_count": 22,
   "id": "6f59f951-a834-4bb8-ae36-6374f6b4f8a6",
   "metadata": {},
   "outputs": [],
   "source": [
    "class class1 :\n",
    "    def test_class1(self):\n",
    "        return \"this is a meth from class1\""
   ]
  },
  {
   "cell_type": "code",
   "execution_count": 23,
   "id": "077b219d-13bc-4b13-aaf9-c85618bcfc04",
   "metadata": {},
   "outputs": [],
   "source": [
    "class class2(class1):\n",
    "    def test_class2(self):\n",
    "        return \"this is a meth from class 2 \""
   ]
  },
  {
   "cell_type": "code",
   "execution_count": 24,
   "id": "3e5a07ac-68d1-47f3-87ad-32a824271064",
   "metadata": {},
   "outputs": [],
   "source": [
    "class class3(class2):\n",
    "    pass"
   ]
  },
  {
   "cell_type": "code",
   "execution_count": 19,
   "id": "9cb95038-eed9-44df-abf3-1cf153d3b5de",
   "metadata": {},
   "outputs": [],
   "source": [
    "obj_class3 = class3()"
   ]
  },
  {
   "cell_type": "code",
   "execution_count": 20,
   "id": "e9edf5cd-d6c1-4340-b2d8-7215e4d944ed",
   "metadata": {},
   "outputs": [
    {
     "data": {
      "text/plain": [
       "'this is a meth from class 2 '"
      ]
     },
     "execution_count": 20,
     "metadata": {},
     "output_type": "execute_result"
    }
   ],
   "source": [
    "obj_class3.test_class1()"
   ]
  },
  {
   "cell_type": "code",
   "execution_count": 21,
   "id": "f856c15a-b560-4104-874c-efc67a52d440",
   "metadata": {},
   "outputs": [
    {
     "data": {
      "text/plain": [
       "'this is a meth from class 2 '"
      ]
     },
     "execution_count": 21,
     "metadata": {},
     "output_type": "execute_result"
    }
   ],
   "source": [
    "obj_class3.test_class2()"
   ]
  },
  {
   "cell_type": "markdown",
   "id": "436e2afa-0a15-4c3b-ae2a-af09ab736c3a",
   "metadata": {},
   "source": [
    "### Example of Multiple Inheritance"
   ]
  },
  {
   "cell_type": "code",
   "execution_count": 25,
   "id": "9137c3e3-b5dc-4c75-970a-5c704967b517",
   "metadata": {},
   "outputs": [],
   "source": [
    "class class1 :\n",
    "    def test_class1(self):\n",
    "        return \"this is class 1\""
   ]
  },
  {
   "cell_type": "code",
   "execution_count": 26,
   "id": "778a1953-e7a4-4aea-8bf4-5720b4215bf0",
   "metadata": {},
   "outputs": [],
   "source": [
    "class class2:\n",
    "    \n",
    "    def test_class2(self):\n",
    "        return \"this is class 2\""
   ]
  },
  {
   "cell_type": "code",
   "execution_count": 27,
   "id": "c9b0b0a7-e75e-4fca-b72e-0d965761c3f4",
   "metadata": {},
   "outputs": [],
   "source": [
    "class class3(class1, class2):\n",
    "    pass"
   ]
  },
  {
   "cell_type": "code",
   "execution_count": 28,
   "id": "0c1e88a5-b361-4d62-87ab-b47140f73098",
   "metadata": {},
   "outputs": [],
   "source": [
    "obj_class3 = class3()"
   ]
  },
  {
   "cell_type": "code",
   "execution_count": 29,
   "id": "7f547b8f-dff6-4610-a4e6-c758905ca8c7",
   "metadata": {},
   "outputs": [
    {
     "data": {
      "text/plain": [
       "'this is class 1'"
      ]
     },
     "execution_count": 29,
     "metadata": {},
     "output_type": "execute_result"
    }
   ],
   "source": [
    "obj_class3.test_class1()"
   ]
  },
  {
   "cell_type": "code",
   "execution_count": 30,
   "id": "ab7fd0bc-221a-43c0-89e1-26800e6e26a1",
   "metadata": {},
   "outputs": [
    {
     "data": {
      "text/plain": [
       "'this is class 2'"
      ]
     },
     "execution_count": 30,
     "metadata": {},
     "output_type": "execute_result"
    }
   ],
   "source": [
    "obj_class3.test_class2()"
   ]
  }
 ],
 "metadata": {
  "kernelspec": {
   "display_name": "Python 3 (ipykernel)",
   "language": "python",
   "name": "python3"
  },
  "language_info": {
   "codemirror_mode": {
    "name": "ipython",
    "version": 3
   },
   "file_extension": ".py",
   "mimetype": "text/x-python",
   "name": "python",
   "nbconvert_exporter": "python",
   "pygments_lexer": "ipython3",
   "version": "3.10.8"
  }
 },
 "nbformat": 4,
 "nbformat_minor": 5
}
