{
 "cells": [
  {
   "cell_type": "markdown",
   "id": "22f6994b-03d2-449b-b651-7b6e2be51c08",
   "metadata": {},
   "source": [
    "### Q1: What are the Probability Mass Function (PMF) and Probability Density Function (PDF)? Explain with an example.\n",
    "\n"
   ]
  },
  {
   "cell_type": "markdown",
   "id": "c026967b-a5a0-4f5f-93f0-f89d9c0c11d5",
   "metadata": {},
   "source": [
    "Ans - The **Probability Mass Function (PMF)** is also called a probability function or frequency function which characterizes the distribution of a discrete random variable. The probability mass function is usually the primary component of defining a discrete probability distribution, but it differs from the probability density function (PDF) where it produces distinct outcomes. This is the reason why probability mass function is used in computer programming and statistical modelling.\n",
    "\n",
    "Example - Suppose a fair coin is tossed twice and the sample space is recorded as S = [HH, HT, TH, TT]. \n",
    "\n",
    "The probability of getting heads needs to be determined. \n",
    "\n",
    "Let X be the random variable that shows how many heads are obtained. X can take on the values 0, 1, 2. \n",
    "\n",
    "The probability that X will be equal to 1 is 0.5. Thus, it can be said that the probability mass function of X evaluated at 1 will be 0.5."
   ]
  },
  {
   "cell_type": "markdown",
   "id": "176f11a9-a369-478d-ad07-66c839f72406",
   "metadata": {},
   "source": [
    "* **Probability density function (PDF)** is a function that provides the likelihood that the value of a random variable will fall between a certain range of values. We use the probability density function in the case of continuous random variables.\n",
    "\n",
    "Say we have a continuous random variable whose probability density function is given by f(x) = x + 2, when 0 < x ≤ 2.\n",
    "\n",
    "We want to find P(0.5 < X < 1). \n",
    "\n",
    "Then we integrate x + 2 within the limits 0.5 and 1. \n",
    "\n",
    "This gives us 1.375. \n",
    "\n",
    "Thus, the probability that the continuous random variable lies between 0.5 and 1 is 1.375."
   ]
  },
  {
   "cell_type": "markdown",
   "id": "95f55ba3-4d0e-4ccd-836c-3e6794bb940c",
   "metadata": {},
   "source": [
    "### Q2: What is Cumulative Density Function (CDF)? Explain with an example. Why CDF is used?\n"
   ]
  },
  {
   "cell_type": "markdown",
   "id": "003c6e3b-993a-43d6-ad74-98d926320374",
   "metadata": {},
   "source": [
    "Ans - A cumulative distribution function (CDF) describes the probabilities of a random variable having values less than or equal to x. It is a cumulative function because it sums the total likelihood up to that point. Its output always ranges between 0 and 1.\n",
    "\n",
    "The cumulative distribution function is used to describe the probability distribution of random variables. It can be used to describe the probability for a discrete, continuous or mixed variable. It is obtained by summing up the probability density function and getting the cumulative probability for a random variable.\n",
    "\n",
    "For example, consider the height of an adult male in the United States. We can use the cumulative distribution function to find the probability that a person is less than or equal to 6 feet tall."
   ]
  },
  {
   "cell_type": "markdown",
   "id": "3e376d70-8c70-4d2b-ba77-f7af4bddaf0a",
   "metadata": {},
   "source": [
    "### Q3: What are some examples of situations where the normal distribution might be used as a model? Explain how the parameters of the normal distribution relate to the shape of the distribution."
   ]
  },
  {
   "cell_type": "markdown",
   "id": "7bff4415-8af0-467a-ae7d-b86a00f079b9",
   "metadata": {},
   "source": [
    "Ans - Some examples of situations where the normal distribution might be used as a model are -\n",
    "\n",
    "1. Student average report\n",
    "2. Technical stock market\n",
    "3. Shoe size\n",
    "4. Tossing a coin\n",
    "5. Rolling a dice\n",
    "6. G\n",
    "\n",
    "* The distribution can be described by two values: the mean and the standard deviation.\n",
    "\n",
    "* The mean is the location parameter while the standard deviation is the scale parameter.\n",
    "\n",
    "* The mean determines where the peak of the curve is centered. Increasing the mean moves the curve right, while decreasing it moves the curve left.\n",
    "\n",
    "* The standard deviation stretches or squeezes the curve. A small standard deviation results in a narrow curve, while a large standard deviation leads to a wide curve."
   ]
  },
  {
   "cell_type": "markdown",
   "id": "3251fd42-636c-484c-a23d-3c829120e070",
   "metadata": {},
   "source": [
    "### Q4: Explain the importance of Normal Distribution. Give a few real-life examples of Normal Distribution.\n"
   ]
  },
  {
   "cell_type": "markdown",
   "id": "4984908d-f63d-4f0d-b6d0-d5b8514c23e3",
   "metadata": {},
   "source": [
    "Ans - In a normal distribution, data is symmetrically distributed with no skew. When plotted on a graph, the data follows a bell shape, with most values clustering around a central region and tapering off as they go further away from the center.\n",
    "\n",
    "All kinds of variables in natural and social sciences are normally or approximately normally distributed. Height, birth weight, reading ability, job satisfaction, or SAT scores are just a few examples of such variables.\n",
    "\n",
    "Because normally distributed variables are so common, many statistical tests are designed for normally distributed populations.\n",
    "\n",
    "Understanding the properties of normal distributions means you can use inferential statistics to compare different groups and make estimates about populations using samples.\n",
    "\n",
    "**Example: Using the empirical rule in a normal distribution**\n",
    "\n",
    "You collect SAT scores from students in a new test preparation course. The data follows a normal distribution with a mean score (M) of 1150 and a standard deviation (SD) of 150.\n",
    "Following the empirical rule:\n",
    "\n",
    "Around 68% of scores are between 1,000 and 1,300, 1 standard deviation above and below the mean.\n",
    "Around 95% of scores are between 850 and 1,450, 2 standard deviations above and below the mean.\n",
    "Around 99.7% of scores are between 700 and 1,600, 3 standard deviations above and below the mean."
   ]
  },
  {
   "cell_type": "markdown",
   "id": "0ba4b9b6-c79e-4cb9-812d-c85f6f6ad8e9",
   "metadata": {},
   "source": [
    "### Q5: What is Bernaulli Distribution? Give an Example. What is the difference between Bernoulli Distribution and Binomial Distribution?\n"
   ]
  },
  {
   "cell_type": "markdown",
   "id": "6da84ec4-42c1-48a5-ba2c-f40a8fa79fad",
   "metadata": {},
   "source": [
    "Ans - A discrete probability distribution wherein the random variable can only have 2 possible outcomes is known as a Bernoulli Distribution. If in a Bernoulli trial the random variable takes on the value of 1, it means that this is a success. The probability of success is given by p. Similarly, if the value of the random variable is 0, it indicates failure.\n",
    "\n",
    "Example - Suppose there is an experiment where you flip a coin that is fair. If the outcome of the flip is heads then you will win. This means that the probability of getting heads is p = 1/2. If X is the random variable following a Bernoulli Distribution, we get P(X = 1) = p = 1/2.\n",
    "\n",
    "* The Bernoulli distribution represents the success or failure of a single Bernoulli trial. The Binomial Distribution represents the number of successes and failures in n independent Bernoulli trials for some given value of n."
   ]
  },
  {
   "cell_type": "markdown",
   "id": "9b6e0795-b599-41a0-9fa3-b9c7d89ff521",
   "metadata": {},
   "source": [
    "### Q6. Consider a dataset with a mean of 50 and a standard deviation of 10. If we assume that the dataset is normally distributed, what is the probability that a randomly selected observation will be greater than 60? Use the appropriate formula and show your calculations.\n"
   ]
  },
  {
   "cell_type": "markdown",
   "id": "d9377b61-f011-42ba-8cef-cd2862be67db",
   "metadata": {},
   "source": [
    "Ans ->>>>>  mean (μ) = 50, std (σ) = 10, Xi = 60\n",
    "\n",
    "z-score (z) = (X – μ) / σ"
   ]
  },
  {
   "cell_type": "code",
   "execution_count": 2,
   "id": "1566cd27-7400-4070-83a8-4d7cbbd46710",
   "metadata": {},
   "outputs": [
    {
     "data": {
      "text/plain": [
       "1.0"
      ]
     },
     "execution_count": 2,
     "metadata": {},
     "output_type": "execute_result"
    }
   ],
   "source": [
    "z = (60 - 50)/10\n",
    "z"
   ]
  },
  {
   "cell_type": "code",
   "execution_count": 3,
   "id": "4567ec81-cd3d-403f-9716-2f8ed3519c1e",
   "metadata": {},
   "outputs": [
    {
     "data": {
      "text/plain": [
       "15.869999999999996"
      ]
     },
     "execution_count": 3,
     "metadata": {},
     "output_type": "execute_result"
    }
   ],
   "source": [
    "# from z table  value = 0.8413\n",
    "\n",
    "# therefore (1 - 0.8413)% probability\n",
    "\n",
    "prob = (1 - 0.8413) * 100\n",
    "prob"
   ]
  },
  {
   "cell_type": "markdown",
   "id": "6fbc5eac-86f1-4381-8127-9b9877efa6f2",
   "metadata": {},
   "source": [
    "Conculsion - The probability of randomly selected observation will be greater than 60 is 15.86%"
   ]
  },
  {
   "cell_type": "markdown",
   "id": "4e809e59-d0f3-4ce7-886a-12656b7d58e3",
   "metadata": {},
   "source": [
    "### Q7: Explain uniform Distribution with an example.\n"
   ]
  },
  {
   "cell_type": "markdown",
   "id": "6acc7c33-bd37-433b-9024-3669c2d419b3",
   "metadata": {},
   "source": [
    "Ans - The uniform distribution is a symmetric probability distribution where all outcomes have an equal likelihood of occurring. All values in the distribution have a constant probability, making them uniformly distributed. This distribution is also known as the rectangular distribution because of its shape in probability distribution plots.\n",
    "\n",
    "Example - \n",
    "\n",
    "In real life, analysts use the uniform distribution to model the following outcomes because they are uniformly distributed:\n",
    "\n",
    "* Rolling dice and coin tosses.\n",
    "\n",
    "* The probability of drawing any card from a deck of cards.\n",
    "\n",
    "* Random sampling because that method depends on population members having equal chances."
   ]
  },
  {
   "cell_type": "markdown",
   "id": "5f39d405-508e-403e-be66-527eec68b2f1",
   "metadata": {},
   "source": [
    "### Q8: What is the z score? State the importance of the z score.\n"
   ]
  },
  {
   "cell_type": "markdown",
   "id": "2dfce549-d180-4e54-bb00-495ab2788b33",
   "metadata": {},
   "source": [
    "Ans - Z-score is a statistical measurement that describes a value's relationship to the mean of a group of values. Z-score is measured in terms of standard deviations from the mean. If a Z-score is 0, it indicates that the data point's score is identical to the mean score. A Z-score of 1.0 would indicate a value that is one standard deviation from the mean. Z-scores may be positive or negative, with a positive value indicating the score is above the mean and a negative score indicating it is below the mean.\n",
    "\n",
    "A z-score is important because it tells where your data lies in the data distribution. For example, if a z-score is 1.5, it is 1.5 standard deviations away from the mean. Because 68% of your data lies within one standard deviation (if it is normally distributed), 1.5 might be considered too far from average for your comfort."
   ]
  },
  {
   "cell_type": "markdown",
   "id": "26e0d052-257a-4f96-adf5-f26d5747af99",
   "metadata": {},
   "source": [
    "### Q9: What is Central Limit Theorem? State the significance of the Central Limit Theorem.\n"
   ]
  },
  {
   "cell_type": "markdown",
   "id": "17f2af58-6ccd-4f44-9fb3-39e8d3f2056c",
   "metadata": {},
   "source": [
    "Ans - The CLT is a statistical theory that states that - if you take a sufficiently large sample size from a population with a finite level of variance, the mean of all samples from that population will be roughly equal to the population mean.\n",
    "\n",
    "The central limit theorem shows the following:\n",
    "\n",
    "* Law of Large Numbers: As you increase sample size (or the number of samples), then the sample mean will approach the population mean.\n",
    "\n",
    "* With multiple large samples, the sampling distribution of the mean is normally distributed, even if your original variable is not normally distributed.\n",
    "\n",
    "* The Central Limit Theorem is important for statistics because it allows us to safely assume that the sampling distribution of the mean will be normal in most cases."
   ]
  },
  {
   "cell_type": "markdown",
   "id": "9462bb6e-9291-4cdd-971b-86c8f9fb16ec",
   "metadata": {},
   "source": [
    "### Q10: State the assumptions of the Central Limit Theorem."
   ]
  },
  {
   "cell_type": "markdown",
   "id": "07e95670-c4bc-4a78-acf6-3759c958b741",
   "metadata": {},
   "source": [
    "Ans - The assumptions of the Central Limit Theorem are - \n",
    "\n",
    "* The data must adhere to the randomization rule. It needs to be sampled at random.\n",
    "\n",
    "* The samples should be unrelated to one another. One sample should not impact the others.\n",
    "\n",
    "* When taking samples without replacement, the sample size should not exceed 10% of the population.\n",
    "\n",
    "When the population is symmetric, a sample size of 30 is generally considered reasonable. "
   ]
  },
  {
   "cell_type": "code",
   "execution_count": null,
   "id": "01475916-a23f-4f3f-8f04-899962aecbf4",
   "metadata": {},
   "outputs": [],
   "source": []
  }
 ],
 "metadata": {
  "kernelspec": {
   "display_name": "Python 3 (ipykernel)",
   "language": "python",
   "name": "python3"
  },
  "language_info": {
   "codemirror_mode": {
    "name": "ipython",
    "version": 3
   },
   "file_extension": ".py",
   "mimetype": "text/x-python",
   "name": "python",
   "nbconvert_exporter": "python",
   "pygments_lexer": "ipython3",
   "version": "3.10.8"
  }
 },
 "nbformat": 4,
 "nbformat_minor": 5
}
