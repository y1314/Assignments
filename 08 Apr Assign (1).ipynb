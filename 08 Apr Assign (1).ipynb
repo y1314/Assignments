{
 "cells": [
  {
   "cell_type": "markdown",
   "id": "fd292222-adfd-4a02-82f8-37cb7e589121",
   "metadata": {},
   "source": [
    "### Q1. In order to predict house price based on several characteristics, such as location, square footage, number of bedrooms, etc., you are developing an SVM regression model. Which regression metric in this situation would be the best to employ?\n"
   ]
  },
  {
   "cell_type": "markdown",
   "id": "37c67e07-0d2f-471d-b872-6b916193f83b",
   "metadata": {},
   "source": [
    "Ans - The choice of the metric depends on the specific requirements and goals of the prediction task. Here are a few commonly used regression metrics for SVM regression models:\n",
    "\n",
    "**1. Mean Squared Error (MSE):** MSE is a widely used regression metric that measures the average squared difference between the predicted and actual values. It penalizes larger errors more heavily, making it sensitive to outliers.\n",
    "\n",
    "**2. Root Mean Squared Error (RMSE):** RMSE is the square root of the MSE, and it represents the standard deviation of the residuals. Like MSE, it penalizes larger errors more heavily but provides an interpretable metric in the same unit as the target variable.\n",
    "\n",
    "**3. Mean Absolute Error (MAE):** MAE calculates the average absolute difference between the predicted and actual values. It is less sensitive to outliers compared to MSE since it does not square the errors.\n",
    "\n",
    "**4. R-squared (R²):** R-squared measures the proportion of variance in the target variable that can be explained by the model. It ranges from 0 to 1, where 1 indicates a perfect fit. However, R-squared may not be the best metric if there are non-linear relationships in the data."
   ]
  },
  {
   "cell_type": "markdown",
   "id": "b8bc4ce3-8f59-4443-8f70-6dba02a2d180",
   "metadata": {},
   "source": [
    "### Q2. You have built an SVM regression model and are trying to decide between using MSE or R-squared as your evaluation metric. Which metric would be more appropriate if your goal is to predict the actual price of a house as accurately as possible?\n"
   ]
  },
  {
   "cell_type": "markdown",
   "id": "7cad7a90-6204-4507-a0c5-ef47b5bdab3c",
   "metadata": {},
   "source": [
    "Ans - If your goal is to predict the actual price of a house as accurately as possible, the Mean Squared Error (MSE) would be a more appropriate evaluation metric than R-squared.\n",
    "\n",
    "MSE directly measures the average squared difference between the predicted and actual house prices. By squaring the differences, MSE penalizes larger errors more heavily, which aligns with your goal of predicting house prices as accurately as possible. This metric gives you a sense of the average magnitude of the errors made by the model.\n",
    "\n",
    "On the other hand, R-squared measures the proportion of variance in the target variable that can be explained by the model. While R-squared is a valuable metric for understanding the goodness of fit and the explanatory power of your model, it does not directly capture the accuracy of individual predictions."
   ]
  },
  {
   "cell_type": "markdown",
   "id": "9f5819dd-4993-4e66-8caa-820a142fa9ea",
   "metadata": {},
   "source": [
    "### Q3. You have a dataset with a significant number of outliers and are trying to select an appropriate regression metric to use with your SVM model. Which metric would be the most appropriate in this scenario?\n"
   ]
  },
  {
   "cell_type": "markdown",
   "id": "c13224fc-7486-4240-bc37-95e0dd3177c0",
   "metadata": {},
   "source": [
    "Ans - When dealing with a dataset that contains a significant number of outliers, it is advisable to use an evaluation metric that is less sensitive to outliers. In such cases, the Mean Absolute Error (MAE) would be the most appropriate regression metric to use with SVM model.\n",
    "\n",
    "MAE calculates the average absolute difference between the predicted and actual values. Unlike the Mean Squared Error (MSE), which squares the errors, MAE treats all errors equally without giving more weight to larger errors. This makes MAE more robust to outliers since their impact is not magnified."
   ]
  },
  {
   "cell_type": "markdown",
   "id": "a98045e0-bb44-43aa-8028-154e7f3fabd2",
   "metadata": {},
   "source": [
    "### Q4. You have built an SVM regression model using a polynomial kernel and are trying to select the best metric to evaluate its performance. You have calculated both MSE and RMSE and found that both values are very close. Which metric should you choose to use in this case?\n"
   ]
  },
  {
   "cell_type": "markdown",
   "id": "bfe7714b-e248-46e8-9a0a-e615d187b717",
   "metadata": {},
   "source": [
    "Ans - Both MSE and RMSE are common regression metrics that measure the average squared difference between the predicted and actual values. RMSE is the square root of MSE and provides an interpretable metric in the same unit as the target variable.\n",
    "\n",
    "Since the calculated values for MSE and RMSE are very close, it suggests that the distribution of the prediction errors is relatively symmetrical, and the magnitudes of the errors are not significantly different. In such cases, choosing either MSE or RMSE would yield similar insights into the model's performance."
   ]
  },
  {
   "cell_type": "markdown",
   "id": "10a5d269-6819-4b0a-8b2f-ee4fc32f48ed",
   "metadata": {},
   "source": [
    "### Q5. You are comparing the performance of different SVM regression models using different kernels (linear, polynomial, and RBF) and are trying to select the best evaluation metric. Which metric would be most appropriate if your goal is to measure how well the model explains the variance in the target variable?"
   ]
  },
  {
   "cell_type": "markdown",
   "id": "9a214e92-2ba2-42c0-a9fa-19f2d623f607",
   "metadata": {},
   "source": [
    "Ans - In the context of comparing SVM regression models with different kernels (linear, polynomial, and RBF), R-squared would provide a standardized measure to assess the explanatory power of each model. It allows you to directly compare the models abilities to explain the variance in the target variable, regardless of the specific kernel used.\n",
    "\n",
    "By using R-squared as the evaluation metric we can determine which kernel yields the highest R-squared value indicating the model that best explains the variance in the target variable."
   ]
  },
  {
   "cell_type": "code",
   "execution_count": null,
   "id": "53c34c45-d63e-491b-be5f-6a142a912d23",
   "metadata": {},
   "outputs": [],
   "source": []
  }
 ],
 "metadata": {
  "kernelspec": {
   "display_name": "Python 3 (ipykernel)",
   "language": "python",
   "name": "python3"
  },
  "language_info": {
   "codemirror_mode": {
    "name": "ipython",
    "version": 3
   },
   "file_extension": ".py",
   "mimetype": "text/x-python",
   "name": "python",
   "nbconvert_exporter": "python",
   "pygments_lexer": "ipython3",
   "version": "3.10.8"
  }
 },
 "nbformat": 4,
 "nbformat_minor": 5
}
