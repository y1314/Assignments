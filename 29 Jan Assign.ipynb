{
 "cells": [
  {
   "cell_type": "markdown",
   "id": "67d9206d-251b-4310-b823-8800c29d06e1",
   "metadata": {},
   "source": [
    "1. Who developed python programming language?"
   ]
  },
  {
   "cell_type": "code",
   "execution_count": 18,
   "id": "1dce2d29-d18d-4dcc-8257-a7fd19d2d827",
   "metadata": {},
   "outputs": [
    {
     "data": {
      "text/plain": [
       "'Python was created by Guido van Rossum, and first released on February 20, 1991.'"
      ]
     },
     "execution_count": 18,
     "metadata": {},
     "output_type": "execute_result"
    }
   ],
   "source": [
    "\"Python was created by Guido van Rossum, and first released on February 20, 1991.\""
   ]
  },
  {
   "cell_type": "markdown",
   "id": "71c5948a-3b59-4c5c-87a2-2d4de12c7867",
   "metadata": {},
   "source": [
    "2. Which type of programming does python support?"
   ]
  },
  {
   "cell_type": "code",
   "execution_count": 19,
   "id": "1e8b036b-feb3-45ba-a75a-fca3505dc08b",
   "metadata": {},
   "outputs": [
    {
     "data": {
      "text/plain": [
       "'Python is an interpreted programming language, supporting object-oriented, structured, and functional programming.'"
      ]
     },
     "execution_count": 19,
     "metadata": {},
     "output_type": "execute_result"
    }
   ],
   "source": [
    "\"Python is an interpreted programming language, supporting object-oriented, structured, and functional programming.\""
   ]
  },
  {
   "cell_type": "markdown",
   "id": "43eaa47b-0d5c-4db4-9625-11d630e9f5a3",
   "metadata": {},
   "source": [
    "3. Is python case sensitive when dealing with identifiers?"
   ]
  },
  {
   "cell_type": "code",
   "execution_count": 20,
   "id": "5f4ded9e-ea10-4ec7-b75a-d841ad36360d",
   "metadata": {},
   "outputs": [
    {
     "data": {
      "text/plain": [
       "'Yes, Python is a case-sensitive language, i.e., it treats uppercase and lowercase characters differently. This applies to identifiers too'"
      ]
     },
     "execution_count": 20,
     "metadata": {},
     "output_type": "execute_result"
    }
   ],
   "source": [
    "\"Yes, Python is a case-sensitive language, i.e., it treats uppercase and lowercase characters differently. This applies to identifiers too\""
   ]
  },
  {
   "cell_type": "markdown",
   "id": "db89a335-f1b6-4a60-afb0-3e0a68ea7c42",
   "metadata": {},
   "source": [
    "4. What is the correct extension of the python file?"
   ]
  },
  {
   "cell_type": "code",
   "execution_count": 21,
   "id": "4333c63f-9770-4c5e-9da3-10e13a237c53",
   "metadata": {},
   "outputs": [
    {
     "data": {
      "text/plain": [
       "'The Files with the . py extension contain the Python source code.'"
      ]
     },
     "execution_count": 21,
     "metadata": {},
     "output_type": "execute_result"
    }
   ],
   "source": [
    "\"The Files with the . py extension contain the Python source code.\""
   ]
  },
  {
   "cell_type": "markdown",
   "id": "74f21867-234a-4ac3-8f76-becfe378ae30",
   "metadata": {},
   "source": [
    "5. Is python code compiled of interpreted?"
   ]
  },
  {
   "cell_type": "code",
   "execution_count": 22,
   "id": "39bb8d9b-067d-4d12-a51f-84a3e9331f39",
   "metadata": {},
   "outputs": [
    {
     "data": {
      "text/plain": [
       "'Python is both compiled as well as an interpreted language, which means when we run a python code, \\nit is first compiled and then interpreted line by line.'"
      ]
     },
     "execution_count": 22,
     "metadata": {},
     "output_type": "execute_result"
    }
   ],
   "source": [
    "\"\"\"Python is both compiled as well as an interpreted language, which means when we run a python code, \n",
    "it is first compiled and then interpreted line by line.\"\"\""
   ]
  },
  {
   "cell_type": "markdown",
   "id": "22499b56-5016-436b-a33c-286dd5b81d21",
   "metadata": {},
   "source": [
    "6. Name a few block of code used to define in python language?"
   ]
  },
  {
   "cell_type": "code",
   "execution_count": 23,
   "id": "66cf3fca-c4b1-49e9-bdc1-2d752ae3ec3c",
   "metadata": {},
   "outputs": [
    {
     "data": {
      "text/plain": [
       "'The following are blocks: a module, a function body, and a class definition.'"
      ]
     },
     "execution_count": 23,
     "metadata": {},
     "output_type": "execute_result"
    }
   ],
   "source": [
    "\"The following are blocks: a module, a function body, and a class definition.\""
   ]
  },
  {
   "cell_type": "markdown",
   "id": "a55b7462-2d4e-4434-b7fb-9524d72e77a0",
   "metadata": {},
   "source": [
    "7. State a character used to give single-line comments in python?"
   ]
  },
  {
   "cell_type": "code",
   "execution_count": 24,
   "id": "3c96c06e-f95a-4572-9d9d-bfec712ed0cc",
   "metadata": {},
   "outputs": [],
   "source": [
    "# We can write a single-line comment by adding a single (#) character before any statement or line of code"
   ]
  },
  {
   "cell_type": "markdown",
   "id": "6388e4d0-c93c-47c2-8754-f2a4960d3266",
   "metadata": {},
   "source": [
    "8. Mention functions which can help us to find the version of python that we are currently working on?"
   ]
  },
  {
   "cell_type": "code",
   "execution_count": 25,
   "id": "469e7f72-902b-4b40-8b68-a9977850680b",
   "metadata": {},
   "outputs": [
    {
     "data": {
      "text/plain": [
       "'The function sys. version can help us to find the version of python that we are currently working on'"
      ]
     },
     "execution_count": 25,
     "metadata": {},
     "output_type": "execute_result"
    }
   ],
   "source": [
    "\"The function sys. version can help us to find the version of python that we are currently working on\""
   ]
  },
  {
   "cell_type": "markdown",
   "id": "d1b35d63-a718-47c2-86d3-21f6822a23e0",
   "metadata": {},
   "source": [
    "9. Python support the creation of anonymous functions at runtime, using a construct called?"
   ]
  },
  {
   "cell_type": "code",
   "execution_count": 26,
   "id": "c934acae-30de-456a-8083-71a2bc56a1ee",
   "metadata": {},
   "outputs": [
    {
     "data": {
      "text/plain": [
       "'Lambda'"
      ]
     },
     "execution_count": 26,
     "metadata": {},
     "output_type": "execute_result"
    }
   ],
   "source": [
    "\"Lambda\""
   ]
  },
  {
   "cell_type": "markdown",
   "id": "cd2e2d46-bcb1-4066-ad29-73ed0383e32b",
   "metadata": {},
   "source": [
    "10. What does pip stand for python?"
   ]
  },
  {
   "cell_type": "code",
   "execution_count": 29,
   "id": "1dd9669d-ac72-4eb3-bcc4-a9fc1ec4d679",
   "metadata": {},
   "outputs": [
    {
     "data": {
      "text/plain": [
       "'pip stands for Preferred Installer Program'"
      ]
     },
     "execution_count": 29,
     "metadata": {},
     "output_type": "execute_result"
    }
   ],
   "source": [
    "\"\"\"pip stands for Preferred Installer Program\"\"\""
   ]
  },
  {
   "cell_type": "markdown",
   "id": "1b3b97cc-489f-4514-a37c-c2721dd2ed57",
   "metadata": {},
   "source": [
    "11. Mention a few built in functions in python?"
   ]
  },
  {
   "cell_type": "code",
   "execution_count": 30,
   "id": "104a5ea2-15ff-4b6e-9fa0-0c6fe33497d5",
   "metadata": {},
   "outputs": [
    {
     "data": {
      "text/plain": [
       "'Few built in functions of python are len(), int(), str(), type(), set(), list(), tuple()'"
      ]
     },
     "execution_count": 30,
     "metadata": {},
     "output_type": "execute_result"
    }
   ],
   "source": [
    "\"Few built in functions of python are len(), int(), str(), type(), set(), list(), tuple()\""
   ]
  },
  {
   "cell_type": "markdown",
   "id": "4d4baf0c-a4a2-4fb4-9cec-a4b9b29b9517",
   "metadata": {},
   "source": [
    "12. What is the maximum possible length of an identifier in python?"
   ]
  },
  {
   "cell_type": "code",
   "execution_count": 31,
   "id": "51fa32c9-5135-4a29-8792-df29e39e5d45",
   "metadata": {},
   "outputs": [
    {
     "data": {
      "text/plain": [
       "'An identifier can have a maximum length of 79 characters in Python'"
      ]
     },
     "execution_count": 31,
     "metadata": {},
     "output_type": "execute_result"
    }
   ],
   "source": [
    "\"An identifier can have a maximum length of 79 characters in Python\""
   ]
  },
  {
   "cell_type": "markdown",
   "id": "5984a54f-a7d2-4adb-9f86-5e77a278d9fc",
   "metadata": {},
   "source": [
    "13. What are the benefits of using python?"
   ]
  },
  {
   "cell_type": "code",
   "execution_count": 32,
   "id": "08e09b4e-2c50-4d76-b801-4ef6b15df8a8",
   "metadata": {},
   "outputs": [
    {
     "data": {
      "text/plain": [
       "'Benefits of python language are – \\nExtensive libraries, Write less do more, \\nWide range of use cases like – (Data Science, Statistics, Cyber security, Machine Learning, Game development, Web development).\\n'"
      ]
     },
     "execution_count": 32,
     "metadata": {},
     "output_type": "execute_result"
    }
   ],
   "source": [
    "\"\"\"Benefits of python language are – \n",
    "Extensive libraries, Write less do more, \n",
    "Wide range of use cases like – (Data Science, Statistics, Cyber security, Machine Learning, Game development, Web development).\n",
    "\"\"\""
   ]
  },
  {
   "cell_type": "markdown",
   "id": "d572f4a7-9e96-4004-8597-fc140788a8b2",
   "metadata": {},
   "source": [
    "14. How is memory managed in python?"
   ]
  },
  {
   "cell_type": "code",
   "execution_count": 33,
   "id": "2f6551a4-af59-461d-98c2-3393fc16515e",
   "metadata": {},
   "outputs": [
    {
     "data": {
      "text/plain": [
       "'Memory management in Python involves a private heap containing all Python objects and data structures. \\nThe management of this private heap is ensured internally by the Python memory manager.'"
      ]
     },
     "execution_count": 33,
     "metadata": {},
     "output_type": "execute_result"
    }
   ],
   "source": [
    "\"\"\"Memory management in Python involves a private heap containing all Python objects and data structures. \n",
    "The management of this private heap is ensured internally by the Python memory manager.\"\"\""
   ]
  },
  {
   "cell_type": "markdown",
   "id": "6cf17480-7c53-4da9-8dc4-c96908f2962e",
   "metadata": {},
   "source": [
    "15. How to install python on windows and set path variables?"
   ]
  },
  {
   "cell_type": "markdown",
   "id": "f21560f6-2d95-4509-bdcf-8d8ed9a552fe",
   "metadata": {},
   "source": [
    "Ans - 1. Open a browser to the Python website and download the Windows installer. \n",
    "2. Double click on the downloaded file and install Python for all users, and ensure that Python is added to your path. Click on Install now to begin\n",
    "•\tTo set path -  Press the Windows Key + R on your keyboard in order to open the Run dialog box\n",
    "•\tType sysdm.cpl to open the System Properties\n",
    "•\tGo to the Advanced tab and then click on the ‘Environment Variables…‘\n",
    "That should take you to the Environment Variables screen, where you can add/edit your paths.\n"
   ]
  },
  {
   "cell_type": "markdown",
   "id": "b7016c46-d6b7-497e-be35-5568df34e63a",
   "metadata": {},
   "source": [
    "16. Is indentation required in python?"
   ]
  },
  {
   "cell_type": "code",
   "execution_count": 34,
   "id": "27ed61b1-0bf7-45f4-b857-84c5c442ac78",
   "metadata": {},
   "outputs": [
    {
     "data": {
      "text/plain": [
       "'Yes, the indentation in Python is very important. Python uses indentation to indicate a block of code'"
      ]
     },
     "execution_count": 34,
     "metadata": {},
     "output_type": "execute_result"
    }
   ],
   "source": [
    "\"Yes, the indentation in Python is very important. Python uses indentation to indicate a block of code\""
   ]
  },
  {
   "cell_type": "code",
   "execution_count": null,
   "id": "d6b97697-4d91-4958-85c7-bd69978a0733",
   "metadata": {},
   "outputs": [],
   "source": []
  }
 ],
 "metadata": {
  "kernelspec": {
   "display_name": "Python 3 (ipykernel)",
   "language": "python",
   "name": "python3"
  },
  "language_info": {
   "codemirror_mode": {
    "name": "ipython",
    "version": 3
   },
   "file_extension": ".py",
   "mimetype": "text/x-python",
   "name": "python",
   "nbconvert_exporter": "python",
   "pygments_lexer": "ipython3",
   "version": "3.10.8"
  }
 },
 "nbformat": 4,
 "nbformat_minor": 5
}
