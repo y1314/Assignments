{
 "cells": [
  {
   "cell_type": "markdown",
   "id": "e5d4fa6c-e757-4e9d-8778-809b966202e1",
   "metadata": {},
   "source": [
    "### Q1: What is Estimation Statistics? Explain point estimate and interval estimate."
   ]
  },
  {
   "cell_type": "markdown",
   "id": "2e00524e-3d44-4bbd-bf76-bdf8499ca9ea",
   "metadata": {},
   "source": [
    " * **Estimate -** It is an observed numercial value used to estimate an **unknown population parameter**.\n",
    " \n",
    " * **Point estimate** -  Single numerical value used to estimate the unknown population parameter.\n",
    " \n",
    " * **Interval estimate-** It is a range of values that is used to estimate the unkown population parameters."
   ]
  },
  {
   "cell_type": "markdown",
   "id": "5df789da-1901-4da3-b48d-d02af4b948a5",
   "metadata": {},
   "source": [
    "### Q2. Write a Python function to estimate the population mean using a sample mean and standard deviation."
   ]
  },
  {
   "cell_type": "code",
   "execution_count": 1,
   "id": "b49e7eea-a063-4851-91cd-0746841cf56a",
   "metadata": {},
   "outputs": [],
   "source": [
    "def estimate_population_mean(sample_mean, sample_std_dev, sample_size):\n",
    "    \"\"\"\n",
    "    Estimates the population mean using a sample mean and standard deviation.\n",
    "    \n",
    "    Parameters:\n",
    "        sample_mean (float): Mean of the sample.\n",
    "        sample_std_dev (float): Standard deviation of the sample.\n",
    "        sample_size (int): Size of the sample.\n",
    "    \n",
    "    Returns:\n",
    "        float: Estimated population mean.\n",
    "    \"\"\"\n",
    "    estimated_mean = sample_mean * (sample_size ** 0.5) / sample_std_dev\n",
    "    \n",
    "    return estimated_mean\n"
   ]
  },
  {
   "cell_type": "code",
   "execution_count": 3,
   "id": "9df73b69-456f-447d-92e1-def643195e36",
   "metadata": {},
   "outputs": [
    {
     "name": "stdout",
     "output_type": "stream",
     "text": [
      "Estimated Population Mean: 23.717082451262844\n"
     ]
    }
   ],
   "source": [
    "sample_mean = 3\n",
    "sample_std_dev = 4\n",
    "sample_size = 1000\n",
    "\n",
    "estimated_mean = estimate_population_mean(sample_mean, sample_std_dev, sample_size)\n",
    "print(f\"Estimated Population Mean: {estimated_mean}\")\n"
   ]
  },
  {
   "cell_type": "markdown",
   "id": "153b0d92-47a6-47a8-8728-ed053b55f052",
   "metadata": {},
   "source": [
    "### Q3: What is Hypothesis testing? Why is it used? State the importance of Hypothesis testing."
   ]
  },
  {
   "cell_type": "markdown",
   "id": "c1dbb3b9-ed31-4d4e-9c64-b94e7cfa27da",
   "metadata": {},
   "source": [
    "Ans - Hypothesis Testing is a type of statistical analysis in which you put your assumptions about a population parameter to the test. It is used to estimate the relationship between 2 statistical variables. Hypothesis testing is used to assess the plausibility of a hypothesis by using sample data. Such data may come from a larger population, or from a data-generating process. \n",
    "\n",
    "* Hypothesis testing is one of the most important concepts in statistics because it is how you decide if something really happened, or if certain treatments have positive effects, or if groups differ from each other or if one variable predicts another. In short, you want to proof if your data is statistically significant and unlikely to have occurred by chance alone. In essence then, a hypothesis test is a test of significance."
   ]
  },
  {
   "cell_type": "markdown",
   "id": "be6bee50-97e0-4de8-8489-fe94e06b0c8f",
   "metadata": {},
   "source": [
    "### Q4. Create a hypothesis that states whether the average weight of male college students is greater than the average weight of female college students."
   ]
  },
  {
   "cell_type": "markdown",
   "id": "db8b7414-b106-4fb8-aca1-f294cb4d0737",
   "metadata": {},
   "source": [
    "Ans - \n",
    "\n",
    "Null hypothesis (H0) = Average weight of male college students is greater than the average weight of female college students.\n",
    "\n",
    "Alternative hypothesis (H1) = Average weight of male college students is less than the average weight of female college students."
   ]
  },
  {
   "cell_type": "markdown",
   "id": "210d1db7-d6fc-4cca-920b-8a87c84faba8",
   "metadata": {},
   "source": [
    "### Q5. Write a Python script to conduct a hypothesis test on the difference between two population means, given a sample from each population."
   ]
  },
  {
   "cell_type": "code",
   "execution_count": 4,
   "id": "d139091b-c826-4e27-b775-d1e0d539eac1",
   "metadata": {},
   "outputs": [],
   "source": [
    "from scipy import stats\n",
    "import numpy as np\n",
    "\n",
    "def hypothesis_conclusion(sample1, sample2):\n",
    "    t_value, p_value = stats.ttest_ind(sample1, sample2)\n",
    "\n",
    "    print(f\"Test statistic is {t_value}\")\n",
    "\n",
    "    print(f\"p-value for two tailed test is {p_value}\")\n",
    "\n",
    "    alpha = 0.05\n",
    "\n",
    "    if p_value<=alpha:\n",
    "\n",
    "        print(f\"Since p_value < significance value hence we reject null hypothesis i.e μ1 ≠ μ2\")\n",
    "    else:\n",
    "        print(f\"Since p_value > significance value hence we fail to reject the null hypothesis i.e μ1 = μ2\")"
   ]
  },
  {
   "cell_type": "code",
   "execution_count": 5,
   "id": "339bc239-2faa-4c27-a185-fa1f488c9c90",
   "metadata": {},
   "outputs": [
    {
     "name": "stdout",
     "output_type": "stream",
     "text": [
      "Test statistic is 0.1846496543760765\n",
      "p-value for two tailed test is 0.8551954147800473\n",
      "Since p_value > significance value hence we fail to reject the null hypothesis i.e μ1 = μ2\n"
     ]
    }
   ],
   "source": [
    "sample_mean1 =[13.4,10.9,11.2,11.8,14,15.3,14.2,12.6,17,16.2,16.5,15.7]\n",
    "sample_mean2 =[12,11.7,10.7,11.2,14.8,14.4,13.9,13.7,16.9,16,15.6,16]\n",
    "\n",
    "hypothesis_conclusion(sample_mean1, sample_mean2)"
   ]
  },
  {
   "cell_type": "markdown",
   "id": "7c5b3d63-0dfb-4236-829e-e4248134164e",
   "metadata": {},
   "source": [
    "### Q6: What is a null and alternative hypothesis? Give some examples."
   ]
  },
  {
   "cell_type": "markdown",
   "id": "0f3d01e3-c696-4f29-b952-8629f534ac2b",
   "metadata": {},
   "source": [
    "##### Null Hypothesis\n",
    "\n",
    "The null hypothesis is a concise mathematical statement that is used to indicate that there is no difference between two possibilities. In other words, there is no difference between certain characteristics of data. This hypothesis assumes that the outcomes of an experiment are based on chance alone. It is denoted as (H0).\n",
    "\n",
    "Hypothesis testing is used to conclude if the null hypothesis can be rejected or not. Suppose an experiment is conducted to check if girls are shorter than boys at the age of 5. The null hypothesis will say that they are the same height.\n",
    "\n",
    "##### Alternative Hyposhesis\n",
    "\n",
    "The alternative hypothesis is an alternative to the null hypothesis. It is used to show that the observations of an experiment are due to some real effect. It indicates that there is a statistical significance between two possible outcomes and can be denoted as (H1).\n",
    "\n",
    "For the above-mentioned example, the alternative hypothesis would be that girls are shorter than boys at the age of 5."
   ]
  },
  {
   "cell_type": "markdown",
   "id": "21f1619a-d5e4-4284-8f55-6f9f24c6accb",
   "metadata": {},
   "source": [
    "### Q7: Write down the steps involved in hypothesis testing."
   ]
  },
  {
   "cell_type": "markdown",
   "id": "ae3c386b-66b0-4bba-b8c1-765548267857",
   "metadata": {},
   "source": [
    "The basic steps to perform hypothesis testing are as follows:\n",
    "\n",
    "* Step 1: Set up the null hypothesis by correctly identifying whether it is the left-tailed, right-tailed, or two-tailed hypothesis testing.\n",
    "\n",
    "* Step 2: Set up the alternative hypothesis.\n",
    "\n",
    "* Step 3: Choose the correct significance level, α, and find the critical value.\n",
    "\n",
    "* Step 4: Calculate the correct test statistic (z, t or χ) and p-value.\n",
    "\n",
    "* Step 5: Compare the test statistic with the critical value or compare the p-value with α to arrive at a conclusion. In other words, decide if the null hypothesis is to be rejected or not."
   ]
  },
  {
   "cell_type": "markdown",
   "id": "9d19d3b1-451f-4e7c-8bae-76bdf5dda80d",
   "metadata": {},
   "source": [
    "### Q8. Define p-value and explain its significance in hypothesis testing."
   ]
  },
  {
   "cell_type": "markdown",
   "id": "e6520437-5255-475a-b65b-f80cc0863757",
   "metadata": {},
   "source": [
    "In hypothesis testing, the p value is used to indicate whether the results obtained after conducting a test are statistically significant or not. It also indicates the probability of making an error in rejecting or not rejecting the null hypothesis.This value is always a number between 0 and 1. The p value is compared to an alpha level, α or significance level. The alpha level can be defined as the acceptable risk of incorrectly rejecting the null hypothesis. The alpha level is usually chosen between 1% to 5%."
   ]
  },
  {
   "cell_type": "markdown",
   "id": "c6da84e0-7304-4dfd-bac7-c8a6d8bebe8a",
   "metadata": {},
   "source": [
    "### Q9. Generate a Student's t-distribution plot using Python's matplotlib library, with the degrees of freedom parameter set to 10."
   ]
  },
  {
   "cell_type": "code",
   "execution_count": 10,
   "id": "eb8db8ea-8df8-436b-8653-ed7f598d1e30",
   "metadata": {},
   "outputs": [
    {
     "data": {
      "image/png": "[encoded data removed]",
      "text/plain": [
       "<Figure size 640x480 with 1 Axes>"
      ]
     },
     "metadata": {},
     "output_type": "display_data"
    }
   ],
   "source": [
    "import numpy\n",
    "from scipy.stats import t \n",
    "import matplotlib.pyplot  as plt\n",
    "df = 10\n",
    "x = numpy.linspace(-4, 4, 1000)\n",
    "\n",
    "y = t.pdf(x, df)\n",
    "\n",
    "plt.plot(x, y, label=f\"df = {df}\")\n",
    "plt.xlabel(\"x\")\n",
    "plt.ylabel(\"Probability Density\")\n",
    "plt.title(\"Student's t-Distribution\")\n",
    "plt.legend()\n",
    "plt.grid(True)\n",
    "plt.show()\n"
   ]
  },
  {
   "cell_type": "markdown",
   "id": "831bdb42-99af-418f-a6da-ad6f4b52049e",
   "metadata": {},
   "source": [
    "### Q10. Write a Python program to calculate the two-sample t-test for independent samples, given two random samples of equal size and a null hypothesis that the population means are equal."
   ]
  },
  {
   "cell_type": "code",
   "execution_count": 11,
   "id": "eddb85d4-c472-4313-a4ec-a8da2cf000ab",
   "metadata": {},
   "outputs": [],
   "source": [
    "import scipy.stats as stat\n",
    "\n",
    "\n",
    "def t_2sample_test(sample1, sample2):\n",
    "    # using ttest_rel function from scipy.stats to calculate the t-test for two sample. \n",
    "    test_statistics, p_value = stat.ttest_rel(s1, s2)\n",
    "    print('calculated test value is: ', test_statistics)\n",
    "    print('calculated p_value is:',p_value)\n",
    "    \n",
    "    significance_value = 0.05\n",
    "    print('significance_value is :', significance_value)\n",
    "    print('')\n",
    "    if p_value <= significance_value:\n",
    "        print('We reject the null hypothesis.')\n",
    "    else:\n",
    "        print('We fail to reject the null hypothesis.')"
   ]
  },
  {
   "cell_type": "code",
   "execution_count": 12,
   "id": "4bf2e3a3-a623-4d4e-96d2-d3bf8747757c",
   "metadata": {},
   "outputs": [
    {
     "name": "stdout",
     "output_type": "stream",
     "text": [
      "calculated test value is:  0.5014192094225471\n",
      "calculated p_value is: 0.6206446008688786\n",
      "significance_value is : 0.05\n",
      "\n",
      "We fail to reject the null hypothesis.\n"
     ]
    }
   ],
   "source": [
    "# Generating the two independent samples having same size from t-distribution. \n",
    "s1 = stat.t.rvs(df = 2, size = 25)\n",
    "s2 = stat.t.rvs(df = 2, size = 25)\n",
    "t_2sample_test(s1, s2)\n"
   ]
  },
  {
   "cell_type": "markdown",
   "id": "8311f9ec-dc80-477e-b2c2-b7cf2ded9a81",
   "metadata": {},
   "source": [
    "### Q11: What is Student’s t distribution? When to use the t-Distribution."
   ]
  },
  {
   "cell_type": "markdown",
   "id": "0d80d709-aa37-4b5d-b308-ad0e0f273db3",
   "metadata": {},
   "source": [
    "Ans - The t-distribution, also known as Student’s t-distribution, is a way of describing data that follow a bell curve when plotted on a graph, with the greatest number of observations close to the mean and fewer observations in the tails.\n",
    "\n",
    "Student’s t-distribution or t-distribution is a probability distribution that is used to calculate population parameters when the sample size is small and when the population variance is unknown.\n",
    "\n",
    "You must use the t-distribution table when working problems when the population standard deviation (σ) is not known and the sample size is small (n<30)."
   ]
  },
  {
   "cell_type": "markdown",
   "id": "120ff3e5-f8fb-460a-a23f-eef742383a50",
   "metadata": {},
   "source": [
    "### Q12: What is t-statistic? State the formula for t-statistic."
   ]
  },
  {
   "attachments": {
    "45f4611b-3b6a-4f52-bb81-5ba9dd504e39.png": {
     "image/png": "[encoded data removed]"
    }
   },
   "cell_type": "markdown",
   "id": "7bd5fc29-e23c-4161-b353-05bc11c6a006",
   "metadata": {},
   "source": [
    "Ans - The T Statistic is used in a T test when you are deciding if you should support or reject the null hypothesis. It’s very similar to a Z-score and you use it in the same way: find a cut off point, find your t score, and compare the two. You use the t statistic when you have a small sample size, or if you don’t know the population standard deviation.\n",
    "\n",
    "![Screenshot 2023-05-24 182613.png](attachment:45f4611b-3b6a-4f52-bb81-5ba9dd504e39.png)\n",
    "\n",
    "\n",
    "where:\n",
    "\n",
    "mean1 and mean2 = The average values of each of the sample sets\n",
    "\n",
    "s(diff) = The standard deviation of the differences of the paired data values\n",
    "\n",
    "n = The sample size (the number of paired differences)\n",
    "\n",
    "n−1 = The degrees of freedom\n"
   ]
  },
  {
   "cell_type": "markdown",
   "id": "a803b84b-0644-465f-9a87-42258399c43e",
   "metadata": {},
   "source": [
    "### Q13. A coffee shop owner wants to estimate the average daily revenue for their shop. They take a random sample of 50 days and find the sample mean revenue to be Rs. 500  with  a standard  deviation of Rs. 50. Estimate the population mean revenue with a 95% confidence interval."
   ]
  },
  {
   "cell_type": "markdown",
   "id": "b2fa4f95-fc4d-417d-ba16-7f23bfab1f2b",
   "metadata": {},
   "source": [
    "Confidence Interval = sample mean ± (critical value * standard error)\n",
    "\n",
    "Where:\n",
    "\n",
    "* The sample mean is rs. 500.\n",
    "* The standard deviation is rs. 50.\n",
    "* The sample size is 50.\n",
    "* The critical value corresponds to a 95% confidence level.\n",
    "\n",
    "Step 1: Find the critical value.\n",
    "Since we want a 95% confidence interval, the alpha level (α) is 0.05. We divide this by 2 to get 0.025, as we need to consider the two tails of the distribution. With a sample size of 50, we can find the critical value from the t-distribution table \n",
    "\n",
    "For a sample size of 50 and a confidence level of 95%, the critical value is approximately 2.009.\n",
    "\n",
    "Step 2: Calculate the standard error.\n",
    "The standard error represents the standard deviation of the sampling distribution of the sample mean and is calculated as the standard deviation divided by the square root of the sample size.\n",
    "\n",
    "Standard Error = standard deviation / √(sample size)\n",
    "\n",
    "In this case, the standard error is rs. 50/ √(50) ≈ $7.07 (rounded to two decimal places).\n",
    "\n",
    "Step 3: Calculate the confidence interval.\n",
    "Using the formula mentioned earlier, we can calculate the confidence interval as:\n",
    "\n",
    "Confidence Interval = rs. 500 ± (2.009 * $7.07)\n",
    "\n",
    "Calculating the values:\n",
    "\n",
    "Lower bound = 500 - (2.009 * 7.07) ≈ 485.66 (rounded to two decimal places)\n",
    "Upper bound = 500 + (2.009 * 7.07) ≈ 514.34 (rounded to two decimal places)\n",
    "\n",
    "Therefore, the 95% confidence interval for the population mean revenue is approximately 485.66 to 514.34."
   ]
  },
  {
   "cell_type": "markdown",
   "id": "bdaed313-2bc2-4429-ba1e-94db265ebea5",
   "metadata": {},
   "source": [
    "### Q14. A researcher hypothesizes that a new drug will decrease blood pressure by 10 mmHg. They conduct a clinical trial with 100 patients and find that the sample mean decrease in blood pressure is 8 mmHg with a standard deviation of 3 mmHg. Test the hypothesis with a significance level of 0.05."
   ]
  },
  {
   "cell_type": "code",
   "execution_count": 18,
   "id": "f7798d3b-b0a7-4478-a661-34d96ad26ad8",
   "metadata": {},
   "outputs": [
    {
     "name": "stdout",
     "output_type": "stream",
     "text": [
      "Test Statistic: -6.666666666666667\n",
      "p-value: 7.506144504985108e-10\n",
      "Reject the null hypothesis\n",
      "Therefore, based on the given data and a significance level of 0.05, we have sufficient evidence to conclude that the new drug decreases blood pressure by less than 10 mmHg.\n"
     ]
    }
   ],
   "source": [
    "import numpy as np\n",
    "from scipy import stats\n",
    "\n",
    "# Sample information\n",
    "sample_mean = 8  # Sample mean decrease in blood pressure (mmHg)\n",
    "hypothesized_mean = 10  # Hypothesized mean decrease in blood pressure (mmHg)\n",
    "sample_std = 3  # Standard deviation of the sample (mmHg)\n",
    "sample_size = 100  # Sample size\n",
    "\n",
    "\"\"\"\n",
    "H₀: μ = 10 (The mean decrease in blood pressure is 10 mmHg)\n",
    "\n",
    "The alternative hypothesis (H₁) assumes that the drug does decrease blood pressure by 10 mmHg.\n",
    "H₁: μ < 10 (The mean decrease in blood pressure is less than 10 mmHg)\n",
    "\"\"\"\n",
    "\n",
    "# Calculate the test statistic\n",
    "t_stat = (sample_mean - hypothesized_mean) / (sample_std / np.sqrt(sample_size))\n",
    "\n",
    "# Calculate the p-value\n",
    "p_value = stats.t.cdf(t_stat, df=sample_size-1)\n",
    "\n",
    "# Significance level\n",
    "alpha = 0.05\n",
    "\n",
    "# Make a decision\n",
    "if p_value < alpha:\n",
    "    decision = \"Reject the null hypothesis\"\n",
    "else:\n",
    "    decision = \"Fail to reject the null hypothesis\"\n",
    "\n",
    "# Print the results\n",
    "print(\"Test Statistic:\", t_stat)\n",
    "print(\"p-value:\", p_value)\n",
    "print(decision)\n",
    "print(\"Therefore, based on the given data and a significance level of 0.05, we have sufficient evidence to conclude that the new drug decreases blood pressure by less than 10 mmHg.\")"
   ]
  },
  {
   "cell_type": "markdown",
   "id": "74063155-a190-428c-b2c1-f9d076902121",
   "metadata": {},
   "source": [
    "### Q15. An electronics company produces a certain type of product with a mean weight of 5 pounds and a standard deviation of 0.5 pounds. A random sample of 25 products is taken, and the sample mean weight is found to be 4.8 pounds. Test the hypothesis that the true mean weight of the products is less than 5 pounds with a significance level of 0.01."
   ]
  },
  {
   "cell_type": "code",
   "execution_count": 15,
   "id": "ea19ebd7-8b32-4e29-abba-939b1c5b9db7",
   "metadata": {},
   "outputs": [
    {
     "name": "stdout",
     "output_type": "stream",
     "text": [
      "Null: The true mean weight of product is 5 pounds i.e, u <= 5,\n",
      "Alternative: The true mean weight of porduct is less than 5 pounds i.e, u > 5.\n",
      "\n",
      "Since we are calculating alternative hypothesis for a mean less than a particular value our test will be left tail negative region of distribution.\n",
      "\n",
      "Calculated t-test score is:  -2.0000000000000018\n",
      "\n",
      "We calculated critical value using alpha_value and degree of freedom (24) from the t-table.\n",
      "Critical value is:  -2.492\n",
      "\n",
      "On comparing critial value and test value we observe that the t-test score lies in the acceptance region of distribution which means that we fail to reject the null hypothesis. \n",
      "Therefore with 99% confidence interval we fail to reject the null hypothesis that the true mean weight of the product is less than 5 pounds.\n"
     ]
    }
   ],
   "source": [
    "import math\n",
    "hypothesis_mean = 5\n",
    "std = 0.5\n",
    "sample_mean = 4.8\n",
    "sample_size = 25\n",
    "alpha_value = 0.01\n",
    "critical_value = -2.492\n",
    "\n",
    "# step 01: Formulating our Hypothesis:\n",
    "print(\"\"\"Null: The true mean weight of product is 5 pounds i.e, u <= 5,\n",
    "Alternative: The true mean weight of porduct is less than 5 pounds i.e, u > 5.\\n\"\"\")\n",
    "print('Since we are calculating alternative hypothesis for a mean less than a particular value our test will be left tail negative region of distribution.')\n",
    "\n",
    "# step 02 : Calculating test-statistics.\n",
    "t_test = (sample_mean - hypothesis_mean) / (std / (math.sqrt(sample_size)))\n",
    "print('\\nCalculated t-test score is: ', t_test)\n",
    "\n",
    "# step 03 : Comparing t-test score with critical value. \n",
    "print(\"\\nWe calculated critical value using alpha_value and degree of freedom (24) from the t-table.\")\n",
    "print('Critical value is: ', critical_value)\n",
    "print(\"\"\"\\nOn comparing critial value and test value we observe that the t-test score lies in the acceptance region of distribution which means that we fail to reject the null hypothesis. \\nTherefore with 99% confidence interval we fail to reject the null hypothesis that the true mean weight of the product is less than 5 pounds.\"\"\")"
   ]
  },
  {
   "cell_type": "markdown",
   "id": "2919bb56-6f41-4861-8ee5-b16500362787",
   "metadata": {},
   "source": [
    "### Q16. Two groups of students are given different study materials to prepare for a test. The first group (n1 = 30) has a mean score of 80 with a standard deviation of 10, and the second group (n2 = 40) has a mean score of 75 with a standard deviation of 8. Test the hypothesis that the population means for the two groups are equal with a significance level of 0.01."
   ]
  },
  {
   "cell_type": "code",
   "execution_count": 20,
   "id": "56f1757f-b956-4711-92b1-bcce5030c6c5",
   "metadata": {},
   "outputs": [
    {
     "name": "stdout",
     "output_type": "stream",
     "text": [
      "Null: The population means of two groups are equal i.e u1 = u2,\n",
      "Alternative: The population means of two groups are not equal i.e u1 != u2.\n",
      "\n",
      "Test Statistic: 2.323967729699292\n",
      "p-value: 0.02312301341372599\n",
      "Fail to reject the null hypothesis\n"
     ]
    }
   ],
   "source": [
    "import numpy as np\n",
    "from scipy import stats\n",
    "\n",
    "print(\"\"\"Null: The population means of two groups are equal i.e u1 = u2,\n",
    "Alternative: The population means of two groups are not equal i.e u1 != u2.\\n\"\"\")\n",
    "\n",
    "# Group 1 information\n",
    "sample_mean1 = 80  # Mean score for group 1\n",
    "sample_std1 = 10  # Standard deviation for group 1\n",
    "sample_size1 = 30  # Sample size for group 1\n",
    "\n",
    "# Group 2 information\n",
    "sample_mean2 = 75  # Mean score for group 2\n",
    "sample_std2 = 8  # Standard deviation for group 2\n",
    "sample_size2 = 40  # Sample size for group 2\n",
    "\n",
    "# Calculate the test statistic and p-value\n",
    "t_stat, p_value = stats.ttest_ind_from_stats(\n",
    "    sample_mean1, sample_std1, sample_size1,\n",
    "    sample_mean2, sample_std2, sample_size2,\n",
    "    equal_var=True  # Assuming equal variances\n",
    ")\n",
    "\n",
    "# Significance level\n",
    "alpha = 0.01\n",
    "\n",
    "# Make a decision\n",
    "if p_value < alpha:\n",
    "    decision = \"Reject the null hypothesis\"\n",
    "else:\n",
    "    decision = \"Fail to reject the null hypothesis\"\n",
    "\n",
    "# Print the results\n",
    "print(\"Test Statistic:\", t_stat)\n",
    "print(\"p-value:\", p_value)\n",
    "print(decision)\n"
   ]
  },
  {
   "cell_type": "markdown",
   "id": "c1ca9183-c249-48cc-8fce-097fb73d49f4",
   "metadata": {},
   "source": [
    "### Q17. A marketing company wants to estimate the average number of ads watched by viewers during a TV program. They take a random sample of 50 viewers and find that the sample mean is 4 with a standard deviation of 1.5. Estimate the population mean with a 99% confidence interval."
   ]
  },
  {
   "cell_type": "code",
   "execution_count": 21,
   "id": "d1d14787-4eb6-42c9-ad1d-b604a94d645a",
   "metadata": {},
   "outputs": [
    {
     "name": "stdout",
     "output_type": "stream",
     "text": [
      "2.6666666666666665\n",
      "Therefore population mean for 99% confidence interval is : 4.211177440201363\n"
     ]
    }
   ],
   "source": [
    "import math\n",
    "sample_mean = 4\n",
    "sample_std = 1.5\n",
    "sample_size = 50\n",
    "alpha_level = 0.01\n",
    "hypothesis_mean = 0\n",
    "\n",
    "\n",
    "# calculating z-score:\n",
    "z_score = (sample_mean - hypothesis_mean)/ sample_std \n",
    "print(z_score)\n",
    "\n",
    "# using z-table we can find the critical value.\n",
    "z_critical_value = 0.9955\n",
    "\n",
    "# using formula \"Population mean = Sample mean + z_critical*(Standard error of the mean)\" we can calculate population mean.\n",
    "\n",
    "population_mean = sample_mean + z_critical_value * (sample_std/math.sqrt(sample_size))\n",
    "\n",
    "print(f\"Therefore population mean for 99% confidence interval is : {population_mean}\" )"
   ]
  },
  {
   "cell_type": "code",
   "execution_count": null,
   "id": "27e1a3b8-0d6d-410c-8873-0a9c0777fd6c",
   "metadata": {},
   "outputs": [],
   "source": []
  }
 ],
 "metadata": {
  "kernelspec": {
   "display_name": "Python 3 (ipykernel)",
   "language": "python",
   "name": "python3"
  },
  "language_info": {
   "codemirror_mode": {
    "name": "ipython",
    "version": 3
   },
   "file_extension": ".py",
   "mimetype": "text/x-python",
   "name": "python",
   "nbconvert_exporter": "python",
   "pygments_lexer": "ipython3",
   "version": "3.10.8"
  }
 },
 "nbformat": 4,
 "nbformat_minor": 5
}
